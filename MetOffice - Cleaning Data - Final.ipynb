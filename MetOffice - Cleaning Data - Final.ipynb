{
 "cells": [
  {
   "cell_type": "code",
   "execution_count": 5,
   "metadata": {
    "collapsed": true
   },
   "outputs": [],
   "source": [
    "import json\n",
    "import urllib\n",
    "import pandas as pd\n",
    "import numpy as np\n",
    "from pandas import Series, DataFrame\n",
    "from pandas.io.json import json_normalize"
   ]
  },
  {
   "cell_type": "code",
   "execution_count": 6,
   "metadata": {
    "collapsed": false
   },
   "outputs": [
    {
     "data": {
      "text/html": [
       "<div>\n",
       "<table border=\"1\" class=\"dataframe\">\n",
       "  <thead>\n",
       "    <tr style=\"text-align: right;\">\n",
       "      <th></th>\n",
       "      <th>Rep</th>\n",
       "      <th>value</th>\n",
       "    </tr>\n",
       "  </thead>\n",
       "  <tbody>\n",
       "    <tr>\n",
       "      <th>0</th>\n",
       "      <td>[{u'Dm': u'13', u'D': u'SSW', u'PPd': u'2', u'...</td>\n",
       "      <td>2016-12-07Z</td>\n",
       "    </tr>\n",
       "    <tr>\n",
       "      <th>1</th>\n",
       "      <td>[{u'Dm': u'13', u'D': u'SW', u'PPd': u'76', u'...</td>\n",
       "      <td>2016-12-08Z</td>\n",
       "    </tr>\n",
       "    <tr>\n",
       "      <th>2</th>\n",
       "      <td>[{u'Dm': u'12', u'D': u'SSW', u'PPd': u'9', u'...</td>\n",
       "      <td>2016-12-09Z</td>\n",
       "    </tr>\n",
       "    <tr>\n",
       "      <th>3</th>\n",
       "      <td>[{u'Dm': u'10', u'D': u'WSW', u'PPd': u'16', u...</td>\n",
       "      <td>2016-12-10Z</td>\n",
       "    </tr>\n",
       "    <tr>\n",
       "      <th>4</th>\n",
       "      <td>[{u'Dm': u'8', u'D': u'W', u'PPd': u'4', u'FDm...</td>\n",
       "      <td>2016-12-11Z</td>\n",
       "    </tr>\n",
       "  </tbody>\n",
       "</table>\n",
       "</div>"
      ],
      "text/plain": [
       "                                                 Rep        value\n",
       "0  [{u'Dm': u'13', u'D': u'SSW', u'PPd': u'2', u'...  2016-12-07Z\n",
       "1  [{u'Dm': u'13', u'D': u'SW', u'PPd': u'76', u'...  2016-12-08Z\n",
       "2  [{u'Dm': u'12', u'D': u'SSW', u'PPd': u'9', u'...  2016-12-09Z\n",
       "3  [{u'Dm': u'10', u'D': u'WSW', u'PPd': u'16', u...  2016-12-10Z\n",
       "4  [{u'Dm': u'8', u'D': u'W', u'PPd': u'4', u'FDm...  2016-12-11Z"
      ]
     },
     "execution_count": 6,
     "metadata": {},
     "output_type": "execute_result"
    }
   ],
   "source": [
    "url = 'http://datapoint.metoffice.gov.uk/public/data/val/wxfcs/all/json/310002?res=daily&key=cf64269e-4a94-489f-bad3-7dbffe86e969'\n",
    "\n",
    "response = urllib.urlopen(url)\n",
    "\n",
    "data = json.loads(response.read())\n",
    "\n",
    "data = json_normalize(data['SiteRep']['DV']['Location'])#['Period']['Rep'])\n",
    "data = DataFrame(data['Period'][0])\n",
    "data = data[['Rep', 'value']]\n",
    "data"
   ]
  },
  {
   "cell_type": "code",
   "execution_count": 7,
   "metadata": {
    "collapsed": false
   },
   "outputs": [],
   "source": [
    "forecast = pd.DataFrame()\n",
    "forecast ['Data'] = data['value'].map(lambda x: str(x)[:-1])\n",
    "forecast['Weather'] = None\n",
    "forecast['Temperature'] = None\n",
    "forecast['Days From Pull'] = None\n",
    "\n",
    "for i in range(5):\n",
    "    forecast['Days From Pull'][i] = i\n",
    "    forecast['Weather'][i] = data['Rep'][i][0]['W']\n",
    "    forecast['Temperature'][i] = data['Rep'][i][0]['FDm']"
   ]
  },
  {
   "cell_type": "code",
   "execution_count": 8,
   "metadata": {
    "collapsed": false
   },
   "outputs": [
    {
     "data": {
      "text/html": [
       "<div>\n",
       "<table border=\"1\" class=\"dataframe\">\n",
       "  <thead>\n",
       "    <tr style=\"text-align: right;\">\n",
       "      <th></th>\n",
       "      <th>Data</th>\n",
       "      <th>Weather</th>\n",
       "      <th>Temperature</th>\n",
       "      <th>Days From Pull</th>\n",
       "    </tr>\n",
       "  </thead>\n",
       "  <tbody>\n",
       "    <tr>\n",
       "      <th>0</th>\n",
       "      <td>2016-12-07</td>\n",
       "      <td>1</td>\n",
       "      <td>11</td>\n",
       "      <td>0</td>\n",
       "    </tr>\n",
       "    <tr>\n",
       "      <th>1</th>\n",
       "      <td>2016-12-08</td>\n",
       "      <td>8</td>\n",
       "      <td>11</td>\n",
       "      <td>1</td>\n",
       "    </tr>\n",
       "    <tr>\n",
       "      <th>2</th>\n",
       "      <td>2016-12-09</td>\n",
       "      <td>8</td>\n",
       "      <td>9</td>\n",
       "      <td>2</td>\n",
       "    </tr>\n",
       "    <tr>\n",
       "      <th>3</th>\n",
       "      <td>2016-12-10</td>\n",
       "      <td>7</td>\n",
       "      <td>9</td>\n",
       "      <td>3</td>\n",
       "    </tr>\n",
       "    <tr>\n",
       "      <th>4</th>\n",
       "      <td>2016-12-11</td>\n",
       "      <td>3</td>\n",
       "      <td>6</td>\n",
       "      <td>4</td>\n",
       "    </tr>\n",
       "  </tbody>\n",
       "</table>\n",
       "</div>"
      ],
      "text/plain": [
       "         Data Weather Temperature Days From Pull\n",
       "0  2016-12-07       1          11              0\n",
       "1  2016-12-08       8          11              1\n",
       "2  2016-12-09       8           9              2\n",
       "3  2016-12-10       7           9              3\n",
       "4  2016-12-11       3           6              4"
      ]
     },
     "execution_count": 8,
     "metadata": {},
     "output_type": "execute_result"
    }
   ],
   "source": [
    "forecast"
   ]
  },
  {
   "cell_type": "code",
   "execution_count": null,
   "metadata": {
    "collapsed": false
   },
   "outputs": [],
   "source": []
  },
  {
   "cell_type": "code",
   "execution_count": null,
   "metadata": {
    "collapsed": false
   },
   "outputs": [],
   "source": []
  },
  {
   "cell_type": "code",
   "execution_count": null,
   "metadata": {
    "collapsed": true
   },
   "outputs": [],
   "source": []
  },
  {
   "cell_type": "code",
   "execution_count": null,
   "metadata": {
    "collapsed": true
   },
   "outputs": [],
   "source": []
  }
 ],
 "metadata": {
  "anaconda-cloud": {},
  "kernelspec": {
   "display_name": "Python [conda root]",
   "language": "python",
   "name": "conda-root-py"
  },
  "language_info": {
   "codemirror_mode": {
    "name": "ipython",
    "version": 2
   },
   "file_extension": ".py",
   "mimetype": "text/x-python",
   "name": "python",
   "nbconvert_exporter": "python",
   "pygments_lexer": "ipython2",
   "version": "2.7.12"
  }
 },
 "nbformat": 4,
 "nbformat_minor": 1
}
