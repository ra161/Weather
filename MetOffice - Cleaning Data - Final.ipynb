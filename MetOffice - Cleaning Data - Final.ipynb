{
 "cells": [
  {
   "cell_type": "code",
   "execution_count": 1,
   "metadata": {
    "collapsed": true
   },
   "outputs": [],
   "source": [
    "import json\n",
    "import urllib\n",
    "import pandas as pd\n",
    "import numpy as np\n",
    "from pandas import Series, DataFrame\n",
    "from pandas.io.json import json_normalize"
   ]
  },
  {
   "cell_type": "code",
   "execution_count": 12,
   "metadata": {
    "collapsed": false
   },
   "outputs": [
    {
     "data": {
      "text/html": [
       "<div>\n",
       "<table border=\"1\" class=\"dataframe\">\n",
       "  <thead>\n",
       "    <tr style=\"text-align: right;\">\n",
       "      <th></th>\n",
       "      <th>Rep</th>\n",
       "      <th>value</th>\n",
       "    </tr>\n",
       "  </thead>\n",
       "  <tbody>\n",
       "    <tr>\n",
       "      <th>0</th>\n",
       "      <td>[{u'Dm': u'1', u'D': u'W', u'PPd': u'4', u'FDm...</td>\n",
       "      <td>2016-12-05Z</td>\n",
       "    </tr>\n",
       "    <tr>\n",
       "      <th>1</th>\n",
       "      <td>[{u'Dm': u'4', u'D': u'WSW', u'PPd': u'14', u'...</td>\n",
       "      <td>2016-12-06Z</td>\n",
       "    </tr>\n",
       "    <tr>\n",
       "      <th>2</th>\n",
       "      <td>[{u'Dm': u'11', u'D': u'SW', u'PPd': u'47', u'...</td>\n",
       "      <td>2016-12-07Z</td>\n",
       "    </tr>\n",
       "    <tr>\n",
       "      <th>3</th>\n",
       "      <td>[{u'Dm': u'8', u'D': u'WSW', u'PPd': u'8', u'F...</td>\n",
       "      <td>2016-12-08Z</td>\n",
       "    </tr>\n",
       "    <tr>\n",
       "      <th>4</th>\n",
       "      <td>[{u'Dm': u'9', u'D': u'SSW', u'PPd': u'44', u'...</td>\n",
       "      <td>2016-12-09Z</td>\n",
       "    </tr>\n",
       "  </tbody>\n",
       "</table>\n",
       "</div>"
      ],
      "text/plain": [
       "                                                 Rep        value\n",
       "0  [{u'Dm': u'1', u'D': u'W', u'PPd': u'4', u'FDm...  2016-12-05Z\n",
       "1  [{u'Dm': u'4', u'D': u'WSW', u'PPd': u'14', u'...  2016-12-06Z\n",
       "2  [{u'Dm': u'11', u'D': u'SW', u'PPd': u'47', u'...  2016-12-07Z\n",
       "3  [{u'Dm': u'8', u'D': u'WSW', u'PPd': u'8', u'F...  2016-12-08Z\n",
       "4  [{u'Dm': u'9', u'D': u'SSW', u'PPd': u'44', u'...  2016-12-09Z"
      ]
     },
     "execution_count": 12,
     "metadata": {},
     "output_type": "execute_result"
    }
   ],
   "source": [
    "url = 'http://datapoint.metoffice.gov.uk/public/data/val/wxfcs/all/json/3081?res=daily&key=cf64269e-4a94-489f-bad3-7dbffe86e969'\n",
    "\n",
    "response = urllib.urlopen(url)\n",
    "\n",
    "data = json.loads(response.read())\n",
    "\n",
    "data = json_normalize(data['SiteRep']['DV']['Location'])#['Period']['Rep'])\n",
    "data = DataFrame(data['Period'][0])\n",
    "data = data[['Rep', 'value']]\n",
    "data"
   ]
  },
  {
   "cell_type": "code",
   "execution_count": 15,
   "metadata": {
    "collapsed": true
   },
   "outputs": [],
   "source": [
    "forecast = pd.DataFrame()\n",
    "forecast ['Data'] = data['value'].map(lambda x: str(x)[:-1])\n",
    "forecast['Weather'] = None\n",
    "\n",
    "for i in range(5):\n",
    "    forecast['Weather'][i] = data['Rep'][i][0]['W']"
   ]
  },
  {
   "cell_type": "code",
   "execution_count": 16,
   "metadata": {
    "collapsed": false
   },
   "outputs": [
    {
     "data": {
      "text/html": [
       "<div>\n",
       "<table border=\"1\" class=\"dataframe\">\n",
       "  <thead>\n",
       "    <tr style=\"text-align: right;\">\n",
       "      <th></th>\n",
       "      <th>Data</th>\n",
       "      <th>Weather</th>\n",
       "    </tr>\n",
       "  </thead>\n",
       "  <tbody>\n",
       "    <tr>\n",
       "      <th>0</th>\n",
       "      <td>2016-12-05</td>\n",
       "      <td>3</td>\n",
       "    </tr>\n",
       "    <tr>\n",
       "      <th>1</th>\n",
       "      <td>2016-12-06</td>\n",
       "      <td>7</td>\n",
       "    </tr>\n",
       "    <tr>\n",
       "      <th>2</th>\n",
       "      <td>2016-12-07</td>\n",
       "      <td>7</td>\n",
       "    </tr>\n",
       "    <tr>\n",
       "      <th>3</th>\n",
       "      <td>2016-12-08</td>\n",
       "      <td>7</td>\n",
       "    </tr>\n",
       "    <tr>\n",
       "      <th>4</th>\n",
       "      <td>2016-12-09</td>\n",
       "      <td>12</td>\n",
       "    </tr>\n",
       "  </tbody>\n",
       "</table>\n",
       "</div>"
      ],
      "text/plain": [
       "         Data Weather\n",
       "0  2016-12-05       3\n",
       "1  2016-12-06       7\n",
       "2  2016-12-07       7\n",
       "3  2016-12-08       7\n",
       "4  2016-12-09      12"
      ]
     },
     "execution_count": 16,
     "metadata": {},
     "output_type": "execute_result"
    }
   ],
   "source": [
    "forecast"
   ]
  },
  {
   "cell_type": "code",
   "execution_count": null,
   "metadata": {
    "collapsed": true
   },
   "outputs": [],
   "source": []
  }
 ],
 "metadata": {
  "kernelspec": {
   "display_name": "Python [conda root]",
   "language": "python",
   "name": "conda-root-py"
  },
  "language_info": {
   "codemirror_mode": {
    "name": "ipython",
    "version": 2
   },
   "file_extension": ".py",
   "mimetype": "text/x-python",
   "name": "python",
   "nbconvert_exporter": "python",
   "pygments_lexer": "ipython2",
   "version": "2.7.12"
  }
 },
 "nbformat": 4,
 "nbformat_minor": 1
}
