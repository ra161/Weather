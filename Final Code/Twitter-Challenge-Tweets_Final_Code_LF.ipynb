{
 "cells": [
  {
   "cell_type": "code",
   "execution_count": 1,
   "metadata": {
    "collapsed": false
   },
   "outputs": [],
   "source": [
    "import scipy\n",
    "import numpy as np\n",
    "import pandas as pd\n",
    "import plotly.plotly as py\n",
    "# import visplots\n",
    "from plotly.graph_objs import *\n",
    "from plotly.offline import download_plotlyjs, init_notebook_mode, iplot\n",
    "from sklearn import preprocessing, metrics\n",
    "from sklearn.cross_validation import train_test_split, cross_val_score\n",
    "from sklearn.neighbors import KNeighborsClassifier\n",
    "from sklearn.ensemble import RandomForestClassifier\n",
    "from sklearn.tree import DecisionTreeClassifier\n",
    "from sklearn.grid_search import GridSearchCV, RandomizedSearchCV\n",
    "from scipy.stats.distributions import randint\n",
    "import csv\n",
    "import numpy as np\n",
    "from pandas import Series, DataFrame\n",
    "import plotly.graph_objs as go\n",
    "from plotly import tools\n",
    "\n",
    "from nltk import word_tokenize, wordpunct_tokenize\n",
    "from nltk.tokenize import wordpunct_tokenize\n",
    "from nltk.probability import FreqDist, DictionaryProbDist, ELEProbDist, sum_logs\n",
    "from nltk.classify.api import ClassifierI\n",
    "\n",
    "# getting around the ascii characters\n",
    "from django.utils.encoding import smart_str, smart_unicode"
   ]
  },
  {
   "cell_type": "code",
   "execution_count": 2,
   "metadata": {
    "collapsed": false
   },
   "outputs": [
    {
     "data": {
      "text/plain": [
       "13453"
      ]
     },
     "execution_count": 2,
     "metadata": {},
     "output_type": "execute_result"
    }
   ],
   "source": [
    "# Import the clean tweets (text and date)\n",
    "twitter_raw = pd.read_csv(\"C:\\\\Data\\\\Twitter\\\\Tweets\\\\Clean_Tweets1.csv\", sep=',', delimiter=None)\n",
    "twitter_raw['text'].count()"
   ]
  },
  {
   "cell_type": "markdown",
   "metadata": {},
   "source": [
    "# Delete tweets containing key words"
   ]
  },
  {
   "cell_type": "code",
   "execution_count": 3,
   "metadata": {
    "collapsed": false
   },
   "outputs": [
    {
     "data": {
      "text/plain": [
       "12784"
      ]
     },
     "execution_count": 3,
     "metadata": {},
     "output_type": "execute_result"
    }
   ],
   "source": [
    "twitter_cleaned=twitter_raw[twitter_raw['text'].str.lower().str.contains \\\n",
    "                   (\"great smog of london|spanish|sex|porn|anal|pov|bbw|milf|sexy|shemale|sexyfishrestaurant|\\\n",
    "                   nude|sluts|super hot blonde|adult video|erotic|18+|dirty fun|killer fog|rihanna\")==False]\n",
    "\n",
    "twitter_cleaned = twitter_cleaned.reset_index(drop=True)\n",
    "\n",
    "twitter_cleaned['text'].count()"
   ]
  },
  {
   "cell_type": "markdown",
   "metadata": {
    "collapsed": false
   },
   "source": [
    "#  Machine Learning to clean tweets"
   ]
  },
  {
   "cell_type": "markdown",
   "metadata": {},
   "source": [
    "# 1. Create the Maching learning"
   ]
  },
  {
   "cell_type": "code",
   "execution_count": 4,
   "metadata": {
    "collapsed": true
   },
   "outputs": [],
   "source": [
    "twlist = []\n",
    "\n",
    "with open(r\"C:\\\\Git\\\\Weather\\\\trained_weather_NoRT.csv\", \"r\") as t:\n",
    "    tweets_raw = pd.read_csv(t)\n",
    "\n",
    "tweets = tweets_raw[['text', 'weather']].values.tolist()\n",
    "\n",
    "twlist = [tuple(l) for l in tweets] # turn nested list of lists into list of tuples\n",
    "twtokens = []"
   ]
  },
  {
   "cell_type": "code",
   "execution_count": 5,
   "metadata": {
    "collapsed": true
   },
   "outputs": [],
   "source": [
    "for (words, weather) in twlist:\n",
    "#    words_filtered = [e.lower().decode('utf8') for e in words.split() if len(e) >= 3 and len(e) <= 10] # and <= 10\n",
    "    words_filtered = [unicode(e.lower(), errors = 'replace') for e in words.split() if len(e) >= 3 and len(e) <= 10] # and <= 10\n",
    "    twtokens.append((words_filtered, weather))"
   ]
  },
  {
   "cell_type": "code",
   "execution_count": 6,
   "metadata": {
    "collapsed": true
   },
   "outputs": [],
   "source": [
    "import nltk\n",
    "def get_words_in_tweets(tweets):\n",
    "    all_words = []\n",
    "    for (words, weather) in tweets:\n",
    "        all_words.extend(words)\n",
    "    return all_words\n",
    "\n",
    "def get_word_features(wordlist):\n",
    "    wordlist = nltk.FreqDist(wordlist)\n",
    "    word_features = wordlist.keys()\n",
    "    return word_features"
   ]
  },
  {
   "cell_type": "code",
   "execution_count": 7,
   "metadata": {
    "collapsed": true
   },
   "outputs": [],
   "source": [
    "word_features = get_word_features(get_words_in_tweets(twtokens))"
   ]
  },
  {
   "cell_type": "code",
   "execution_count": 8,
   "metadata": {
    "collapsed": true
   },
   "outputs": [],
   "source": [
    "# The Classifier\n",
    "def extract_features(document):\n",
    "    document_words = set(document)\n",
    "    features = {}\n",
    "    for word in word_features:\n",
    "        features['contains(%s)' % word] = (word in document_words)\n",
    "    return features"
   ]
  },
  {
   "cell_type": "code",
   "execution_count": 10,
   "metadata": {
    "collapsed": false
   },
   "outputs": [
    {
     "name": "stdout",
     "output_type": "stream",
     "text": [
      "Most Informative Features\n",
      "    contains(summer���s) = False              no : yes    =      1.0 : 1.0\n",
      "           contains(66%) = False              no : yes    =      1.0 : 1.0\n",
      "      contains(forecast) = False              no : yes    =      1.0 : 1.0\n",
      "     contains(@thedoors) = False              no : yes    =      1.0 : 1.0\n",
      "      contains(@pc24fym) = False              no : yes    =      1.0 : 1.0\n",
      "    contains(infinit...) = False              no : yes    =      1.0 : 1.0\n",
      "       contains(finally) = False              no : yes    =      1.0 : 1.0\n",
      "        contains(1012mb) = False              no : yes    =      1.0 : 1.0\n",
      "       contains(provide) = False              no : yes    =      1.0 : 1.0\n",
      "    contains(@moosawi17) = False              no : yes    =      1.0 : 1.0\n",
      "      contains(mentally) = False              no : yes    =      1.0 : 1.0\n",
      "          contains(#now) = False              no : yes    =      1.0 : 1.0\n",
      "         contains(rainy) = False              no : yes    =      1.0 : 1.0\n",
      "       contains(anthrax) = False              no : yes    =      1.0 : 1.0\n",
      "         contains(youre) = False              no : yes    =      1.0 : 1.0\n",
      "         contains(#oral) = False              no : yes    =      1.0 : 1.0\n",
      "         contains(chick) = False              no : yes    =      1.0 : 1.0\n",
      "         contains(spray) = False              no : yes    =      1.0 : 1.0\n",
      "         contains(jazdy) = False              no : yes    =      1.0 : 1.0\n",
      "       contains(chicken) = False              no : yes    =      1.0 : 1.0\n",
      "        contains(deluxe) = False              no : yes    =      1.0 : 1.0\n",
      "          contains(memo) = False              no : yes    =      1.0 : 1.0\n",
      "      contains(project.) = False              no : yes    =      1.0 : 1.0\n",
      "       contains(12.9��c) = False              no : yes    =      1.0 : 1.0\n",
      "         contains(quick) = False              no : yes    =      1.0 : 1.0\n",
      "       contains(ignor��) = False              no : yes    =      1.0 : 1.0\n",
      "           contains(15c) = False              no : yes    =      1.0 : 1.0\n",
      "           contains(e10) = False              no : yes    =      1.0 : 1.0\n",
      "       contains(dropout) = False              no : yes    =      1.0 : 1.0\n",
      "         contains(proof) = False              no : yes    =      1.0 : 1.0\n",
      "           contains(500) = False              no : yes    =      1.0 : 1.0\n",
      "    contains(#metoffice) = False              no : yes    =      1.0 : 1.0\n",
      "None\n"
     ]
    }
   ],
   "source": [
    "training_set = nltk.classify.apply_features(extract_features, tweets)\n",
    "\n",
    "# train the classifier\n",
    "classifier = nltk.NaiveBayesClassifier.train(training_set)\n",
    "\n",
    "print classifier.show_most_informative_features(32)"
   ]
  },
  {
   "cell_type": "markdown",
   "metadata": {},
   "source": [
    "# 2. Classify London Tweets"
   ]
  },
  {
   "cell_type": "code",
   "execution_count": 13,
   "metadata": {
    "collapsed": false
   },
   "outputs": [],
   "source": [
    "df = pd.DataFrame(twitter_cleaned)\n",
    "\n",
    "tx = df['text']\n",
    "df['text'] = tx"
   ]
  },
  {
   "cell_type": "code",
   "execution_count": 14,
   "metadata": {
    "collapsed": true
   },
   "outputs": [],
   "source": [
    "dffinal = df[['text']]\n",
    "dffinal['date'] = df['Date']"
   ]
  },
  {
   "cell_type": "code",
   "execution_count": 15,
   "metadata": {
    "collapsed": false
   },
   "outputs": [
    {
     "name": "stderr",
     "output_type": "stream",
     "text": [
      "C:\\Users\\Student29\\Anaconda2\\lib\\site-packages\\ipykernel\\__main__.py:17: SettingWithCopyWarning:\n",
      "\n",
      "\n",
      "A value is trying to be set on a copy of a slice from a DataFrame\n",
      "\n",
      "See the caveats in the documentation: http://pandas.pydata.org/pandas-docs/stable/indexing.html#indexing-view-versus-copy\n",
      "\n",
      "C:\\Users\\Student29\\Anaconda2\\lib\\site-packages\\pandas\\core\\indexing.py:140: SettingWithCopyWarning:\n",
      "\n",
      "\n",
      "A value is trying to be set on a copy of a slice from a DataFrame\n",
      "\n",
      "See the caveats in the documentation: http://pandas.pydata.org/pandas-docs/stable/indexing.html#indexing-view-versus-copy\n",
      "\n"
     ]
    }
   ],
   "source": [
    "for i in range(len(df.index)):\n",
    "    if classifier.classify(extract_features((smart_str(df['text'][i])).split())) == 'yes':\n",
    "        dffinal['text'][i] = smart_str(df['text'][i])\n",
    "    else:\n",
    "        dffinal['text'][i] = None\n",
    "\n",
    "count = 0\n",
    "for i in range(len(df.index)):\n",
    "    if dffinal['text'][i] != None:\n",
    "        count += 1\n",
    "\n",
    "count2 = 0\n",
    "dffinaltrained = pd.DataFrame({'date' : pd.Series(range(count), index=range(count)), 'text' : pd.Series(range(count), index=range(count))})\n",
    "for i in range(len(df.index)):\n",
    "    if dffinal['text'][i] != None:\n",
    "        dffinaltrained['text'][count2] = dffinal['text'][i]\n",
    "        dffinaltrained['date'][count2] = dffinal['date'][i]\n",
    "        count2 += 1"
   ]
  },
  {
   "cell_type": "code",
   "execution_count": 16,
   "metadata": {
    "collapsed": false
   },
   "outputs": [
    {
     "data": {
      "text/plain": [
       "11603"
      ]
     },
     "execution_count": 16,
     "metadata": {},
     "output_type": "execute_result"
    }
   ],
   "source": [
    "dffinaltrained['text'].count()"
   ]
  },
  {
   "cell_type": "markdown",
   "metadata": {},
   "source": [
    "# Define function which will count the weather words"
   ]
  },
  {
   "cell_type": "code",
   "execution_count": 17,
   "metadata": {
    "collapsed": false
   },
   "outputs": [],
   "source": [
    "def wordCount(tweet):\n",
    "    # List of words we are looking at\n",
    "    weather_words = ['breeze', 'breezy', 'cloudy', 'cold', 'ice', 'icy', 'icey', 'drizzle', 'frost', 'wind', 'mild', 'dew', \n",
    "                     'freezing', 'downpour', 'shower', 'rain', 'frost', 'nippy', 'hail', 'temperature', 'gail', 'gust',\n",
    "                     'sleet', 'heat', 'storm', 'slush', 'fog', 'foggy', 'flood', 'visibility', 'warm', 'warmer',\n",
    "                     'mist', 'frosty', 'misty', 'chilly', 'thunder', 'lightning', 'snow', 'snowing', 'hot', 'sun', 'sunny',\n",
    "                     'boiling', 'baltic', 'burn']\n",
    "    # Create a new dictionnary\n",
    "    counts = dict()\n",
    "    for t in tweet:\n",
    "        if t in weather_words:\n",
    "            counts[t] = counts.get(t,0) + 1\n",
    "\n",
    "    return counts"
   ]
  },
  {
   "cell_type": "markdown",
   "metadata": {},
   "source": [
    "# Get the number of final clean tweets per day"
   ]
  },
  {
   "cell_type": "code",
   "execution_count": 18,
   "metadata": {
    "collapsed": false
   },
   "outputs": [
    {
     "data": {
      "text/html": [
       "<div>\n",
       "<table border=\"1\" class=\"dataframe\">\n",
       "  <thead>\n",
       "    <tr style=\"text-align: right;\">\n",
       "      <th></th>\n",
       "      <th>date</th>\n",
       "      <th>total_count</th>\n",
       "    </tr>\n",
       "  </thead>\n",
       "  <tbody>\n",
       "    <tr>\n",
       "      <th>0</th>\n",
       "      <td>2016-12-14</td>\n",
       "      <td>300</td>\n",
       "    </tr>\n",
       "    <tr>\n",
       "      <th>1</th>\n",
       "      <td>2016-12-15</td>\n",
       "      <td>255</td>\n",
       "    </tr>\n",
       "    <tr>\n",
       "      <th>2</th>\n",
       "      <td>2016-12-16</td>\n",
       "      <td>795</td>\n",
       "    </tr>\n",
       "    <tr>\n",
       "      <th>3</th>\n",
       "      <td>2016-12-19</td>\n",
       "      <td>791</td>\n",
       "    </tr>\n",
       "    <tr>\n",
       "      <th>4</th>\n",
       "      <td>2016-12-20</td>\n",
       "      <td>804</td>\n",
       "    </tr>\n",
       "    <tr>\n",
       "      <th>5</th>\n",
       "      <td>2016-12-21</td>\n",
       "      <td>421</td>\n",
       "    </tr>\n",
       "    <tr>\n",
       "      <th>6</th>\n",
       "      <td>2016-12-22</td>\n",
       "      <td>463</td>\n",
       "    </tr>\n",
       "    <tr>\n",
       "      <th>7</th>\n",
       "      <td>2016-12-23</td>\n",
       "      <td>438</td>\n",
       "    </tr>\n",
       "    <tr>\n",
       "      <th>8</th>\n",
       "      <td>2016-12-24</td>\n",
       "      <td>447</td>\n",
       "    </tr>\n",
       "    <tr>\n",
       "      <th>9</th>\n",
       "      <td>2016-12-25</td>\n",
       "      <td>460</td>\n",
       "    </tr>\n",
       "    <tr>\n",
       "      <th>10</th>\n",
       "      <td>2016-12-26</td>\n",
       "      <td>403</td>\n",
       "    </tr>\n",
       "    <tr>\n",
       "      <th>11</th>\n",
       "      <td>2016-12-27</td>\n",
       "      <td>404</td>\n",
       "    </tr>\n",
       "    <tr>\n",
       "      <th>12</th>\n",
       "      <td>2016-12-28</td>\n",
       "      <td>466</td>\n",
       "    </tr>\n",
       "    <tr>\n",
       "      <th>13</th>\n",
       "      <td>2016-12-30</td>\n",
       "      <td>458</td>\n",
       "    </tr>\n",
       "    <tr>\n",
       "      <th>14</th>\n",
       "      <td>2016-12-31</td>\n",
       "      <td>482</td>\n",
       "    </tr>\n",
       "    <tr>\n",
       "      <th>15</th>\n",
       "      <td>2017-01-01</td>\n",
       "      <td>431</td>\n",
       "    </tr>\n",
       "    <tr>\n",
       "      <th>16</th>\n",
       "      <td>2017-01-02</td>\n",
       "      <td>272</td>\n",
       "    </tr>\n",
       "    <tr>\n",
       "      <th>17</th>\n",
       "      <td>2017-01-03</td>\n",
       "      <td>435</td>\n",
       "    </tr>\n",
       "    <tr>\n",
       "      <th>18</th>\n",
       "      <td>2017-01-04</td>\n",
       "      <td>445</td>\n",
       "    </tr>\n",
       "    <tr>\n",
       "      <th>19</th>\n",
       "      <td>2017-01-05</td>\n",
       "      <td>460</td>\n",
       "    </tr>\n",
       "    <tr>\n",
       "      <th>20</th>\n",
       "      <td>2017-01-06</td>\n",
       "      <td>467</td>\n",
       "    </tr>\n",
       "    <tr>\n",
       "      <th>21</th>\n",
       "      <td>2017-01-08</td>\n",
       "      <td>434</td>\n",
       "    </tr>\n",
       "    <tr>\n",
       "      <th>22</th>\n",
       "      <td>2017-01-09</td>\n",
       "      <td>439</td>\n",
       "    </tr>\n",
       "    <tr>\n",
       "      <th>23</th>\n",
       "      <td>2017-01-10</td>\n",
       "      <td>398</td>\n",
       "    </tr>\n",
       "    <tr>\n",
       "      <th>24</th>\n",
       "      <td>2017-01-11</td>\n",
       "      <td>432</td>\n",
       "    </tr>\n",
       "  </tbody>\n",
       "</table>\n",
       "</div>"
      ],
      "text/plain": [
       "          date  total_count\n",
       "0   2016-12-14          300\n",
       "1   2016-12-15          255\n",
       "2   2016-12-16          795\n",
       "3   2016-12-19          791\n",
       "4   2016-12-20          804\n",
       "5   2016-12-21          421\n",
       "6   2016-12-22          463\n",
       "7   2016-12-23          438\n",
       "8   2016-12-24          447\n",
       "9   2016-12-25          460\n",
       "10  2016-12-26          403\n",
       "11  2016-12-27          404\n",
       "12  2016-12-28          466\n",
       "13  2016-12-30          458\n",
       "14  2016-12-31          482\n",
       "15  2017-01-01          431\n",
       "16  2017-01-02          272\n",
       "17  2017-01-03          435\n",
       "18  2017-01-04          445\n",
       "19  2017-01-05          460\n",
       "20  2017-01-06          467\n",
       "21  2017-01-08          434\n",
       "22  2017-01-09          439\n",
       "23  2017-01-10          398\n",
       "24  2017-01-11          432"
      ]
     },
     "execution_count": 18,
     "metadata": {},
     "output_type": "execute_result"
    }
   ],
   "source": [
    "# Check the days and number of tweets per day and create dataframe for nb of tweets per day\n",
    "df_count = dffinaltrained.groupby(['date']).count()\n",
    "\n",
    "# Resets index and rename column \"text\" as total_count\n",
    "df_count.reset_index(level = 0, inplace = True)\n",
    "df_count.rename(columns = {'text':'total_count'}, inplace = True)\n",
    "\n",
    "df_count"
   ]
  },
  {
   "cell_type": "code",
   "execution_count": 19,
   "metadata": {
    "collapsed": false
   },
   "outputs": [
    {
     "data": {
      "text/plain": [
       "Index([u'2016-12-14', u'2016-12-15', u'2016-12-16', u'2016-12-19',\n",
       "       u'2016-12-20', u'2016-12-21', u'2016-12-22', u'2016-12-23',\n",
       "       u'2016-12-24', u'2016-12-25', u'2016-12-26', u'2016-12-27',\n",
       "       u'2016-12-28', u'2016-12-30', u'2016-12-31', u'2017-01-01',\n",
       "       u'2017-01-02', u'2017-01-03', u'2017-01-04', u'2017-01-05',\n",
       "       u'2017-01-06', u'2017-01-08', u'2017-01-09', u'2017-01-10',\n",
       "       u'2017-01-11'],\n",
       "      dtype='object', name=u'date')"
      ]
     },
     "execution_count": 19,
     "metadata": {},
     "output_type": "execute_result"
    }
   ],
   "source": [
    "# Create a new dataframe with the date\n",
    "tw_date = dffinaltrained.groupby(['date']).count()\n",
    "tw_date.index"
   ]
  },
  {
   "cell_type": "markdown",
   "metadata": {},
   "source": [
    "# Going through all tweets then count words and put them in final DataFrame (per day)"
   ]
  },
  {
   "cell_type": "code",
   "execution_count": 20,
   "metadata": {
    "collapsed": false
   },
   "outputs": [],
   "source": [
    "# Initialise the final dataframe\n",
    "tw_final = DataFrame()\n",
    "tw_final['date'] = tw_date.index\n",
    "tw_final['Keywords'] = None\n",
    "\n",
    "# list of tuples (keyword, count) - its length represents the number of keywords encountered\n",
    "keyw_tup=[]\n",
    "\n",
    "# list with the number of keywords per day\n",
    "keyw_count_day=[]"
   ]
  },
  {
   "cell_type": "code",
   "execution_count": 21,
   "metadata": {
    "collapsed": false
   },
   "outputs": [],
   "source": [
    "for i in range(len(tw_date.index)):\n",
    "    df = dffinaltrained[(dffinaltrained['date'] == tw_final['date'][i])]\n",
    "    twitterlist = []\n",
    "    for t in range(len(df.index)):\n",
    "        twitterlist.append(dffinaltrained['text'][t].lower().split())\n",
    "\n",
    "    # Flatten the list so all values in the same list\n",
    "    tweets_flatten = [j for sublist in twitterlist for j in sublist]\n",
    "\n",
    "    # Counting the number of key words in the tweets\n",
    "    d = wordCount(tweets_flatten)\n",
    "    \n",
    "    # give a list of the sorted tweets, with most popular coming first\n",
    "    d2 = sorted(d.items(), key = lambda x: x[1], reverse = True)\n",
    "    keyw_tup.append(d2)\n",
    "    tw_final['Keywords'][i] = keyw_tup[i]\n",
    "    keyw_count_day.append(len(d2)) "
   ]
  },
  {
   "cell_type": "code",
   "execution_count": 22,
   "metadata": {
    "collapsed": true
   },
   "outputs": [],
   "source": [
    "#if no count keyword for that day, inserts (0,0)\n",
    "for i in range(len(tw_date.index)):\n",
    "    if len(tw_final['Keywords'][i])<max(keyw_count_day):\n",
    "        for j in range (max(keyw_count_day)-len(tw_final['Keywords'][i])):\n",
    "            tw_final['Keywords'][i].append((0,0))\n"
   ]
  },
  {
   "cell_type": "code",
   "execution_count": 23,
   "metadata": {
    "collapsed": false
   },
   "outputs": [
    {
     "data": {
      "text/html": [
       "<div>\n",
       "<table border=\"1\" class=\"dataframe\">\n",
       "  <thead>\n",
       "    <tr style=\"text-align: right;\">\n",
       "      <th></th>\n",
       "      <th>date</th>\n",
       "      <th>Keyword_1</th>\n",
       "      <th>Keyword_2</th>\n",
       "      <th>Keyword_3</th>\n",
       "      <th>Keyword_4</th>\n",
       "      <th>Keyword_5</th>\n",
       "      <th>Keyword_6</th>\n",
       "      <th>Keyword_7</th>\n",
       "      <th>Keyword_8</th>\n",
       "      <th>Keyword_9</th>\n",
       "      <th>...</th>\n",
       "      <th>Keyword_21</th>\n",
       "      <th>Keyword_22</th>\n",
       "      <th>Keyword_23</th>\n",
       "      <th>Keyword_24</th>\n",
       "      <th>Keyword_25</th>\n",
       "      <th>Keyword_26</th>\n",
       "      <th>Keyword_27</th>\n",
       "      <th>Keyword_28</th>\n",
       "      <th>Keyword_29</th>\n",
       "      <th>Keyword_30</th>\n",
       "    </tr>\n",
       "  </thead>\n",
       "  <tbody>\n",
       "    <tr>\n",
       "      <th>0</th>\n",
       "      <td>2016-12-14</td>\n",
       "      <td>(fog, 35)</td>\n",
       "      <td>(hot, 33)</td>\n",
       "      <td>(cold, 33)</td>\n",
       "      <td>(sun, 32)</td>\n",
       "      <td>(warm, 17)</td>\n",
       "      <td>(ice, 12)</td>\n",
       "      <td>(sunny, 9)</td>\n",
       "      <td>(snow, 8)</td>\n",
       "      <td>(wind, 8)</td>\n",
       "      <td>...</td>\n",
       "      <td>(heat, 1)</td>\n",
       "      <td>(0, 0)</td>\n",
       "      <td>(0, 0)</td>\n",
       "      <td>(0, 0)</td>\n",
       "      <td>(0, 0)</td>\n",
       "      <td>(0, 0)</td>\n",
       "      <td>(0, 0)</td>\n",
       "      <td>(0, 0)</td>\n",
       "      <td>(0, 0)</td>\n",
       "      <td>(0, 0)</td>\n",
       "    </tr>\n",
       "    <tr>\n",
       "      <th>1</th>\n",
       "      <td>2016-12-15</td>\n",
       "      <td>(fog, 31)</td>\n",
       "      <td>(hot, 29)</td>\n",
       "      <td>(sun, 28)</td>\n",
       "      <td>(cold, 28)</td>\n",
       "      <td>(warm, 16)</td>\n",
       "      <td>(sunny, 9)</td>\n",
       "      <td>(ice, 8)</td>\n",
       "      <td>(wind, 7)</td>\n",
       "      <td>(temperature, 6)</td>\n",
       "      <td>...</td>\n",
       "      <td>(0, 0)</td>\n",
       "      <td>(0, 0)</td>\n",
       "      <td>(0, 0)</td>\n",
       "      <td>(0, 0)</td>\n",
       "      <td>(0, 0)</td>\n",
       "      <td>(0, 0)</td>\n",
       "      <td>(0, 0)</td>\n",
       "      <td>(0, 0)</td>\n",
       "      <td>(0, 0)</td>\n",
       "      <td>(0, 0)</td>\n",
       "    </tr>\n",
       "    <tr>\n",
       "      <th>2</th>\n",
       "      <td>2016-12-16</td>\n",
       "      <td>(hot, 74)</td>\n",
       "      <td>(snow, 66)</td>\n",
       "      <td>(fog, 61)</td>\n",
       "      <td>(cold, 60)</td>\n",
       "      <td>(sun, 60)</td>\n",
       "      <td>(warm, 48)</td>\n",
       "      <td>(storm, 44)</td>\n",
       "      <td>(ice, 33)</td>\n",
       "      <td>(wind, 21)</td>\n",
       "      <td>...</td>\n",
       "      <td>(boiling, 4)</td>\n",
       "      <td>(frost, 3)</td>\n",
       "      <td>(visibility, 3)</td>\n",
       "      <td>(hail, 2)</td>\n",
       "      <td>(frosty, 1)</td>\n",
       "      <td>(icy, 1)</td>\n",
       "      <td>(snowing, 1)</td>\n",
       "      <td>(freezing, 1)</td>\n",
       "      <td>(foggy, 1)</td>\n",
       "      <td>(baltic, 1)</td>\n",
       "    </tr>\n",
       "    <tr>\n",
       "      <th>3</th>\n",
       "      <td>2016-12-19</td>\n",
       "      <td>(hot, 74)</td>\n",
       "      <td>(snow, 66)</td>\n",
       "      <td>(fog, 61)</td>\n",
       "      <td>(cold, 60)</td>\n",
       "      <td>(sun, 60)</td>\n",
       "      <td>(warm, 46)</td>\n",
       "      <td>(storm, 44)</td>\n",
       "      <td>(ice, 33)</td>\n",
       "      <td>(wind, 21)</td>\n",
       "      <td>...</td>\n",
       "      <td>(boiling, 4)</td>\n",
       "      <td>(frost, 3)</td>\n",
       "      <td>(visibility, 3)</td>\n",
       "      <td>(hail, 2)</td>\n",
       "      <td>(frosty, 1)</td>\n",
       "      <td>(icy, 1)</td>\n",
       "      <td>(snowing, 1)</td>\n",
       "      <td>(freezing, 1)</td>\n",
       "      <td>(foggy, 1)</td>\n",
       "      <td>(baltic, 1)</td>\n",
       "    </tr>\n",
       "    <tr>\n",
       "      <th>4</th>\n",
       "      <td>2016-12-20</td>\n",
       "      <td>(hot, 76)</td>\n",
       "      <td>(snow, 66)</td>\n",
       "      <td>(cold, 63)</td>\n",
       "      <td>(fog, 61)</td>\n",
       "      <td>(sun, 60)</td>\n",
       "      <td>(warm, 49)</td>\n",
       "      <td>(storm, 44)</td>\n",
       "      <td>(ice, 33)</td>\n",
       "      <td>(wind, 22)</td>\n",
       "      <td>...</td>\n",
       "      <td>(boiling, 4)</td>\n",
       "      <td>(frost, 3)</td>\n",
       "      <td>(visibility, 3)</td>\n",
       "      <td>(hail, 2)</td>\n",
       "      <td>(frosty, 1)</td>\n",
       "      <td>(icy, 1)</td>\n",
       "      <td>(snowing, 1)</td>\n",
       "      <td>(freezing, 1)</td>\n",
       "      <td>(foggy, 1)</td>\n",
       "      <td>(baltic, 1)</td>\n",
       "    </tr>\n",
       "  </tbody>\n",
       "</table>\n",
       "<p>5 rows × 31 columns</p>\n",
       "</div>"
      ],
      "text/plain": [
       "         date  Keyword_1   Keyword_2   Keyword_3   Keyword_4   Keyword_5  \\\n",
       "0  2016-12-14  (fog, 35)   (hot, 33)  (cold, 33)   (sun, 32)  (warm, 17)   \n",
       "1  2016-12-15  (fog, 31)   (hot, 29)   (sun, 28)  (cold, 28)  (warm, 16)   \n",
       "2  2016-12-16  (hot, 74)  (snow, 66)   (fog, 61)  (cold, 60)   (sun, 60)   \n",
       "3  2016-12-19  (hot, 74)  (snow, 66)   (fog, 61)  (cold, 60)   (sun, 60)   \n",
       "4  2016-12-20  (hot, 76)  (snow, 66)  (cold, 63)   (fog, 61)   (sun, 60)   \n",
       "\n",
       "    Keyword_6    Keyword_7  Keyword_8         Keyword_9     ...       \\\n",
       "0   (ice, 12)   (sunny, 9)  (snow, 8)         (wind, 8)     ...        \n",
       "1  (sunny, 9)     (ice, 8)  (wind, 7)  (temperature, 6)     ...        \n",
       "2  (warm, 48)  (storm, 44)  (ice, 33)        (wind, 21)     ...        \n",
       "3  (warm, 46)  (storm, 44)  (ice, 33)        (wind, 21)     ...        \n",
       "4  (warm, 49)  (storm, 44)  (ice, 33)        (wind, 22)     ...        \n",
       "\n",
       "     Keyword_21  Keyword_22       Keyword_23 Keyword_24   Keyword_25  \\\n",
       "0     (heat, 1)      (0, 0)           (0, 0)     (0, 0)       (0, 0)   \n",
       "1        (0, 0)      (0, 0)           (0, 0)     (0, 0)       (0, 0)   \n",
       "2  (boiling, 4)  (frost, 3)  (visibility, 3)  (hail, 2)  (frosty, 1)   \n",
       "3  (boiling, 4)  (frost, 3)  (visibility, 3)  (hail, 2)  (frosty, 1)   \n",
       "4  (boiling, 4)  (frost, 3)  (visibility, 3)  (hail, 2)  (frosty, 1)   \n",
       "\n",
       "  Keyword_26    Keyword_27     Keyword_28  Keyword_29   Keyword_30  \n",
       "0     (0, 0)        (0, 0)         (0, 0)      (0, 0)       (0, 0)  \n",
       "1     (0, 0)        (0, 0)         (0, 0)      (0, 0)       (0, 0)  \n",
       "2   (icy, 1)  (snowing, 1)  (freezing, 1)  (foggy, 1)  (baltic, 1)  \n",
       "3   (icy, 1)  (snowing, 1)  (freezing, 1)  (foggy, 1)  (baltic, 1)  \n",
       "4   (icy, 1)  (snowing, 1)  (freezing, 1)  (foggy, 1)  (baltic, 1)  \n",
       "\n",
       "[5 rows x 31 columns]"
      ]
     },
     "execution_count": 23,
     "metadata": {},
     "output_type": "execute_result"
    }
   ],
   "source": [
    "#Spilits colom 'Keywords' into many coloums\n",
    "for z in range(max(keyw_count_day)):\n",
    "    b=[]\n",
    "    b.extend(a[z] for a in tw_final['Keywords'])\n",
    "    o=z+1\n",
    "    keyword=[]\n",
    "    keyword.append('Keyword_'+str(o))\n",
    "    keyword_str = ''.join(keyword)\n",
    "    tw_final[keyword_str] = b\n",
    "\n",
    "# Drop column with list of tuples\n",
    "tw_final = tw_final.drop(['Keywords'], axis=1)\n",
    "tw_final.head()"
   ]
  },
  {
   "cell_type": "markdown",
   "metadata": {},
   "source": [
    "# Reformat Final Dataframe : unpivot and split by keyword and count"
   ]
  },
  {
   "cell_type": "code",
   "execution_count": 24,
   "metadata": {
    "collapsed": false
   },
   "outputs": [],
   "source": [
    "# Unpivots tw_final_all and rename column 'variable' for 'rank'\n",
    "tw_final_upv = pd.melt(tw_final, id_vars = ['date'])\n",
    "tw_final_upv.rename(columns = {'variable':'rank'}, inplace = True)\n",
    "\n",
    "# Split 'value' in two columns: keyword and count\n",
    "b = []\n",
    "c = []\n",
    "\n",
    "b.extend(a[1] for a in tw_final_upv['value'])\n",
    "tw_final_upv['count'] = b\n",
    "\n",
    "c.extend(a[0] for a in tw_final_upv['value'])\n",
    "tw_final_upv['keyword'] = c\n",
    "\n",
    "# Delete useless column\n",
    "tw_final_upv = tw_final_upv.drop(['value'], axis=1)"
   ]
  },
  {
   "cell_type": "code",
   "execution_count": 25,
   "metadata": {
    "collapsed": false
   },
   "outputs": [
    {
     "data": {
      "text/html": [
       "<div>\n",
       "<table border=\"1\" class=\"dataframe\">\n",
       "  <thead>\n",
       "    <tr style=\"text-align: right;\">\n",
       "      <th></th>\n",
       "      <th>date</th>\n",
       "      <th>rank</th>\n",
       "      <th>count</th>\n",
       "      <th>keyword</th>\n",
       "    </tr>\n",
       "  </thead>\n",
       "  <tbody>\n",
       "    <tr>\n",
       "      <th>0</th>\n",
       "      <td>2016-12-14</td>\n",
       "      <td>Keyword_1</td>\n",
       "      <td>35</td>\n",
       "      <td>fog</td>\n",
       "    </tr>\n",
       "    <tr>\n",
       "      <th>1</th>\n",
       "      <td>2016-12-14</td>\n",
       "      <td>Keyword_2</td>\n",
       "      <td>33</td>\n",
       "      <td>hot</td>\n",
       "    </tr>\n",
       "    <tr>\n",
       "      <th>2</th>\n",
       "      <td>2016-12-14</td>\n",
       "      <td>Keyword_3</td>\n",
       "      <td>33</td>\n",
       "      <td>cold</td>\n",
       "    </tr>\n",
       "    <tr>\n",
       "      <th>3</th>\n",
       "      <td>2016-12-14</td>\n",
       "      <td>Keyword_4</td>\n",
       "      <td>32</td>\n",
       "      <td>sun</td>\n",
       "    </tr>\n",
       "    <tr>\n",
       "      <th>4</th>\n",
       "      <td>2016-12-14</td>\n",
       "      <td>Keyword_5</td>\n",
       "      <td>17</td>\n",
       "      <td>warm</td>\n",
       "    </tr>\n",
       "  </tbody>\n",
       "</table>\n",
       "</div>"
      ],
      "text/plain": [
       "         date       rank  count keyword\n",
       "0  2016-12-14  Keyword_1     35     fog\n",
       "1  2016-12-14  Keyword_2     33     hot\n",
       "2  2016-12-14  Keyword_3     33    cold\n",
       "3  2016-12-14  Keyword_4     32     sun\n",
       "4  2016-12-14  Keyword_5     17    warm"
      ]
     },
     "execution_count": 25,
     "metadata": {},
     "output_type": "execute_result"
    }
   ],
   "source": [
    "# Twist to get all keywords per day (ordered)\n",
    "tw_final_upv = pd.merge(tw_final_upv, df_count, how='inner', on='date')\n",
    "tw_final_upv = tw_final_upv.drop(['total_count'], axis=1)\n",
    "\n",
    "tw_final_upv.head()"
   ]
  },
  {
   "cell_type": "code",
   "execution_count": 26,
   "metadata": {
    "collapsed": false
   },
   "outputs": [],
   "source": [
    "# Replace 0 by NaN in count and keyword\n",
    "tw_final_upv = tw_final_upv.replace(0, np.nan)"
   ]
  },
  {
   "cell_type": "code",
   "execution_count": 27,
   "metadata": {
    "collapsed": true
   },
   "outputs": [],
   "source": [
    "# Create CSV with the results\n",
    "tw_final_upv.to_csv(path_or_buf=\"C:\\\\Data\\\\Twitter\\\\Tweets\\\\Daily_Keyword_Occurrence.csv\", \\\n",
    "                    sep=',', na_rep='', float_format=None, \\\n",
    "                    columns=['date', 'rank', 'keyword', 'count'], \\\n",
    "                    header=True, index=False, index_label=None, mode='w',quotechar='\"', line_terminator='\\n', decimal='.')"
   ]
  },
  {
   "cell_type": "markdown",
   "metadata": {},
   "source": [
    "# Initialisation Plots"
   ]
  },
  {
   "cell_type": "code",
   "execution_count": 28,
   "metadata": {
    "collapsed": false
   },
   "outputs": [],
   "source": [
    "# Plot options\n",
    "# init_notebook: On jupyter\n",
    "# plotly : on plotly\n",
    "\n",
    "#init_notebook_mode()\n",
    "import plotly\n",
    "plotly.tools.set_credentials_file(username='Laura_Foulquier', api_key='zehu3fat3Mfs6v3pTNMY')"
   ]
  },
  {
   "cell_type": "markdown",
   "metadata": {},
   "source": [
    "# Building Cold - Hot Plots"
   ]
  },
  {
   "cell_type": "code",
   "execution_count": 29,
   "metadata": {
    "collapsed": true
   },
   "outputs": [],
   "source": [
    "# Define list of keywords which describe if the weather is cold or hot \n",
    "\n",
    "weather_words_hot=['heat', 'warm', 'warmer','hot', 'sun', 'sunny','boiling',  'burn']\n",
    "\n",
    "weather_words_cold=['breeze', 'breezy', 'cloudy', 'cold', 'ice', 'icy', 'icey', 'drizzle', 'frost', 'wind', 'mild', 'dew', \n",
    "                     'freezing', 'downpour', 'shower', 'rain', 'frost', 'nippy', 'hail', 'temperature', 'gail', 'gust',\n",
    "                     'sleet',  'storm', 'slush', 'fog', 'foggy', 'flood', 'visibility', \n",
    "                     'mist', 'frosty', 'misty', 'chilly', 'thunder', 'lightning', 'snow', 'snowing', 'baltic']"
   ]
  },
  {
   "cell_type": "code",
   "execution_count": 30,
   "metadata": {
    "collapsed": false
   },
   "outputs": [
    {
     "data": {
      "text/plain": [
       "(4952.0, 3594.0)"
      ]
     },
     "execution_count": 30,
     "metadata": {},
     "output_type": "execute_result"
    }
   ],
   "source": [
    "# Count the total of keywords for hot or cold\n",
    "count_cold=0\n",
    "count_hot=0\n",
    "\n",
    "for i in range (len(tw_final_upv)):\n",
    "    if tw_final_upv['keyword'][i] in weather_words_cold:\n",
    "        count_cold = count_cold + tw_final_upv['count'][i]\n",
    "    elif tw_final_upv['keyword'][i] in weather_words_hot:\n",
    "        count_hot = count_hot + tw_final_upv['count'][i]\n",
    "count_cold, count_hot"
   ]
  },
  {
   "cell_type": "code",
   "execution_count": 31,
   "metadata": {
    "collapsed": false
   },
   "outputs": [],
   "source": [
    "# Plot the number of cold and hot keywords over the entire project time (sum)\n",
    "trace = Bar(\n",
    "    x=['Cold','Hot'],\n",
    "    y=[count_cold,count_hot] ,\n",
    "    marker = dict(\n",
    "        color=['blue','red'])\n",
    "    )\n",
    "\n",
    "data = Data([trace])\n",
    "\n",
    "layout = go.Layout(\n",
    "    title='Total count of hot keywords vs cold keywords',\n",
    "    yaxis = dict(title = 'Keywords Count')\n",
    ") \n",
    "\n",
    "fig = go.Figure(data=data, layout=layout)\n",
    "#py.plot(fig, filename = 'Hot_vs_cold_Keywords_Totals') \n",
    "#iplot(fig)\n",
    "#py.plot(data, filename = 'Summer_vs_winter_Totals')"
   ]
  },
  {
   "cell_type": "markdown",
   "metadata": {},
   "source": [
    "# PLOTTING WITH METOFFICE DATA"
   ]
  },
  {
   "cell_type": "markdown",
   "metadata": {},
   "source": [
    "# 1. Import MetOffice Data and Join final tables"
   ]
  },
  {
   "cell_type": "code",
   "execution_count": 32,
   "metadata": {
    "collapsed": false
   },
   "outputs": [],
   "source": [
    "# Import the MetOffice Data\n",
    "final_weather = pd.read_csv(\"C:\\\\Data\\\\Twitter\\\\Final_weather_for_plotting.csv\", sep=',', delimiter=None)\n",
    "\n",
    "#Rename Date column for futur join\n",
    "final_weather.rename(columns = {'Date':'date'}, inplace = True)"
   ]
  },
  {
   "cell_type": "code",
   "execution_count": 33,
   "metadata": {
    "collapsed": false
   },
   "outputs": [
    {
     "name": "stderr",
     "output_type": "stream",
     "text": [
      "C:\\Users\\Student29\\Anaconda2\\lib\\site-packages\\ipykernel\\__main__.py:9: SettingWithCopyWarning:\n",
      "\n",
      "\n",
      "A value is trying to be set on a copy of a slice from a DataFrame\n",
      "\n",
      "See the caveats in the documentation: http://pandas.pydata.org/pandas-docs/stable/indexing.html#indexing-view-versus-copy\n",
      "\n",
      "C:\\Users\\Student29\\Anaconda2\\lib\\site-packages\\ipykernel\\__main__.py:12: SettingWithCopyWarning:\n",
      "\n",
      "\n",
      "A value is trying to be set on a copy of a slice from a DataFrame\n",
      "\n",
      "See the caveats in the documentation: http://pandas.pydata.org/pandas-docs/stable/indexing.html#indexing-view-versus-copy\n",
      "\n",
      "C:\\Users\\Student29\\Anaconda2\\lib\\site-packages\\ipykernel\\__main__.py:30: SettingWithCopyWarning:\n",
      "\n",
      "\n",
      "A value is trying to be set on a copy of a slice from a DataFrame\n",
      "\n",
      "See the caveats in the documentation: http://pandas.pydata.org/pandas-docs/stable/indexing.html#indexing-view-versus-copy\n",
      "\n",
      "C:\\Users\\Student29\\Anaconda2\\lib\\site-packages\\ipykernel\\__main__.py:18: SettingWithCopyWarning:\n",
      "\n",
      "\n",
      "A value is trying to be set on a copy of a slice from a DataFrame\n",
      "\n",
      "See the caveats in the documentation: http://pandas.pydata.org/pandas-docs/stable/indexing.html#indexing-view-versus-copy\n",
      "\n"
     ]
    }
   ],
   "source": [
    "# Join on dates with tweeter results\n",
    "final_results = pd.merge(tw_final_upv, final_weather, how='inner', on='date')\n",
    "\n",
    "# Insert column for Weather depending on Bucket_Weather  number\n",
    "final_results['Weather'] = None\n",
    "\n",
    "for i in range(len(final_results.index)):\n",
    "    if (final_results['Bucket_Weather'][i] == 1) == True:\n",
    "        final_results['Weather'][i] = 'Sunny'\n",
    "\n",
    "    elif (final_results['Bucket_Weather'][i] == 2) == True:\n",
    "        final_results['Weather'][i] = 'Cloudy'\n",
    "    \n",
    "    elif (final_results['Bucket_Weather'][i] == 3) == True:\n",
    "        final_results['Weather'][i] = 'Light Rain'\n",
    "        \n",
    "    elif (final_results['Bucket_Weather'][i] == 4) == True:\n",
    "        final_results['Weather'][i] = 'Heavy Rain'\n",
    "\n",
    "    elif (final_results['Bucket_Weather'][i] == 5) == True:\n",
    "        final_results['Weather'][i] = 'Sleet / Hail'\n",
    "        \n",
    "    elif (final_results['Bucket_Weather'][i] == 6) == True:\n",
    "        final_results['Weather'][i] = 'Snow'\n",
    "\n",
    "    elif (final_results['Bucket_Weather'][i] == 7) == True:\n",
    "        final_results['Weather'][i] = 'Thunder'\n",
    "\n",
    "    elif (final_results['Bucket_Weather'][i] == 8) == True:\n",
    "        final_results['Weather'][i] = 'Fog / Mist'\n",
    "\n",
    "# Column with constant for plotting\n",
    "final_results['plot'] = 16"
   ]
  },
  {
   "cell_type": "code",
   "execution_count": 34,
   "metadata": {
    "collapsed": false
   },
   "outputs": [
    {
     "data": {
      "text/html": [
       "<div>\n",
       "<table border=\"1\" class=\"dataframe\">\n",
       "  <thead>\n",
       "    <tr style=\"text-align: right;\">\n",
       "      <th></th>\n",
       "      <th>date</th>\n",
       "      <th>rank</th>\n",
       "      <th>count</th>\n",
       "      <th>keyword</th>\n",
       "      <th>Temperature</th>\n",
       "      <th>Bucket_Weather</th>\n",
       "      <th>Weather</th>\n",
       "      <th>plot</th>\n",
       "    </tr>\n",
       "  </thead>\n",
       "  <tbody>\n",
       "    <tr>\n",
       "      <th>0</th>\n",
       "      <td>2016-12-14</td>\n",
       "      <td>Keyword_1</td>\n",
       "      <td>35.0</td>\n",
       "      <td>fog</td>\n",
       "      <td>11</td>\n",
       "      <td>1</td>\n",
       "      <td>Sunny</td>\n",
       "      <td>16</td>\n",
       "    </tr>\n",
       "    <tr>\n",
       "      <th>1</th>\n",
       "      <td>2016-12-14</td>\n",
       "      <td>Keyword_2</td>\n",
       "      <td>33.0</td>\n",
       "      <td>hot</td>\n",
       "      <td>11</td>\n",
       "      <td>1</td>\n",
       "      <td>Sunny</td>\n",
       "      <td>16</td>\n",
       "    </tr>\n",
       "    <tr>\n",
       "      <th>2</th>\n",
       "      <td>2016-12-14</td>\n",
       "      <td>Keyword_3</td>\n",
       "      <td>33.0</td>\n",
       "      <td>cold</td>\n",
       "      <td>11</td>\n",
       "      <td>1</td>\n",
       "      <td>Sunny</td>\n",
       "      <td>16</td>\n",
       "    </tr>\n",
       "    <tr>\n",
       "      <th>3</th>\n",
       "      <td>2016-12-14</td>\n",
       "      <td>Keyword_4</td>\n",
       "      <td>32.0</td>\n",
       "      <td>sun</td>\n",
       "      <td>11</td>\n",
       "      <td>1</td>\n",
       "      <td>Sunny</td>\n",
       "      <td>16</td>\n",
       "    </tr>\n",
       "    <tr>\n",
       "      <th>4</th>\n",
       "      <td>2016-12-14</td>\n",
       "      <td>Keyword_5</td>\n",
       "      <td>17.0</td>\n",
       "      <td>warm</td>\n",
       "      <td>11</td>\n",
       "      <td>1</td>\n",
       "      <td>Sunny</td>\n",
       "      <td>16</td>\n",
       "    </tr>\n",
       "  </tbody>\n",
       "</table>\n",
       "</div>"
      ],
      "text/plain": [
       "         date       rank  count keyword  Temperature  Bucket_Weather Weather  \\\n",
       "0  2016-12-14  Keyword_1   35.0     fog           11               1   Sunny   \n",
       "1  2016-12-14  Keyword_2   33.0     hot           11               1   Sunny   \n",
       "2  2016-12-14  Keyword_3   33.0    cold           11               1   Sunny   \n",
       "3  2016-12-14  Keyword_4   32.0     sun           11               1   Sunny   \n",
       "4  2016-12-14  Keyword_5   17.0    warm           11               1   Sunny   \n",
       "\n",
       "   plot  \n",
       "0    16  \n",
       "1    16  \n",
       "2    16  \n",
       "3    16  \n",
       "4    16  "
      ]
     },
     "execution_count": 34,
     "metadata": {},
     "output_type": "execute_result"
    }
   ],
   "source": [
    "final_results.head()"
   ]
  },
  {
   "cell_type": "markdown",
   "metadata": {},
   "source": [
    "# 2. Create Array for final results tables"
   ]
  },
  {
   "cell_type": "code",
   "execution_count": 35,
   "metadata": {
    "collapsed": true
   },
   "outputs": [],
   "source": [
    "npfinal = np.array(final_results)\n",
    "\n",
    "# Put the date in X, the rest of the parameter in Y\n",
    "X = npfinal[:,0]\n",
    "Y = npfinal[:,1:]"
   ]
  },
  {
   "cell_type": "markdown",
   "metadata": {},
   "source": [
    "# 3. Build DF for Occurence of Cold and Hot keywords per day"
   ]
  },
  {
   "cell_type": "code",
   "execution_count": 36,
   "metadata": {
    "collapsed": false
   },
   "outputs": [],
   "source": [
    "#To get a count of cold and hot keywords for each day\n",
    "\n",
    "count_cold_2_list=[]\n",
    "count_hot_2_list=[]\n",
    "i_list=[]\n",
    "dump_list=[]\n",
    "\n",
    "for j in range(len(df_count)):\n",
    "    count_cold_2=0\n",
    "    count_hot_2=0\n",
    "    dump=0\n",
    "    for i in range(max(keyw_count_day)):     # takes the number of keywords per day\n",
    "        i_list.append(i)\n",
    "        x=len(i_list)-1                      # number of how many for loops have run\n",
    "        if tw_final_upv['keyword'][x] in weather_words_cold:\n",
    "                count_cold_2 = count_cold_2 + tw_final_upv['count'][x]\n",
    "        elif tw_final_upv['keyword'][x] in weather_words_hot:\n",
    "                count_hot_2 = count_hot_2 + tw_final_upv['count'][x]\n",
    "        else:\n",
    "            dump=dump + tw_final_upv['count'][x]\n",
    "    \n",
    "    count_cold_2_list.append(count_cold_2)\n",
    "    count_hot_2_list.append(count_hot_2)\n",
    "    dump_list.append(dump)"
   ]
  },
  {
   "cell_type": "code",
   "execution_count": 37,
   "metadata": {
    "collapsed": false
   },
   "outputs": [
    {
     "data": {
      "text/html": [
       "<div>\n",
       "<table border=\"1\" class=\"dataframe\">\n",
       "  <thead>\n",
       "    <tr style=\"text-align: right;\">\n",
       "      <th></th>\n",
       "      <th>date</th>\n",
       "      <th>cold</th>\n",
       "      <th>hot</th>\n",
       "      <th>total count</th>\n",
       "      <th>% hot</th>\n",
       "      <th>% cold</th>\n",
       "    </tr>\n",
       "  </thead>\n",
       "  <tbody>\n",
       "    <tr>\n",
       "      <th>0</th>\n",
       "      <td>2016-12-14</td>\n",
       "      <td>125.0</td>\n",
       "      <td>98.0</td>\n",
       "      <td>223.0</td>\n",
       "      <td>43.95</td>\n",
       "      <td>56.05</td>\n",
       "    </tr>\n",
       "    <tr>\n",
       "      <th>1</th>\n",
       "      <td>2016-12-15</td>\n",
       "      <td>101.0</td>\n",
       "      <td>89.0</td>\n",
       "      <td>190.0</td>\n",
       "      <td>46.84</td>\n",
       "      <td>53.16</td>\n",
       "    </tr>\n",
       "    <tr>\n",
       "      <th>2</th>\n",
       "      <td>2016-12-16</td>\n",
       "      <td>362.0</td>\n",
       "      <td>211.0</td>\n",
       "      <td>573.0</td>\n",
       "      <td>36.82</td>\n",
       "      <td>63.18</td>\n",
       "    </tr>\n",
       "    <tr>\n",
       "      <th>3</th>\n",
       "      <td>2016-12-19</td>\n",
       "      <td>362.0</td>\n",
       "      <td>209.0</td>\n",
       "      <td>571.0</td>\n",
       "      <td>36.60</td>\n",
       "      <td>63.40</td>\n",
       "    </tr>\n",
       "    <tr>\n",
       "      <th>4</th>\n",
       "      <td>2016-12-20</td>\n",
       "      <td>367.0</td>\n",
       "      <td>214.0</td>\n",
       "      <td>581.0</td>\n",
       "      <td>36.83</td>\n",
       "      <td>63.17</td>\n",
       "    </tr>\n",
       "  </tbody>\n",
       "</table>\n",
       "</div>"
      ],
      "text/plain": [
       "         date   cold    hot  total count  % hot  % cold\n",
       "0  2016-12-14  125.0   98.0        223.0  43.95   56.05\n",
       "1  2016-12-15  101.0   89.0        190.0  46.84   53.16\n",
       "2  2016-12-16  362.0  211.0        573.0  36.82   63.18\n",
       "3  2016-12-19  362.0  209.0        571.0  36.60   63.40\n",
       "4  2016-12-20  367.0  214.0        581.0  36.83   63.17"
      ]
     },
     "execution_count": 37,
     "metadata": {},
     "output_type": "execute_result"
    }
   ],
   "source": [
    "# Create new dataframe with new information\n",
    "\n",
    "tw_hot_cold = DataFrame()\n",
    "tw_hot_cold['date'] = df_count['date']\n",
    "tw_hot_cold['cold'] = count_cold_2_list\n",
    "tw_hot_cold['hot'] = count_hot_2_list\n",
    "tw_hot_cold['total count'] = tw_hot_cold['cold'] + tw_hot_cold['hot']\n",
    "tw_hot_cold['% hot'] =(tw_hot_cold['hot'] / tw_hot_cold['total count'])*100\n",
    "tw_hot_cold['% cold'] = 100 - tw_hot_cold['% hot']\n",
    "\n",
    "tw_hot_cold = tw_hot_cold.round(2)\n",
    "\n",
    "tw_hot_cold.head()"
   ]
  },
  {
   "cell_type": "code",
   "execution_count": 38,
   "metadata": {
    "collapsed": true
   },
   "outputs": [],
   "source": [
    "# Convert DF to array for plotting purposes\n",
    "npArray_hot_cold = np.array(tw_hot_cold)\n",
    "\n",
    "# Put the date in X, the rest of the parameter in Y\n",
    "X1 = npArray_hot_cold[:,0]\n",
    "Y1 = npArray_hot_cold[:,1:]"
   ]
  },
  {
   "cell_type": "markdown",
   "metadata": {},
   "source": [
    "# 4. Plotting temperature and occurence (count) of cold and hot keywords per day"
   ]
  },
  {
   "cell_type": "code",
   "execution_count": 39,
   "metadata": {
    "collapsed": false
   },
   "outputs": [
    {
     "data": {
      "text/plain": [
       "u'https://plot.ly/~Laura_Foulquier/12'"
      ]
     },
     "execution_count": 39,
     "metadata": {},
     "output_type": "execute_result"
    }
   ],
   "source": [
    "# Plotting the temperature\n",
    "trace0 = go.Scatter(\n",
    "    x = X,\n",
    "    y = Y[:,3],\n",
    "    name = 'Temperature at noon',\n",
    "    yaxis='y2',\n",
    "    line = dict(\n",
    "        color = 'orange',\n",
    "        width = 3\n",
    "    )\n",
    ")\n",
    "\n",
    "# Plot count of cold keywords\n",
    "trace1 = go.Bar(\n",
    "    x = X1,\n",
    "    y = Y1[:,0],\n",
    "    name = 'Cold',\n",
    "    marker = dict(\n",
    "        color = 'rgb(100,250,250)',\n",
    "        line = dict(\n",
    "            color = 'rgb(100,200,250)',\n",
    "            width = 1.5)\n",
    "    )\n",
    ")\n",
    "\n",
    "\n",
    "# Plotting count of hot keywords\n",
    "trace2 = go.Bar(\n",
    "    x = X1,\n",
    "    y = Y1[:,1],\n",
    "    name = 'Hot',\n",
    "    marker = dict(\n",
    "        color = 'rgb(255,100,100)',\n",
    "        line = dict(\n",
    "            color = 'rgb(255,0,0)',\n",
    "            width = 1.5)\n",
    "    )\n",
    ")\n",
    "\n",
    "\n",
    "\n",
    "layout = Layout(\n",
    "    title = 'Keywords (Hot or Cold) Occurence from tweets and temperature',\n",
    "    xaxis = dict(\n",
    "        title = 'Date',\n",
    "        tickangle=320,\n",
    "        autotick = 'False',\n",
    "        ticks = 'outside'\n",
    "    ),\n",
    "    yaxis =dict(\n",
    "        title='Count of word occurence',\n",
    "        autotick = 'False',\n",
    "        ticks = 'outside',\n",
    "        tickfont=dict(\n",
    "            color='rgb(148, 103, 189)',\n",
    "        ) \n",
    "    ),\n",
    "    yaxis2 = dict(\n",
    "        title='Temperature (degrees C)',\n",
    "        range = [0,20],\n",
    "        autotick = 'False',\n",
    "        ticks = 'outside',\n",
    "        overlaying='y',\n",
    "        side='right'\n",
    "    ),\n",
    "    showlegend = True,\n",
    "    legend = dict(\n",
    "         x = 0,\n",
    "         y = -0.75\n",
    "    ),\n",
    "    font=dict(family='Old Standard TT, serif', size=14, color='purple')\n",
    ")\n",
    "\n",
    "\n",
    "data = [trace0, trace1, trace2]\n",
    "\n",
    "fig = dict(data=data, layout = layout)\n",
    "#iplot(fig)\n",
    "\n",
    "# Put the plot in the plotly account\n",
    "py.plot(fig, filename = 'Keywords Occurence (Hot or cold) from tweets')"
   ]
  },
  {
   "cell_type": "markdown",
   "metadata": {},
   "source": [
    "# 4.2 Plotting temperature and occurence (%) of cold and hot keywords per day"
   ]
  },
  {
   "cell_type": "code",
   "execution_count": 40,
   "metadata": {
    "collapsed": false
   },
   "outputs": [
    {
     "data": {
      "text/plain": [
       "u'https://plot.ly/~Laura_Foulquier/18'"
      ]
     },
     "execution_count": 40,
     "metadata": {},
     "output_type": "execute_result"
    }
   ],
   "source": [
    "# Plotting the temperature\n",
    "trace0 = go.Scatter(\n",
    "    x = X,\n",
    "    y = Y[:,3],\n",
    "    name = 'Temperature at noon',\n",
    "    yaxis='y2',\n",
    "    line = dict(\n",
    "        color = 'orange',\n",
    "        width = 3\n",
    "    )\n",
    ")\n",
    "\n",
    "# Plot count of cold keywords\n",
    "trace1 = go.Scatter(\n",
    "    x = X1,\n",
    "    y = Y1[:,4],\n",
    "    name = 'Cold',\n",
    "    marker = dict(\n",
    "        color = 'rgb(100,250,250)',\n",
    "        line = dict(\n",
    "            color = 'rgb(100,200,250)',\n",
    "            width = 1.5)\n",
    "    )\n",
    ")\n",
    "\n",
    "\n",
    "# Plotting count of hot keywords\n",
    "trace2 = go.Scatter(\n",
    "    x = X1,\n",
    "    y = Y1[:,3],\n",
    "    name = 'Hot',\n",
    "    marker = dict(\n",
    "        color = 'rgb(255,100,100)',\n",
    "        line = dict(\n",
    "            color = 'rgb(255,0,0)',\n",
    "            width = 1.5)\n",
    "    )\n",
    ")\n",
    "\n",
    "\n",
    "\n",
    "layout = Layout(\n",
    "    title = 'Keywords (Hot or Cold) % Occurence from tweets and temperature',\n",
    "    xaxis = dict(\n",
    "        title = 'Date',\n",
    "        tickangle=320,\n",
    "        autotick = 'False',\n",
    "        ticks = 'outside'\n",
    "    ),\n",
    "    yaxis =dict(\n",
    "        title='% of word occurence',\n",
    "        range = [20,70],\n",
    "        autotick = 'False',\n",
    "        ticks = 'outside',\n",
    "        tickfont=dict(\n",
    "            color='rgb(148, 103, 189)',\n",
    "        ) \n",
    "    ),\n",
    "    yaxis2 = dict(\n",
    "        title='Temperature (degrees C)',\n",
    "        range = [0,20],\n",
    "        autotick = 'False',\n",
    "        ticks = 'outside',\n",
    "        overlaying='y',\n",
    "        side='right'\n",
    "    ),\n",
    "    showlegend = True,\n",
    "    legend = dict(\n",
    "         x = 0,\n",
    "         y = -0.75\n",
    "    ),\n",
    "    font=dict(family='Old Standard TT, serif', size=14, color='purple')\n",
    ")\n",
    "\n",
    "\n",
    "data = [trace0, trace1, trace2]\n",
    "\n",
    "fig = dict(data=data, layout = layout)\n",
    "#iplot(fig)\n",
    "\n",
    "# Put the plot in the plotly account\n",
    "py.plot(fig, filename = 'Keywords Occurence (Hot or cold) % from tweets')"
   ]
  },
  {
   "cell_type": "markdown",
   "metadata": {},
   "source": [
    "# 5. Temperature vs top 3 keywords per day"
   ]
  },
  {
   "cell_type": "code",
   "execution_count": 41,
   "metadata": {
    "collapsed": false
   },
   "outputs": [
    {
     "name": "stderr",
     "output_type": "stream",
     "text": [
      "C:\\Users\\Student29\\Anaconda2\\lib\\site-packages\\pandas\\core\\series.py:1340: RuntimeWarning:\n",
      "\n",
      "invalid value encountered in rint\n",
      "\n"
     ]
    }
   ],
   "source": [
    "# join tables to get total count\n",
    "\n",
    "final_results_plot = pd.merge(final_results, tw_hot_cold, how='inner', on='date')\n",
    "final_results_plot = final_results_plot.drop(['Bucket_Weather', 'cold', 'hot', 'plot', 'Weather', 'Temperature', \\\n",
    "                                              '% hot', '% cold'], axis=1)\n",
    "\n",
    "#Limited to 2 decimals for plotting\n",
    "final_results_plot['%daily occurrence'] = ((final_results_plot['count'] / final_results_plot['total count'])*100).round(2)\n"
   ]
  },
  {
   "cell_type": "code",
   "execution_count": 42,
   "metadata": {
    "collapsed": false
   },
   "outputs": [
    {
     "data": {
      "text/html": [
       "<div>\n",
       "<table border=\"1\" class=\"dataframe\">\n",
       "  <thead>\n",
       "    <tr style=\"text-align: right;\">\n",
       "      <th></th>\n",
       "      <th>date</th>\n",
       "      <th>rank</th>\n",
       "      <th>count</th>\n",
       "      <th>keyword</th>\n",
       "      <th>total count</th>\n",
       "      <th>%daily occurrence</th>\n",
       "    </tr>\n",
       "  </thead>\n",
       "  <tbody>\n",
       "    <tr>\n",
       "      <th>0</th>\n",
       "      <td>2016-12-14</td>\n",
       "      <td>Keyword_1</td>\n",
       "      <td>35.0</td>\n",
       "      <td>fog</td>\n",
       "      <td>223.0</td>\n",
       "      <td>15.70</td>\n",
       "    </tr>\n",
       "    <tr>\n",
       "      <th>1</th>\n",
       "      <td>2016-12-14</td>\n",
       "      <td>Keyword_2</td>\n",
       "      <td>33.0</td>\n",
       "      <td>hot</td>\n",
       "      <td>223.0</td>\n",
       "      <td>14.80</td>\n",
       "    </tr>\n",
       "    <tr>\n",
       "      <th>2</th>\n",
       "      <td>2016-12-14</td>\n",
       "      <td>Keyword_3</td>\n",
       "      <td>33.0</td>\n",
       "      <td>cold</td>\n",
       "      <td>223.0</td>\n",
       "      <td>14.80</td>\n",
       "    </tr>\n",
       "    <tr>\n",
       "      <th>3</th>\n",
       "      <td>2016-12-14</td>\n",
       "      <td>Keyword_4</td>\n",
       "      <td>32.0</td>\n",
       "      <td>sun</td>\n",
       "      <td>223.0</td>\n",
       "      <td>14.35</td>\n",
       "    </tr>\n",
       "    <tr>\n",
       "      <th>4</th>\n",
       "      <td>2016-12-14</td>\n",
       "      <td>Keyword_5</td>\n",
       "      <td>17.0</td>\n",
       "      <td>warm</td>\n",
       "      <td>223.0</td>\n",
       "      <td>7.62</td>\n",
       "    </tr>\n",
       "  </tbody>\n",
       "</table>\n",
       "</div>"
      ],
      "text/plain": [
       "         date       rank  count keyword  total count  %daily occurrence\n",
       "0  2016-12-14  Keyword_1   35.0     fog        223.0              15.70\n",
       "1  2016-12-14  Keyword_2   33.0     hot        223.0              14.80\n",
       "2  2016-12-14  Keyword_3   33.0    cold        223.0              14.80\n",
       "3  2016-12-14  Keyword_4   32.0     sun        223.0              14.35\n",
       "4  2016-12-14  Keyword_5   17.0    warm        223.0               7.62"
      ]
     },
     "execution_count": 42,
     "metadata": {},
     "output_type": "execute_result"
    }
   ],
   "source": [
    "final_results_plot.head()"
   ]
  },
  {
   "cell_type": "code",
   "execution_count": 43,
   "metadata": {
    "collapsed": false
   },
   "outputs": [],
   "source": [
    "# Build new dataframes for plotting purposes\n",
    "\n",
    "# DataFrame for rank = Keyword_1\n",
    "rank1 = (final_results_plot[(final_results_plot['rank'] == 'Keyword_1')])\n",
    "rank1 = rank1.reset_index(drop=True)\n",
    "\n",
    "npArray = np.array(rank1)\n",
    "X1 = npArray[:,0]\n",
    "Y1 = npArray[:,1:]\n",
    "\n",
    "# DataFrame for rank = Keyword_2\n",
    "rank2 = (final_results_plot[(final_results_plot['rank'] == 'Keyword_2')])\n",
    "rank2 = rank2.reset_index(drop=True)\n",
    "\n",
    "npArray = np.array(rank2)\n",
    "X2 = npArray[:,0]\n",
    "Y2 = npArray[:,1:]\n",
    "\n",
    "# DataFrame for rank = Keyword_3\n",
    "rank3 = (final_results_plot[(final_results_plot['rank'] == 'Keyword_3')])\n",
    "rank3 = rank3.reset_index(drop=True)\n",
    "\n",
    "npArray = np.array(rank3)\n",
    "X3 = npArray[:,0]\n",
    "Y3 = npArray[:,1:]"
   ]
  },
  {
   "cell_type": "code",
   "execution_count": 44,
   "metadata": {
    "collapsed": false
   },
   "outputs": [
    {
     "data": {
      "text/html": [
       "<div>\n",
       "<table border=\"1\" class=\"dataframe\">\n",
       "  <thead>\n",
       "    <tr style=\"text-align: right;\">\n",
       "      <th></th>\n",
       "      <th>date</th>\n",
       "      <th>rank</th>\n",
       "      <th>count</th>\n",
       "      <th>keyword</th>\n",
       "      <th>total count</th>\n",
       "      <th>%daily occurrence</th>\n",
       "    </tr>\n",
       "  </thead>\n",
       "  <tbody>\n",
       "    <tr>\n",
       "      <th>0</th>\n",
       "      <td>2016-12-14</td>\n",
       "      <td>Keyword_3</td>\n",
       "      <td>33.0</td>\n",
       "      <td>cold</td>\n",
       "      <td>223.0</td>\n",
       "      <td>14.80</td>\n",
       "    </tr>\n",
       "    <tr>\n",
       "      <th>1</th>\n",
       "      <td>2016-12-15</td>\n",
       "      <td>Keyword_3</td>\n",
       "      <td>28.0</td>\n",
       "      <td>sun</td>\n",
       "      <td>190.0</td>\n",
       "      <td>14.74</td>\n",
       "    </tr>\n",
       "    <tr>\n",
       "      <th>2</th>\n",
       "      <td>2016-12-16</td>\n",
       "      <td>Keyword_3</td>\n",
       "      <td>61.0</td>\n",
       "      <td>fog</td>\n",
       "      <td>573.0</td>\n",
       "      <td>10.65</td>\n",
       "    </tr>\n",
       "    <tr>\n",
       "      <th>3</th>\n",
       "      <td>2016-12-19</td>\n",
       "      <td>Keyword_3</td>\n",
       "      <td>61.0</td>\n",
       "      <td>fog</td>\n",
       "      <td>571.0</td>\n",
       "      <td>10.68</td>\n",
       "    </tr>\n",
       "    <tr>\n",
       "      <th>4</th>\n",
       "      <td>2016-12-20</td>\n",
       "      <td>Keyword_3</td>\n",
       "      <td>63.0</td>\n",
       "      <td>cold</td>\n",
       "      <td>581.0</td>\n",
       "      <td>10.84</td>\n",
       "    </tr>\n",
       "  </tbody>\n",
       "</table>\n",
       "</div>"
      ],
      "text/plain": [
       "         date       rank  count keyword  total count  %daily occurrence\n",
       "0  2016-12-14  Keyword_3   33.0    cold        223.0              14.80\n",
       "1  2016-12-15  Keyword_3   28.0     sun        190.0              14.74\n",
       "2  2016-12-16  Keyword_3   61.0     fog        573.0              10.65\n",
       "3  2016-12-19  Keyword_3   61.0     fog        571.0              10.68\n",
       "4  2016-12-20  Keyword_3   63.0    cold        581.0              10.84"
      ]
     },
     "execution_count": 44,
     "metadata": {},
     "output_type": "execute_result"
    }
   ],
   "source": [
    "rank3.head()"
   ]
  },
  {
   "cell_type": "code",
   "execution_count": 45,
   "metadata": {
    "collapsed": false
   },
   "outputs": [
    {
     "data": {
      "text/plain": [
       "u'https://plot.ly/~Laura_Foulquier/6'"
      ]
     },
     "execution_count": 45,
     "metadata": {},
     "output_type": "execute_result"
    }
   ],
   "source": [
    "# Plotting the temperature\n",
    "trace0 = go.Scatter(\n",
    "    x = X,\n",
    "    y = Y[:,3],\n",
    "    name = 'Temperature at noon',\n",
    "    yaxis='y2',\n",
    "    line = dict(\n",
    "        color = 'orange',\n",
    "        width = 3\n",
    "    )\n",
    ")\n",
    "\n",
    "# Plotting KeyWord1 occurence and name\n",
    "trace1 = go.Bar(\n",
    "    x = X1,\n",
    "    y = Y1[:,4],\n",
    "    text = Y1[:, 2],\n",
    "    name = 'Occurence Keyword_1',\n",
    "    marker = dict(\n",
    "        color = 'rgb(255,100,100)',\n",
    "        line = dict(\n",
    "            color = 'rgb(255,0,0)',\n",
    "            width = 1.5)\n",
    "    )\n",
    ")\n",
    "\n",
    "# Plotting KeyWord2 occurence and name\n",
    "trace2 = go.Bar(\n",
    "    x = X2,\n",
    "    y = Y2[:,4],\n",
    "    text = Y2[:, 2],\n",
    "    name = 'Occurence Keyword_2',\n",
    "    marker = dict(\n",
    "        color = 'rgb(158,202,225)',\n",
    "        line = dict(\n",
    "            color = 'rgb(8,48,107)',\n",
    "            width = 1.5)\n",
    "    )\n",
    ")\n",
    "\n",
    "# Plotting KeyWord3 occurence and name\n",
    "trace3 = go.Bar(\n",
    "    x = X3,\n",
    "    y = Y3[:,4],\n",
    "    text = Y3[:, 2],\n",
    "    name = 'Occurence Keyword_3',\n",
    "    marker = dict(\n",
    "        color = 'rgb(100,250,250)',\n",
    "        line = dict(\n",
    "            color = 'rgb(100,200,250)',\n",
    "            width = 1.5)\n",
    "    )\n",
    ")\n",
    "\n",
    "layout = Layout(\n",
    "    title = 'Keywords Occurence from tweets and temperature',\n",
    "    xaxis = dict(\n",
    "        title = 'Date',\n",
    "        tickangle=320,\n",
    "        autotick = 'False',\n",
    "        ticks = 'outside'\n",
    "    ),\n",
    "    yaxis =dict(\n",
    "        title='% of word occurence',\n",
    "       # range = [4,16],\n",
    "        autotick = 'False',\n",
    "        ticks = 'outside',\n",
    "        tickfont=dict(\n",
    "            color='rgb(148, 103, 189)',\n",
    "        ) \n",
    "    ),\n",
    "    yaxis2 = dict(\n",
    "        title='Temperature (degrees C)',\n",
    "        range = [0,20],\n",
    "        autotick = 'False',\n",
    "        ticks = 'outside',\n",
    "        overlaying='y',\n",
    "        side='right'\n",
    "    ),\n",
    "    showlegend = True,\n",
    "    legend = dict(\n",
    "         x = 0,\n",
    "         y = -0.75\n",
    "    ),\n",
    "    font=dict(family='Old Standard TT, serif', size=14, color='purple')\n",
    ")\n",
    "\n",
    "data = [trace0, trace1, trace2, trace3]\n",
    "\n",
    "fig = dict(data=data, layout = layout)\n",
    "#iplot(fig)\n",
    "\n",
    "# Put the plot in the plotly account\n",
    "py.plot(fig, filename = 'Keywords Occurence from tweets and temperature from MetOffice')"
   ]
  },
  {
   "cell_type": "markdown",
   "metadata": {},
   "source": [
    "# 6. Plot Actual Weather vs KeyWords"
   ]
  },
  {
   "cell_type": "code",
   "execution_count": 46,
   "metadata": {
    "collapsed": false
   },
   "outputs": [
    {
     "data": {
      "text/plain": [
       "u'https://plot.ly/~Laura_Foulquier/8'"
      ]
     },
     "execution_count": 46,
     "metadata": {},
     "output_type": "execute_result"
    }
   ],
   "source": [
    "# Display the actual weather at noon from MetOffice\n",
    "trace0 = go.Scatter(\n",
    "    x = X,\n",
    "    y = Y[:, -1],\n",
    "    text = Y[:, -2],\n",
    "    name = 'MetOffice Weather',\n",
    "    mode = 'markers',\n",
    "    marker = dict(\n",
    "        size = 1,\n",
    "        color = 'blue',\n",
    "        opacity = 0.8\n",
    "    )\n",
    ")\n",
    "\n",
    "# Plotting KeyWord1 occurence and name\n",
    "trace1 = go.Bar(\n",
    "    x = X1,\n",
    "    y = Y1[:,4],\n",
    "    text = Y1[:, 2],\n",
    "    name = 'Occurence Keyword_1',\n",
    "    marker = dict(\n",
    "        color = 'rgb(255,100,100)',\n",
    "        line = dict(\n",
    "            color = 'rgb(255,0,0)',\n",
    "            width = 1.5)\n",
    "    )\n",
    ")\n",
    "\n",
    "# Plotting KeyWord2 occurence and name\n",
    "trace2 = go.Bar(\n",
    "    x = X2,\n",
    "    y = Y2[:,4],\n",
    "    text = Y2[:, 2],\n",
    "    name = 'Occurence Keyword_2',\n",
    "    marker = dict(\n",
    "        color = 'rgb(158,202,225)',\n",
    "        line = dict(\n",
    "            color = 'rgb(8,48,107)',\n",
    "            width = 1.5)\n",
    "    )\n",
    ")\n",
    "\n",
    "# Plotting KeyWord3 occurence and name\n",
    "trace3 = go.Bar(\n",
    "    x = X3,\n",
    "    y = Y3[:,4],\n",
    "    text = Y3[:, 2],\n",
    "    name = 'Occurence Keyword_3',\n",
    "    marker = dict(\n",
    "        color = 'rgb(100,250,250)',\n",
    "        line = dict(\n",
    "            color = 'rgb(100,200,250)',\n",
    "            width = 0.5)\n",
    "    )\n",
    ")\n",
    "\n",
    "layout = Layout(\n",
    "    title = 'Keywords Occurence from tweets and actual weather',\n",
    "    xaxis = dict(\n",
    "        title = 'Date',\n",
    "        tickangle=320,\n",
    "        autotick = 'False',\n",
    "        ticks = 'outside'\n",
    "    ),\n",
    "    yaxis =dict(\n",
    "        title='% of word occurence',\n",
    "        range = [0, 18],\n",
    "        autotick = 'False',\n",
    "        ticks = 'outside',\n",
    "        tickfont=dict(\n",
    "            color='rgb(148, 103, 189)',\n",
    "        ) \n",
    "    ),\n",
    "    showlegend = True,\n",
    "    legend = dict(\n",
    "         x = 0,\n",
    "         y = -0.75\n",
    "    ),\n",
    "    font=dict(family='Old Standard TT, serif', size=14, color='purple')\n",
    ")\n",
    "\n",
    "data = [trace0, trace1, trace2, trace3]\n",
    "\n",
    "fig = dict(data=data, layout = layout)\n",
    "#iplot(fig)\n",
    "\n",
    "# Put the plot in the plotly account\n",
    "py.plot(fig, filename = 'Keywords Occurence from tweets and actual weather from MetOffice')"
   ]
  },
  {
   "cell_type": "markdown",
   "metadata": {
    "collapsed": true
   },
   "source": [
    "# 7 . Plotting all other keywords but cold vs temperature"
   ]
  },
  {
   "cell_type": "code",
   "execution_count": 47,
   "metadata": {
    "collapsed": false
   },
   "outputs": [
    {
     "data": {
      "text/html": [
       "<div>\n",
       "<table border=\"1\" class=\"dataframe\">\n",
       "  <thead>\n",
       "    <tr style=\"text-align: right;\">\n",
       "      <th></th>\n",
       "      <th>date</th>\n",
       "      <th>rank</th>\n",
       "      <th>count</th>\n",
       "      <th>keyword</th>\n",
       "      <th>total count</th>\n",
       "      <th>% daily occurence</th>\n",
       "    </tr>\n",
       "  </thead>\n",
       "  <tbody>\n",
       "    <tr>\n",
       "      <th>0</th>\n",
       "      <td>2016-12-14</td>\n",
       "      <td>Keyword_1</td>\n",
       "      <td>35.0</td>\n",
       "      <td>fog</td>\n",
       "      <td>223.0</td>\n",
       "      <td>15.70</td>\n",
       "    </tr>\n",
       "    <tr>\n",
       "      <th>1</th>\n",
       "      <td>2016-12-14</td>\n",
       "      <td>Keyword_2</td>\n",
       "      <td>33.0</td>\n",
       "      <td>hot</td>\n",
       "      <td>223.0</td>\n",
       "      <td>14.80</td>\n",
       "    </tr>\n",
       "    <tr>\n",
       "      <th>2</th>\n",
       "      <td>2016-12-14</td>\n",
       "      <td>Keyword_3</td>\n",
       "      <td>33.0</td>\n",
       "      <td>cold</td>\n",
       "      <td>223.0</td>\n",
       "      <td>14.80</td>\n",
       "    </tr>\n",
       "    <tr>\n",
       "      <th>3</th>\n",
       "      <td>2016-12-14</td>\n",
       "      <td>Keyword_4</td>\n",
       "      <td>32.0</td>\n",
       "      <td>sun</td>\n",
       "      <td>223.0</td>\n",
       "      <td>14.35</td>\n",
       "    </tr>\n",
       "    <tr>\n",
       "      <th>4</th>\n",
       "      <td>2016-12-14</td>\n",
       "      <td>Keyword_5</td>\n",
       "      <td>17.0</td>\n",
       "      <td>warm</td>\n",
       "      <td>223.0</td>\n",
       "      <td>7.62</td>\n",
       "    </tr>\n",
       "  </tbody>\n",
       "</table>\n",
       "</div>"
      ],
      "text/plain": [
       "         date       rank  count keyword  total count  % daily occurence\n",
       "0  2016-12-14  Keyword_1   35.0     fog        223.0              15.70\n",
       "1  2016-12-14  Keyword_2   33.0     hot        223.0              14.80\n",
       "2  2016-12-14  Keyword_3   33.0    cold        223.0              14.80\n",
       "3  2016-12-14  Keyword_4   32.0     sun        223.0              14.35\n",
       "4  2016-12-14  Keyword_5   17.0    warm        223.0               7.62"
      ]
     },
     "execution_count": 47,
     "metadata": {},
     "output_type": "execute_result"
    }
   ],
   "source": [
    "Word_count = tw_final_upv.merge(tw_hot_cold)\n",
    "Word_count = Word_count.drop(['cold', 'hot', '% hot', '% cold'], axis =1)\n",
    "Word_count['% daily occurence'] = ((Word_count['count'] / Word_count['total count'] )*100).round(2)\n",
    "\n",
    "Word_count.head()"
   ]
  },
  {
   "cell_type": "code",
   "execution_count": 48,
   "metadata": {
    "collapsed": false
   },
   "outputs": [],
   "source": [
    "# Plot 1- % cold keyword against temperature at noon\n",
    "\n",
    "trace0 = Scatter(\n",
    "    x = Word_count[(Word_count['keyword'] == 'cold')]['date'],\n",
    "    y = (100 - Word_count[(Word_count['keyword'] == 'cold')]['% daily occurence']), # % Not talking about cold\n",
    "    name = 'Twitter not \"cold\" % Occurrence',\n",
    "    line = dict(\n",
    "        color = 'navy',\n",
    "        width = 3\n",
    "    ),\n",
    "    yaxis='y2'\n",
    ")\n",
    "\n",
    "trace1 = go.Scatter(\n",
    "    x = X,\n",
    "    y = Y[:,3],\n",
    "    name = 'Met Office Temperature at Noon',\n",
    "    line = dict(\n",
    "        color = 'orange',\n",
    "        width = 2,\n",
    "    )\n",
    ")\n",
    "\n",
    "data = [trace0, trace1]\n",
    "layout = go.Layout(\n",
    "    title='% of keywords not being cold and the actual temperature',\n",
    "    yaxis=dict(\n",
    "        title='Temperature (degrees C)',\n",
    "        range = [0,20]\n",
    "    ),\n",
    "    yaxis2=dict(\n",
    "        title='% Different from Cold',\n",
    "        overlaying='y',\n",
    "        side='right',\n",
    "        range = [80, 90]\n",
    "    ),\n",
    "    legend = dict(\n",
    "        x = 0,\n",
    "        y = -0.75\n",
    "    ),\n",
    "    font=dict(family='Old Standard TT, serif', size=14, color='purple')\n",
    ")\n",
    "fig = go.Figure(data=data, layout=layout)\n",
    "#iplot(fig)\n",
    "plot_url = py.plot(fig, filename = 'Twitter %cold and Met Office')"
   ]
  },
  {
   "cell_type": "code",
   "execution_count": null,
   "metadata": {
    "collapsed": true
   },
   "outputs": [],
   "source": []
  }
 ],
 "metadata": {
  "anaconda-cloud": {},
  "kernelspec": {
   "display_name": "Python [conda root]",
   "language": "python",
   "name": "conda-root-py"
  },
  "language_info": {
   "codemirror_mode": {
    "name": "ipython",
    "version": 2
   },
   "file_extension": ".py",
   "mimetype": "text/x-python",
   "name": "python",
   "nbconvert_exporter": "python",
   "pygments_lexer": "ipython2",
   "version": "2.7.12"
  }
 },
 "nbformat": 4,
 "nbformat_minor": 1
}
