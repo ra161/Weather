{
 "cells": [
  {
   "cell_type": "code",
   "execution_count": 8,
   "metadata": {
    "collapsed": true
   },
   "outputs": [],
   "source": [
    "import json\n",
    "import urllib\n",
    "import pandas as pd\n",
    "import numpy as np\n",
    "from pandas import Series, DataFrame\n",
    "from pandas.io.json import json_normalize"
   ]
  },
  {
   "cell_type": "code",
   "execution_count": null,
   "metadata": {
    "collapsed": false
   },
   "outputs": [],
   "source": [
    "from twython import TwythonStreamer\n",
    "\n",
    "tweets = []\n",
    "\n",
    "CONSUMER_KEY = 'iIGro5OoOYFmmJBbweRApLYEL'\n",
    "CONSUMER_SECRET = 'tIEz0ak8XJmgprbWiR9TEPGT687zvcRS0jOsIVvsNJqFXZXjEe'\n",
    "ACCESS_TOKEN = '2296555754-6BWSExNbF8QfcC2BuDzA8ZkPiKRuenJUzUzhTjq'\n",
    "ACCESS_TOKEN_SECRET = 'eTkSwRw0pFKtSTHaAnlziiPa2UxQST3d7sHq7xdvjJwyw'\n",
    "\n",
    "class MyStreamer(TwythonStreamer):\n",
    "    def on_success(self, data):\n",
    "        if data['lang'] == 'en':\n",
    "            tweets.append(data)\n",
    "            print 'received tweet no ', len(tweets)\n",
    "\n",
    "        if len(tweets) >= 1:\n",
    "            \n",
    "            self.disconnect()\n",
    "    def on_error(self, status_code, data):\n",
    "        self.disconnect()\n",
    "\n",
    "\n",
    "stream = MyStreamer(CONSUMER_KEY, CONSUMER_SECRET, ACCESS_TOKEN, ACCESS_TOKEN_SECRET)\n",
    "stream.statuses.filter(track='gatwick wind')  # this is your filter / search term you are looking for tweets about...\n",
    "\n",
    "\n",
    "with open(r\"C:\\Data\\Weather\\twitter_weather_scrape.json\", \"w\") as tw:  # replace \"w\" with \"r+\" so we don't overwrite it.\n",
    "    json.dump(tweets, tw)"
   ]
  },
  {
   "cell_type": "code",
   "execution_count": 42,
   "metadata": {
    "collapsed": false
   },
   "outputs": [
    {
     "data": {
      "text/plain": [
       "list"
      ]
     },
     "execution_count": 42,
     "metadata": {},
     "output_type": "execute_result"
    }
   ],
   "source": [
    "with open(r\"C:\\\\Data\\Weather\\\\twitter_weather_scrape.json\", \"r\") as j:\n",
    "    data = json.load(j)\n",
    "\n",
    "type(data)"
   ]
  },
  {
   "cell_type": "code",
   "execution_count": 43,
   "metadata": {
    "collapsed": false
   },
   "outputs": [
    {
     "data": {
      "text/plain": [
       "[{u'contributors': None,\n",
       "  u'coordinates': None,\n",
       "  u'created_at': u'Wed Dec 07 10:26:44 +0000 2016',\n",
       "  u'entities': {u'hashtags': [],\n",
       "   u'symbols': [],\n",
       "   u'urls': [],\n",
       "   u'user_mentions': [{u'id': 19641329,\n",
       "     u'id_str': u'19641329',\n",
       "     u'indices': [0, 6],\n",
       "     u'name': u'RAF Benevolent Fund',\n",
       "     u'screen_name': u'RAFBF'}]},\n",
       "  u'favorite_count': 0,\n",
       "  u'favorited': False,\n",
       "  u'filter_level': u'low',\n",
       "  u'geo': None,\n",
       "  u'id': 806444829051908096L,\n",
       "  u'id_str': u'806444829051908096',\n",
       "  u'in_reply_to_screen_name': u'RAFBF',\n",
       "  u'in_reply_to_status_id': None,\n",
       "  u'in_reply_to_status_id_str': None,\n",
       "  u'in_reply_to_user_id': 19641329,\n",
       "  u'in_reply_to_user_id_str': u'19641329',\n",
       "  u'is_quote_status': False,\n",
       "  u'lang': u'en',\n",
       "  u'place': None,\n",
       "  u'retweet_count': 0,\n",
       "  u'retweeted': False,\n",
       "  u'source': u'<a href=\"http://www.twitter.com\" rel=\"nofollow\">Twitter for Windows Phone</a>',\n",
       "  u'text': u'@RAFBF Goldfish bowl collect box in BHX gate 15 has a fortune in it. U need a sack truck.',\n",
       "  u'timestamp_ms': u'1481106404923',\n",
       "  u'truncated': False,\n",
       "  u'user': {u'contributors_enabled': False,\n",
       "   u'created_at': u'Wed May 25 10:45:04 +0000 2016',\n",
       "   u'default_profile': True,\n",
       "   u'default_profile_image': True,\n",
       "   u'description': None,\n",
       "   u'favourites_count': 0,\n",
       "   u'follow_request_sent': None,\n",
       "   u'followers_count': 0,\n",
       "   u'following': None,\n",
       "   u'friends_count': 6,\n",
       "   u'geo_enabled': False,\n",
       "   u'id': 735421419522297856L,\n",
       "   u'id_str': u'735421419522297856',\n",
       "   u'is_translator': False,\n",
       "   u'lang': u'en',\n",
       "   u'listed_count': 0,\n",
       "   u'location': None,\n",
       "   u'name': u'mark wackrill',\n",
       "   u'notifications': None,\n",
       "   u'profile_background_color': u'F5F8FA',\n",
       "   u'profile_background_image_url': u'',\n",
       "   u'profile_background_image_url_https': u'',\n",
       "   u'profile_background_tile': False,\n",
       "   u'profile_image_url': u'http://abs.twimg.com/sticky/default_profile_images/default_profile_5_normal.png',\n",
       "   u'profile_image_url_https': u'https://abs.twimg.com/sticky/default_profile_images/default_profile_5_normal.png',\n",
       "   u'profile_link_color': u'1DA1F2',\n",
       "   u'profile_sidebar_border_color': u'C0DEED',\n",
       "   u'profile_sidebar_fill_color': u'DDEEF6',\n",
       "   u'profile_text_color': u'333333',\n",
       "   u'profile_use_background_image': True,\n",
       "   u'protected': False,\n",
       "   u'screen_name': u'thatsoapmark',\n",
       "   u'statuses_count': 9,\n",
       "   u'time_zone': None,\n",
       "   u'url': None,\n",
       "   u'utc_offset': None,\n",
       "   u'verified': False}}]"
      ]
     },
     "execution_count": 43,
     "metadata": {},
     "output_type": "execute_result"
    }
   ],
   "source": [
    "data"
   ]
  },
  {
   "cell_type": "code",
   "execution_count": 17,
   "metadata": {
    "collapsed": false
   },
   "outputs": [
    {
     "data": {
      "text/html": [
       "<div>\n",
       "<table border=\"1\" class=\"dataframe\">\n",
       "  <thead>\n",
       "    <tr style=\"text-align: right;\">\n",
       "      <th></th>\n",
       "      <th>contributors</th>\n",
       "      <th>coordinates</th>\n",
       "      <th>created_at</th>\n",
       "      <th>entities</th>\n",
       "      <th>favorite_count</th>\n",
       "      <th>favorited</th>\n",
       "      <th>filter_level</th>\n",
       "      <th>geo</th>\n",
       "      <th>id</th>\n",
       "      <th>id_str</th>\n",
       "      <th>...</th>\n",
       "      <th>is_quote_status</th>\n",
       "      <th>lang</th>\n",
       "      <th>place</th>\n",
       "      <th>retweet_count</th>\n",
       "      <th>retweeted</th>\n",
       "      <th>source</th>\n",
       "      <th>text</th>\n",
       "      <th>timestamp_ms</th>\n",
       "      <th>truncated</th>\n",
       "      <th>user</th>\n",
       "    </tr>\n",
       "  </thead>\n",
       "  <tbody>\n",
       "    <tr>\n",
       "      <th>0</th>\n",
       "      <td>None</td>\n",
       "      <td>None</td>\n",
       "      <td>Fri Dec 02 16:28:08 +0000 2016</td>\n",
       "      <td>{u'user_mentions': [], u'symbols': [], u'hasht...</td>\n",
       "      <td>0</td>\n",
       "      <td>False</td>\n",
       "      <td>low</td>\n",
       "      <td>None</td>\n",
       "      <td>804723836008759296</td>\n",
       "      <td>804723836008759296</td>\n",
       "      <td>...</td>\n",
       "      <td>False</td>\n",
       "      <td>en</td>\n",
       "      <td>None</td>\n",
       "      <td>0</td>\n",
       "      <td>False</td>\n",
       "      <td>&lt;a href=\"http://twitter.com/download/iphone\" r...</td>\n",
       "      <td>I Can't wait for the weather to be warm again</td>\n",
       "      <td>1480696088207</td>\n",
       "      <td>False</td>\n",
       "      <td>{u'follow_request_sent': None, u'profile_use_b...</td>\n",
       "    </tr>\n",
       "  </tbody>\n",
       "</table>\n",
       "<p>1 rows × 25 columns</p>\n",
       "</div>"
      ],
      "text/plain": [
       "  contributors coordinates                      created_at  \\\n",
       "0         None        None  Fri Dec 02 16:28:08 +0000 2016   \n",
       "\n",
       "                                            entities  favorite_count  \\\n",
       "0  {u'user_mentions': [], u'symbols': [], u'hasht...               0   \n",
       "\n",
       "  favorited filter_level   geo                  id              id_str  \\\n",
       "0     False          low  None  804723836008759296  804723836008759296   \n",
       "\n",
       "                         ...                         is_quote_status lang  \\\n",
       "0                        ...                                   False   en   \n",
       "\n",
       "  place retweet_count retweeted  \\\n",
       "0  None             0     False   \n",
       "\n",
       "                                              source  \\\n",
       "0  <a href=\"http://twitter.com/download/iphone\" r...   \n",
       "\n",
       "                                            text   timestamp_ms  truncated  \\\n",
       "0  I Can't wait for the weather to be warm again  1480696088207      False   \n",
       "\n",
       "                                                user  \n",
       "0  {u'follow_request_sent': None, u'profile_use_b...  \n",
       "\n",
       "[1 rows x 25 columns]"
      ]
     },
     "execution_count": 17,
     "metadata": {},
     "output_type": "execute_result"
    }
   ],
   "source": [
    "import pandas as pd\n",
    "import numpy as np\n",
    "df = pd.DataFrame(data)\n",
    "df"
   ]
  },
  {
   "cell_type": "code",
   "execution_count": 24,
   "metadata": {
    "collapsed": false
   },
   "outputs": [
    {
     "data": {
      "text/html": [
       "<div>\n",
       "<table border=\"1\" class=\"dataframe\">\n",
       "  <thead>\n",
       "    <tr style=\"text-align: right;\">\n",
       "      <th></th>\n",
       "      <th>text</th>\n",
       "      <th>created_at</th>\n",
       "      <th>timestamp_ms</th>\n",
       "      <th>retweet_count</th>\n",
       "      <th>favorite_count</th>\n",
       "    </tr>\n",
       "  </thead>\n",
       "  <tbody>\n",
       "    <tr>\n",
       "      <th>0</th>\n",
       "      <td>I Can't wait for the weather to be warm again</td>\n",
       "      <td>Fri Dec 02 16:28:08 +0000 2016</td>\n",
       "      <td>1480696088207</td>\n",
       "      <td>0</td>\n",
       "      <td>0</td>\n",
       "    </tr>\n",
       "  </tbody>\n",
       "</table>\n",
       "</div>"
      ],
      "text/plain": [
       "                                            text  \\\n",
       "0  I Can't wait for the weather to be warm again   \n",
       "\n",
       "                       created_at   timestamp_ms  retweet_count  \\\n",
       "0  Fri Dec 02 16:28:08 +0000 2016  1480696088207              0   \n",
       "\n",
       "   favorite_count  \n",
       "0               0  "
      ]
     },
     "execution_count": 24,
     "metadata": {},
     "output_type": "execute_result"
    }
   ],
   "source": [
    "dffiltered = df[['text', 'created_at', 'timestamp_ms', 'retweet_count', 'favorite_count']]\n",
    "dffiltered"
   ]
  },
  {
   "cell_type": "code",
   "execution_count": 25,
   "metadata": {
    "collapsed": false
   },
   "outputs": [
    {
     "data": {
      "text/plain": [
       "[u'contributors',\n",
       " u'coordinates',\n",
       " u'created_at',\n",
       " u'entities',\n",
       " u'favorite_count',\n",
       " u'favorited',\n",
       " u'filter_level',\n",
       " u'geo',\n",
       " u'id',\n",
       " u'id_str',\n",
       " u'in_reply_to_screen_name',\n",
       " u'in_reply_to_status_id',\n",
       " u'in_reply_to_status_id_str',\n",
       " u'in_reply_to_user_id',\n",
       " u'in_reply_to_user_id_str',\n",
       " u'is_quote_status',\n",
       " u'lang',\n",
       " u'place',\n",
       " u'retweet_count',\n",
       " u'retweeted',\n",
       " u'source',\n",
       " u'text',\n",
       " u'timestamp_ms',\n",
       " u'truncated',\n",
       " u'user']"
      ]
     },
     "execution_count": 25,
     "metadata": {},
     "output_type": "execute_result"
    }
   ],
   "source": [
    "list(df.columns.values)"
   ]
  },
  {
   "cell_type": "code",
   "execution_count": null,
   "metadata": {
    "collapsed": true
   },
   "outputs": [],
   "source": []
  }
 ],
 "metadata": {
  "anaconda-cloud": {},
  "kernelspec": {
   "display_name": "Python [conda root]",
   "language": "python",
   "name": "conda-root-py"
  },
  "language_info": {
   "codemirror_mode": {
    "name": "ipython",
    "version": 2
   },
   "file_extension": ".py",
   "mimetype": "text/x-python",
   "name": "python",
   "nbconvert_exporter": "python",
   "pygments_lexer": "ipython2",
   "version": "2.7.12"
  }
 },
 "nbformat": 4,
 "nbformat_minor": 1
}
