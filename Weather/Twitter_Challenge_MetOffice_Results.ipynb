{
 "cells": [
  {
   "cell_type": "code",
   "execution_count": 1,
   "metadata": {
    "collapsed": false
   },
   "outputs": [],
   "source": [
    "import scipy\n",
    "import numpy as np\n",
    "import pandas as pd\n",
    "import plotly.plotly as py\n",
    "# import visplots\n",
    "from plotly.graph_objs import *\n",
    "from plotly.offline import download_plotlyjs, init_notebook_mode, iplot\n",
    "from sklearn import preprocessing, metrics\n",
    "from sklearn.cross_validation import train_test_split, cross_val_score\n",
    "from sklearn.neighbors import KNeighborsClassifier\n",
    "from sklearn.ensemble import RandomForestClassifier\n",
    "from sklearn.tree import DecisionTreeClassifier\n",
    "from sklearn.grid_search import GridSearchCV, RandomizedSearchCV\n",
    "from scipy.stats.distributions import randint\n",
    "import csv\n",
    "import numpy as np\n",
    "from pandas import Series, DataFrame\n",
    "import plotly.graph_objs as go\n",
    "from plotly import tools"
   ]
  },
  {
   "cell_type": "code",
   "execution_count": 2,
   "metadata": {
    "collapsed": false
   },
   "outputs": [],
   "source": [
    "forecast = pd.read_csv(\"C:\\\\Data\\\\Twitter\\\\Weather-forecast.csv\", sep=',', delimiter=None)"
   ]
  },
  {
   "cell_type": "code",
   "execution_count": 3,
   "metadata": {
    "collapsed": false
   },
   "outputs": [
    {
     "data": {
      "text/html": [
       "<div>\n",
       "<table border=\"1\" class=\"dataframe\">\n",
       "  <thead>\n",
       "    <tr style=\"text-align: right;\">\n",
       "      <th></th>\n",
       "      <th>Date</th>\n",
       "      <th>Weather</th>\n",
       "      <th>Temperature</th>\n",
       "      <th>Days From Pull</th>\n",
       "    </tr>\n",
       "  </thead>\n",
       "  <tbody>\n",
       "    <tr>\n",
       "      <th>0</th>\n",
       "      <td>2016-12-07</td>\n",
       "      <td>3</td>\n",
       "      <td>11</td>\n",
       "      <td>0</td>\n",
       "    </tr>\n",
       "    <tr>\n",
       "      <th>1</th>\n",
       "      <td>2016-12-08</td>\n",
       "      <td>8</td>\n",
       "      <td>11</td>\n",
       "      <td>1</td>\n",
       "    </tr>\n",
       "    <tr>\n",
       "      <th>2</th>\n",
       "      <td>2016-12-09</td>\n",
       "      <td>8</td>\n",
       "      <td>9</td>\n",
       "      <td>2</td>\n",
       "    </tr>\n",
       "    <tr>\n",
       "      <th>3</th>\n",
       "      <td>2016-12-10</td>\n",
       "      <td>8</td>\n",
       "      <td>11</td>\n",
       "      <td>3</td>\n",
       "    </tr>\n",
       "    <tr>\n",
       "      <th>4</th>\n",
       "      <td>2016-12-11</td>\n",
       "      <td>1</td>\n",
       "      <td>7</td>\n",
       "      <td>4</td>\n",
       "    </tr>\n",
       "  </tbody>\n",
       "</table>\n",
       "</div>"
      ],
      "text/plain": [
       "         Date  Weather  Temperature  Days From Pull\n",
       "0  2016-12-07        3           11               0\n",
       "1  2016-12-08        8           11               1\n",
       "2  2016-12-09        8            9               2\n",
       "3  2016-12-10        8           11               3\n",
       "4  2016-12-11        1            7               4"
      ]
     },
     "execution_count": 3,
     "metadata": {},
     "output_type": "execute_result"
    }
   ],
   "source": [
    "forecast.head()"
   ]
  },
  {
   "cell_type": "markdown",
   "metadata": {},
   "source": [
    "# Bucket the weather codes"
   ]
  },
  {
   "cell_type": "code",
   "execution_count": 4,
   "metadata": {
    "collapsed": false
   },
   "outputs": [
    {
     "name": "stderr",
     "output_type": "stream",
     "text": [
      "C:\\Users\\Student29\\Anaconda2\\lib\\site-packages\\ipykernel\\__main__.py:11: SettingWithCopyWarning:\n",
      "\n",
      "\n",
      "A value is trying to be set on a copy of a slice from a DataFrame\n",
      "\n",
      "See the caveats in the documentation: http://pandas.pydata.org/pandas-docs/stable/indexing.html#indexing-view-versus-copy\n",
      "\n",
      "C:\\Users\\Student29\\Anaconda2\\lib\\site-packages\\ipykernel\\__main__.py:32: SettingWithCopyWarning:\n",
      "\n",
      "\n",
      "A value is trying to be set on a copy of a slice from a DataFrame\n",
      "\n",
      "See the caveats in the documentation: http://pandas.pydata.org/pandas-docs/stable/indexing.html#indexing-view-versus-copy\n",
      "\n",
      "C:\\Users\\Student29\\Anaconda2\\lib\\site-packages\\ipykernel\\__main__.py:14: SettingWithCopyWarning:\n",
      "\n",
      "\n",
      "A value is trying to be set on a copy of a slice from a DataFrame\n",
      "\n",
      "See the caveats in the documentation: http://pandas.pydata.org/pandas-docs/stable/indexing.html#indexing-view-versus-copy\n",
      "\n",
      "C:\\Users\\Student29\\Anaconda2\\lib\\site-packages\\ipykernel\\__main__.py:29: SettingWithCopyWarning:\n",
      "\n",
      "\n",
      "A value is trying to be set on a copy of a slice from a DataFrame\n",
      "\n",
      "See the caveats in the documentation: http://pandas.pydata.org/pandas-docs/stable/indexing.html#indexing-view-versus-copy\n",
      "\n",
      "C:\\Users\\Student29\\Anaconda2\\lib\\site-packages\\ipykernel\\__main__.py:17: SettingWithCopyWarning:\n",
      "\n",
      "\n",
      "A value is trying to be set on a copy of a slice from a DataFrame\n",
      "\n",
      "See the caveats in the documentation: http://pandas.pydata.org/pandas-docs/stable/indexing.html#indexing-view-versus-copy\n",
      "\n"
     ]
    }
   ],
   "source": [
    "#  1: Sunny - 2: Cloudy\n",
    "#  3: Light rain - 4: Heavy rain\n",
    "#  5: Sleet/Hail - 6: Snow\n",
    "#  7: Thunder - 8: Fog/Mist\n",
    "\n",
    "\n",
    "forecast['Bucket_Weather'] = None\n",
    "\n",
    "for i in range(len(forecast.index)):   # number of rows in our dataframe - updated when new data are uploaded\n",
    "    if (forecast['Weather'][i] in {2, 3, 7, 8}) == True:\n",
    "            forecast['Bucket_Weather'][i] = 2\n",
    "    \n",
    "    elif (forecast['Weather'][i] in {9, 10, 11, 12}) == True:\n",
    "            forecast['Bucket_Weather'][i] = 3\n",
    "    \n",
    "    elif (forecast['Weather'][i] in {13, 14, 15}) == True:\n",
    "            forecast['Bucket_Weather'][i] = 4\n",
    "        \n",
    "    elif (forecast['Weather'][i] in {16, 17, 18, 19, 20, 21}) == True:\n",
    "            forecast['Bucket_Weather'][i] = 5\n",
    "    \n",
    "    elif (forecast['Weather'][i] in {22, 23, 24, 25, 26, 27}) == True:\n",
    "            forecast['Bucket_Weather'][i] = 6\n",
    "\n",
    "    elif (forecast['Weather'][i] in {28, 29, 30}) == True:\n",
    "            forecast['Bucket_Weather'][i] = 7\n",
    "\n",
    "    elif (forecast['Weather'][i] in {5, 6}) == True:\n",
    "            forecast['Bucket_Weather'][i] = 8\n",
    "    \n",
    "    else:\n",
    "           forecast['Bucket_Weather'][i] = 1 "
   ]
  },
  {
   "cell_type": "code",
   "execution_count": 5,
   "metadata": {
    "collapsed": false
   },
   "outputs": [
    {
     "data": {
      "text/html": [
       "<div>\n",
       "<table border=\"1\" class=\"dataframe\">\n",
       "  <thead>\n",
       "    <tr style=\"text-align: right;\">\n",
       "      <th></th>\n",
       "      <th>Date</th>\n",
       "      <th>Weather</th>\n",
       "      <th>Temperature</th>\n",
       "      <th>Days From Pull</th>\n",
       "      <th>Bucket_Weather</th>\n",
       "    </tr>\n",
       "  </thead>\n",
       "  <tbody>\n",
       "    <tr>\n",
       "      <th>135</th>\n",
       "      <td>2017-01-03</td>\n",
       "      <td>3</td>\n",
       "      <td>2</td>\n",
       "      <td>0</td>\n",
       "      <td>2</td>\n",
       "    </tr>\n",
       "    <tr>\n",
       "      <th>136</th>\n",
       "      <td>2017-01-04</td>\n",
       "      <td>7</td>\n",
       "      <td>5</td>\n",
       "      <td>1</td>\n",
       "      <td>2</td>\n",
       "    </tr>\n",
       "    <tr>\n",
       "      <th>137</th>\n",
       "      <td>2017-01-05</td>\n",
       "      <td>1</td>\n",
       "      <td>2</td>\n",
       "      <td>2</td>\n",
       "      <td>1</td>\n",
       "    </tr>\n",
       "    <tr>\n",
       "      <th>138</th>\n",
       "      <td>2017-01-06</td>\n",
       "      <td>7</td>\n",
       "      <td>3</td>\n",
       "      <td>3</td>\n",
       "      <td>2</td>\n",
       "    </tr>\n",
       "    <tr>\n",
       "      <th>139</th>\n",
       "      <td>2017-01-07</td>\n",
       "      <td>8</td>\n",
       "      <td>8</td>\n",
       "      <td>4</td>\n",
       "      <td>2</td>\n",
       "    </tr>\n",
       "  </tbody>\n",
       "</table>\n",
       "</div>"
      ],
      "text/plain": [
       "           Date  Weather  Temperature  Days From Pull Bucket_Weather\n",
       "135  2017-01-03        3            2               0              2\n",
       "136  2017-01-04        7            5               1              2\n",
       "137  2017-01-05        1            2               2              1\n",
       "138  2017-01-06        7            3               3              2\n",
       "139  2017-01-07        8            8               4              2"
      ]
     },
     "execution_count": 5,
     "metadata": {},
     "output_type": "execute_result"
    }
   ],
   "source": [
    "forecast.tail()"
   ]
  },
  {
   "cell_type": "code",
   "execution_count": 6,
   "metadata": {
    "collapsed": false
   },
   "outputs": [],
   "source": [
    "accurate = ((forecast[(forecast['Days From Pull'] == 0)]))\n",
    "\n",
    "# Reset the index so numbers are increasing by 1\n",
    "accurate = accurate.reset_index(drop=True)\n",
    "#accurate"
   ]
  },
  {
   "cell_type": "code",
   "execution_count": 7,
   "metadata": {
    "collapsed": false
   },
   "outputs": [],
   "source": [
    "# Header for plots\n",
    "header = accurate.columns.values"
   ]
  },
  {
   "cell_type": "code",
   "execution_count": 8,
   "metadata": {
    "collapsed": false
   },
   "outputs": [
    {
     "data": {
      "text/plain": [
       "(28L, 5L)"
      ]
     },
     "execution_count": 8,
     "metadata": {},
     "output_type": "execute_result"
    }
   ],
   "source": [
    "npArray = np.array(accurate)\n",
    "npArray.shape"
   ]
  },
  {
   "cell_type": "code",
   "execution_count": 9,
   "metadata": {
    "collapsed": false
   },
   "outputs": [],
   "source": [
    "# Put the date in X, the rest of the parameter in Y\n",
    "X = npArray[:,0]\n",
    "Y = npArray[:,1:]"
   ]
  },
  {
   "cell_type": "code",
   "execution_count": 10,
   "metadata": {
    "collapsed": false
   },
   "outputs": [],
   "source": [
    "# Create temperature with the forecast the day before\n",
    "Onedaybefore = (forecast[(forecast['Days From Pull'] == 1)])\n",
    "Onedaybefore = Onedaybefore.reset_index(drop=True)\n",
    "npArray1 = np.array(Onedaybefore)\n",
    "X1 = npArray1[:,0]\n",
    "Y1 = npArray1[:,1:]\n"
   ]
  },
  {
   "cell_type": "code",
   "execution_count": 11,
   "metadata": {
    "collapsed": false
   },
   "outputs": [],
   "source": [
    "# Create temperature with the forecast two days before\n",
    "Twodaybefore = (forecast[(forecast['Days From Pull'] == 2)])\n",
    "Twodaybefore = Twodaybefore.reset_index(drop=True)\n",
    "npArray2 = np.array(Twodaybefore)\n",
    "X2 = npArray2[:,0]\n",
    "Y2 = npArray2[:,1:]\n"
   ]
  },
  {
   "cell_type": "code",
   "execution_count": 12,
   "metadata": {
    "collapsed": false
   },
   "outputs": [],
   "source": [
    "# Create temperature with the forecast three days before\n",
    "Threedaybefore = (forecast[(forecast['Days From Pull'] == 3)])\n",
    "Threedaybefore = Threedaybefore.reset_index(drop=True)\n",
    "npArray3 = np.array(Threedaybefore)\n",
    "X3 = npArray3[:,0]\n",
    "Y3 = npArray3[:,1:]\n"
   ]
  },
  {
   "cell_type": "code",
   "execution_count": 13,
   "metadata": {
    "collapsed": true
   },
   "outputs": [],
   "source": [
    "# Create temperature with the forecast four days before\n",
    "Fourdaybefore = (forecast[(forecast['Days From Pull'] == 4)])\n",
    "Fourdaybefore = Fourdaybefore.reset_index(drop=True)\n",
    "#npArray4 = np.array(Threedaybefore)\n",
    "#X4 = npArray4[:,0]\n",
    "#Y4 = npArray4[:,1:]"
   ]
  },
  {
   "cell_type": "markdown",
   "metadata": {},
   "source": [
    "# Plot the temperatures as line"
   ]
  },
  {
   "cell_type": "code",
   "execution_count": 15,
   "metadata": {
    "collapsed": false
   },
   "outputs": [],
   "source": [
    "#init_notebook_mode()"
   ]
  },
  {
   "cell_type": "code",
   "execution_count": 14,
   "metadata": {
    "collapsed": false
   },
   "outputs": [],
   "source": [
    "# Save graph into plotly account\n",
    "import plotly\n",
    "plotly.tools.set_credentials_file(username='Laura_Foulquier', api_key='zehu3fat3Mfs6v3pTNMY')"
   ]
  },
  {
   "cell_type": "code",
   "execution_count": 15,
   "metadata": {
    "collapsed": false
   },
   "outputs": [
    {
     "data": {
      "text/plain": [
       "u'https://plot.ly/~Laura_Foulquier/2'"
      ]
     },
     "execution_count": 15,
     "metadata": {},
     "output_type": "execute_result"
    }
   ],
   "source": [
    "f1 = 1\n",
    "\n",
    "trace0 = go.Scatter(\n",
    "    x = X,\n",
    "    y = Y[:,f1],\n",
    "    name = 'Temperature at noon',\n",
    "    line = dict(\n",
    "        color = 'orange',\n",
    "        width = 3\n",
    "    )\n",
    ")\n",
    "\n",
    "trace1 = go.Scatter(\n",
    "    x = X1,\n",
    "    y = Y1[:,f1],\n",
    "    name = 'Temp 1 day prediction',\n",
    "    line = dict(\n",
    "        color = 'orange',\n",
    "        width = 2,\n",
    "        dash = 'dot'\n",
    "    )\n",
    ")\n",
    "\n",
    "trace2 = go.Scatter(\n",
    "    x = X2,\n",
    "    y = Y2[:,f1],\n",
    "    name = 'Temp 2 day prediction',\n",
    "    line = dict(\n",
    "        color = 'blue',\n",
    "        width = 2,\n",
    "        dash = 'dot'\n",
    "    )\n",
    ")\n",
    "\n",
    "trace3 = go.Scatter(\n",
    "    x = X3,\n",
    "    y = Y3[:,f1],\n",
    "    name = 'Temp 3 day prediction',\n",
    "    line = dict(\n",
    "        color = 'green',\n",
    "        width = 0.5,\n",
    "        dash = 'dot',\n",
    "    )\n",
    ")\n",
    "\n",
    "layout = Layout(\n",
    "    xaxis = dict(title = 'Date'),\n",
    "    yaxis = dict(\n",
    "        title = 'Temperature',\n",
    "        range = [0,16]\n",
    "    ),\n",
    "    showlegend = True,\n",
    "    font=dict(family='Old Standard TT, serif', size=16, color='#7f7f7f')\n",
    ")\n",
    "\n",
    "data = [trace0, trace1, trace2, trace3]\n",
    "\n",
    "fig = dict(data=data, layout = layout)\n",
    "#iplot(fig)\n",
    "\n",
    "# Put the plot in the plotly account\n",
    "py.plot(fig, filename = 'MetOffice-Temperature-Prediction')"
   ]
  },
  {
   "cell_type": "markdown",
   "metadata": {},
   "source": [
    "# Work on forecast accuracy"
   ]
  },
  {
   "cell_type": "code",
   "execution_count": 16,
   "metadata": {
    "collapsed": false
   },
   "outputs": [],
   "source": [
    "# Create an accuracy DataFrame to see how accurate the forecast is \n",
    "accuracy = pd.DataFrame()\n",
    "accuracy['Date'] = accurate['Date']\n",
    "accuracy['1Day'] = None\n",
    "accuracy['2Day'] = None\n",
    "accuracy['3Day'] = None\n",
    "accuracy['4Day'] = None\n",
    "#accuracy"
   ]
  },
  {
   "cell_type": "markdown",
   "metadata": {
    "collapsed": false
   },
   "source": [
    "# Build accuracy table"
   ]
  },
  {
   "cell_type": "code",
   "execution_count": 17,
   "metadata": {
    "collapsed": false
   },
   "outputs": [],
   "source": [
    "#  Put a 1 if the forecast match the accurate weather\n",
    "#  0 otherwise\n",
    "\n",
    "for i in (range(len(forecast.index)/5)): \n",
    "    if (Onedaybefore['Bucket_Weather'][i] == accurate['Bucket_Weather'][i]) == True:\n",
    "        accuracy['1Day'][i] = 1\n",
    "    else:\n",
    "        accuracy['1Day'][i] = 0\n",
    "    \n",
    "for i in (range(len(forecast.index)/5)): \n",
    "    if (Twodaybefore['Bucket_Weather'][i] == accurate['Bucket_Weather'][i]) == True:\n",
    "        accuracy['2Day'][i] = 1\n",
    "    else:\n",
    "        accuracy['2Day'][i] = 0\n",
    "\n",
    "for i in (range(len(forecast.index)/5)): \n",
    "    if (Threedaybefore['Bucket_Weather'][i] == accurate['Bucket_Weather'][i]) == True:\n",
    "        accuracy['3Day'][i] = 1\n",
    "    else:\n",
    "        accuracy['3Day'][i] = 0 \n",
    "\n",
    "for i in (range(len(forecast.index)/5)): \n",
    "    if (Fourdaybefore['Bucket_Weather'][i] == accurate['Bucket_Weather'][i]) == True:\n",
    "        accuracy['4Day'][i] = 1\n",
    "    else:\n",
    "        accuracy['4Day'][i] = 0  \n",
    "    \n",
    "#accuracy"
   ]
  },
  {
   "cell_type": "markdown",
   "metadata": {},
   "source": [
    "# Plot accuracy for one day forecast"
   ]
  },
  {
   "cell_type": "code",
   "execution_count": 20,
   "metadata": {
    "collapsed": false
   },
   "outputs": [],
   "source": [
    "# Create the percentages\n",
    "#True1Day = float(accuracy.sum(axis = 0)[1])/float(len(accuracy.index))\n",
    "#False1Day = 1 - True1Day\n",
    "#\n",
    "#fig = {\n",
    "#    'data': [{'labels': ['Exact forecast', 'Non matching forecast'],\n",
    "#              'values': [True1Day, False1Day],\n",
    "#              'type': 'pie'}],\n",
    "#    'layout': {\n",
    "#        'title': 'Accuracy of one day forecast',\n",
    "#        'height': 400\n",
    "#    }\n",
    "#}\n",
    "#\n",
    "#iplot(fig)"
   ]
  },
  {
   "cell_type": "markdown",
   "metadata": {
    "collapsed": false
   },
   "source": [
    "# Grouped bar charts for all forecast"
   ]
  },
  {
   "cell_type": "code",
   "execution_count": 18,
   "metadata": {
    "collapsed": false
   },
   "outputs": [],
   "source": [
    "# Compute the percentages for the other forecasts\n",
    "\n",
    "True1Day = accuracy.sum(axis = 0)[1]\n",
    "False1Day = len(accuracy.index) - True1Day\n",
    "\n",
    "True2Day = accuracy.sum(axis = 0)[2]\n",
    "False2Day = len(accuracy.index) - True2Day\n",
    "\n",
    "True3Day = accuracy.sum(axis = 0)[3]\n",
    "False3Day = len(accuracy.index) - True3Day\n",
    "\n",
    "True4Day = accuracy.sum(axis = 0)[4]\n",
    "False4Day = len(accuracy.index)- True4Day"
   ]
  },
  {
   "cell_type": "code",
   "execution_count": 19,
   "metadata": {
    "collapsed": false
   },
   "outputs": [
    {
     "data": {
      "text/plain": [
       "u'https://plot.ly/~Laura_Foulquier/4'"
      ]
     },
     "execution_count": 19,
     "metadata": {},
     "output_type": "execute_result"
    }
   ],
   "source": [
    "trace1 = go.Bar(\n",
    "    x = ['1 Day Forecast', '2 Day Forecast', '3 Day Forecast', '4 Day Forecast'],\n",
    "    y = [True1Day, True2Day, True3Day, True4Day],\n",
    "    name = 'Accurate Weather Forecast',\n",
    "    marker = dict(\n",
    "        color = 'rgb(158,202,225)',\n",
    "        line = dict(\n",
    "            color = 'rgb(8,48,107)',\n",
    "            width = 1.5)\n",
    "    )\n",
    ")\n",
    "\n",
    "trace2 = go.Bar(\n",
    "    x = ['1 Day Forecast', '2 Day Forecast', '3 Day Forecast', '4 Day Forecast'],\n",
    "    y = [False1Day, False2Day, False3Day, False4Day],\n",
    "    name = 'Non matching Weather Forecast',\n",
    "    marker = dict(\n",
    "        color = 'rgb(255,100,100)',\n",
    "        line = dict(\n",
    "            color = 'rgb(255,0,0)',\n",
    "            width = 1.5)\n",
    "    )\n",
    ")\n",
    "\n",
    "data = [trace1, trace2]\n",
    "layout = go.Layout(\n",
    "    barmode = 'group',\n",
    "    height = 500,\n",
    "    xaxis=dict(tickangle=-45),\n",
    "    font=dict(family='Old Standard TT, serif', size=16, color='#7f7f7f'),\n",
    "    yaxis = dict(\n",
    "        title = 'Counts'\n",
    "))\n",
    "\n",
    "fig = go.Figure(data=data, layout=layout)\n",
    "\n",
    "# Put the plot in the plotly account\n",
    "py.plot(fig, filename = 'MetOffice-Weather-Accuracy')"
   ]
  },
  {
   "cell_type": "markdown",
   "metadata": {
    "collapsed": true
   },
   "source": [
    "# Export MetOffice Data for plotting with  tweets results"
   ]
  },
  {
   "cell_type": "code",
   "execution_count": 31,
   "metadata": {
    "collapsed": false
   },
   "outputs": [],
   "source": [
    "final_weather = accurate\n",
    "final_weather = final_weather.drop(['Weather','Days From Pull'], axis=1)"
   ]
  },
  {
   "cell_type": "code",
   "execution_count": 35,
   "metadata": {
    "collapsed": true
   },
   "outputs": [],
   "source": [
    "final_weather.to_csv(path_or_buf='C:\\\\Data\\\\Twitter\\\\Final_weather_for_plotting.csv', sep=',', na_rep='null', \\\n",
    "                     header=True, index=False, index_label=None, mode='w', encoding=None, compression=None,\\\n",
    "                     quoting=None, quotechar='\"', line_terminator='\\n', chunksize=None, tupleize_cols=False,\\\n",
    "                     date_format=None, doublequote=True, escapechar=None, decimal='.')"
   ]
  },
  {
   "cell_type": "code",
   "execution_count": null,
   "metadata": {
    "collapsed": true
   },
   "outputs": [],
   "source": []
  }
 ],
 "metadata": {
  "anaconda-cloud": {},
  "kernelspec": {
   "display_name": "Python [conda root]",
   "language": "python",
   "name": "conda-root-py"
  },
  "language_info": {
   "codemirror_mode": {
    "name": "ipython",
    "version": 2
   },
   "file_extension": ".py",
   "mimetype": "text/x-python",
   "name": "python",
   "nbconvert_exporter": "python",
   "pygments_lexer": "ipython2",
   "version": "2.7.12"
  }
 },
 "nbformat": 4,
 "nbformat_minor": 1
}
