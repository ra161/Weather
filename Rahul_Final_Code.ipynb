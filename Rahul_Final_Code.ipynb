{
 "cells": [
  {
   "cell_type": "code",
   "execution_count": 7,
   "metadata": {
    "collapsed": false
   },
   "outputs": [],
   "source": [
    "import scipy\n",
    "\n",
    "import numpy as np\n",
    "\n",
    "import pandas as pd\n",
    "from pandas import Series, DataFrame\n",
    "\n",
    "from sklearn import preprocessing, metrics\n",
    "from sklearn.cross_validation import train_test_split, cross_val_score\n",
    "from sklearn.neighbors import KNeighborsClassifier\n",
    "from sklearn.ensemble import RandomForestClassifier\n",
    "from sklearn.tree import DecisionTreeClassifier\n",
    "from sklearn.grid_search import GridSearchCV, RandomizedSearchCV\n",
    "from scipy.stats.distributions import randint\n",
    "\n",
    "import csv\n",
    "\n",
    "\n",
    "import plotly.plotly as py\n",
    "# import visplots\n",
    "from plotly.graph_objs import *\n",
    "from plotly.offline import download_plotlyjs, init_notebook_mode, iplot\n",
    "import plotly.graph_objs as go\n",
    "from plotly import tools\n",
    "import plotly\n",
    "plotly.tools.set_credentials_file(username='ra123', api_key='JtjRYEowQy5bMB6Z9lUD')\n",
    "\n",
    "from nltk import word_tokenize, wordpunct_tokenize\n",
    "from nltk.tokenize import wordpunct_tokenize\n",
    "from nltk.probability import FreqDist, DictionaryProbDist, ELEProbDist, sum_logs\n",
    "from nltk.classify.api import ClassifierI\n",
    "\n",
    "# getting around the ascii characters\n",
    "from django.utils.encoding import smart_str, smart_unicode"
   ]
  },
  {
   "cell_type": "code",
   "execution_count": 8,
   "metadata": {
    "collapsed": false
   },
   "outputs": [],
   "source": [
    "# Import the clean tweets (text and date, then through machine learning)\n",
    "twitter_raw = pd.read_csv(\"C:\\\\Users\\\\Student24\\\\Documents\\\\twitter\\\\plotly\\\\Clean_Tweets1.csv\", sep=',', delimiter=None)"
   ]
  },
  {
   "cell_type": "code",
   "execution_count": 9,
   "metadata": {
    "collapsed": false
   },
   "outputs": [],
   "source": [
    "# Import the weather data from met office\n",
    "met_raw = pd.read_csv(\"C:\\\\Users\\\\Student24\\\\Documents\\\\twitter\\\\plotly\\\\Final_weather_for_plotting.csv\", sep=',', delimiter=None)"
   ]
  },
  {
   "cell_type": "markdown",
   "metadata": {},
   "source": [
    "# Dataframe of data temp. data from met office"
   ]
  },
  {
   "cell_type": "code",
   "execution_count": 64,
   "metadata": {
    "collapsed": false
   },
   "outputs": [
    {
     "data": {
      "text/html": [
       "<div>\n",
       "<table border=\"1\" class=\"dataframe\">\n",
       "  <thead>\n",
       "    <tr style=\"text-align: right;\">\n",
       "      <th></th>\n",
       "      <th>date</th>\n",
       "      <th>Temperature</th>\n",
       "      <th>Bucket_Weather</th>\n",
       "    </tr>\n",
       "  </thead>\n",
       "  <tbody>\n",
       "    <tr>\n",
       "      <th>0</th>\n",
       "      <td>2016-12-07</td>\n",
       "      <td>11</td>\n",
       "      <td>2</td>\n",
       "    </tr>\n",
       "    <tr>\n",
       "      <th>1</th>\n",
       "      <td>2016-12-08</td>\n",
       "      <td>11</td>\n",
       "      <td>2</td>\n",
       "    </tr>\n",
       "    <tr>\n",
       "      <th>2</th>\n",
       "      <td>2016-12-09</td>\n",
       "      <td>12</td>\n",
       "      <td>2</td>\n",
       "    </tr>\n",
       "    <tr>\n",
       "      <th>3</th>\n",
       "      <td>2016-12-10</td>\n",
       "      <td>12</td>\n",
       "      <td>3</td>\n",
       "    </tr>\n",
       "    <tr>\n",
       "      <th>4</th>\n",
       "      <td>2016-12-11</td>\n",
       "      <td>7</td>\n",
       "      <td>1</td>\n",
       "    </tr>\n",
       "  </tbody>\n",
       "</table>\n",
       "</div>"
      ],
      "text/plain": [
       "         date  Temperature  Bucket_Weather\n",
       "0  2016-12-07           11               2\n",
       "1  2016-12-08           11               2\n",
       "2  2016-12-09           12               2\n",
       "3  2016-12-10           12               3\n",
       "4  2016-12-11            7               1"
      ]
     },
     "execution_count": 64,
     "metadata": {},
     "output_type": "execute_result"
    }
   ],
   "source": [
    "met_raw.rename(columns = {'Date':'date'}, inplace = True)\n",
    "met_raw.head()"
   ]
  },
  {
   "cell_type": "markdown",
   "metadata": {},
   "source": [
    "# Delete tweets containing key words"
   ]
  },
  {
   "cell_type": "code",
   "execution_count": 11,
   "metadata": {
    "collapsed": false
   },
   "outputs": [
    {
     "data": {
      "text/plain": [
       "12784"
      ]
     },
     "execution_count": 11,
     "metadata": {},
     "output_type": "execute_result"
    }
   ],
   "source": [
    "twitter_cleaned=twitter_raw[twitter_raw['text'].str.lower().str.contains \\\n",
    "                   (\"great smog of london|spanish|sex|porn|anal|pov|bbw|milf|sexy|shemale|sexyfishrestaurant|\\\n",
    "                   nude|sluts|super hot blonde|adult video|erotic|18+|dirty fun|killer fog|rihanna\")==False]\n",
    "\n",
    "twitter_cleaned = twitter_cleaned.reset_index(drop=True)\n",
    "\n",
    "twitter_cleaned['text'].count()"
   ]
  },
  {
   "cell_type": "markdown",
   "metadata": {
    "collapsed": false
   },
   "source": [
    "#  Machine Learning to clean tweets"
   ]
  },
  {
   "cell_type": "markdown",
   "metadata": {},
   "source": [
    "# 1. Create the Maching learning"
   ]
  },
  {
   "cell_type": "code",
   "execution_count": 12,
   "metadata": {
    "collapsed": true
   },
   "outputs": [],
   "source": [
    "twlist = []\n",
    "\n",
    "with open(r\"C:\\\\Users\\\\Student24\\\\Documents\\\\twitter\\\\plotly\\\\trained_weather_NoRT.csv\", \"r\") as t:\n",
    "    tweets_raw = pd.read_csv(t)\n",
    "\n",
    "tweets = tweets_raw[['text', 'weather']].values.tolist()\n",
    "\n",
    "twlist = [tuple(l) for l in tweets] # turn nested list of lists into list of tuples\n",
    "twtokens = []"
   ]
  },
  {
   "cell_type": "code",
   "execution_count": 13,
   "metadata": {
    "collapsed": true
   },
   "outputs": [],
   "source": [
    "for (words, weather) in twlist:\n",
    "#    words_filtered = [e.lower().decode('utf8') for e in words.split() if len(e) >= 3 and len(e) <= 10] # and <= 10\n",
    "    words_filtered = [unicode(e.lower(), errors = 'replace') for e in words.split() if len(e) >= 3 and len(e) <= 10] # and <= 10\n",
    "    twtokens.append((words_filtered, weather))"
   ]
  },
  {
   "cell_type": "code",
   "execution_count": 14,
   "metadata": {
    "collapsed": true
   },
   "outputs": [],
   "source": [
    "import nltk\n",
    "def get_words_in_tweets(tweets):\n",
    "    all_words = []\n",
    "    for (words, weather) in tweets:\n",
    "        all_words.extend(words)\n",
    "    return all_words\n",
    "\n",
    "def get_word_features(wordlist):\n",
    "    wordlist = nltk.FreqDist(wordlist)\n",
    "    word_features = wordlist.keys()\n",
    "    return word_features"
   ]
  },
  {
   "cell_type": "code",
   "execution_count": 15,
   "metadata": {
    "collapsed": true
   },
   "outputs": [],
   "source": [
    "word_features = get_word_features(get_words_in_tweets(twtokens))"
   ]
  },
  {
   "cell_type": "code",
   "execution_count": 16,
   "metadata": {
    "collapsed": true
   },
   "outputs": [],
   "source": [
    "# The Classifier\n",
    "def extract_features(document):\n",
    "    document_words = set(document)\n",
    "    features = {}\n",
    "    for word in word_features:\n",
    "        features['contains(%s)' % word] = (word in document_words)\n",
    "    return features"
   ]
  },
  {
   "cell_type": "code",
   "execution_count": 17,
   "metadata": {
    "collapsed": false
   },
   "outputs": [
    {
     "name": "stdout",
     "output_type": "stream",
     "text": [
      "Most Informative Features\n",
      "    contains(summer���s) = False              no : yes    =      1.0 : 1.0\n",
      "           contains(66%) = False              no : yes    =      1.0 : 1.0\n",
      "      contains(forecast) = False              no : yes    =      1.0 : 1.0\n",
      "     contains(@thedoors) = False              no : yes    =      1.0 : 1.0\n",
      "      contains(@pc24fym) = False              no : yes    =      1.0 : 1.0\n",
      "    contains(infinit...) = False              no : yes    =      1.0 : 1.0\n",
      "       contains(finally) = False              no : yes    =      1.0 : 1.0\n",
      "        contains(1012mb) = False              no : yes    =      1.0 : 1.0\n",
      "       contains(provide) = False              no : yes    =      1.0 : 1.0\n",
      "    contains(@moosawi17) = False              no : yes    =      1.0 : 1.0\n",
      "      contains(mentally) = False              no : yes    =      1.0 : 1.0\n",
      "          contains(#now) = False              no : yes    =      1.0 : 1.0\n",
      "         contains(rainy) = False              no : yes    =      1.0 : 1.0\n",
      "       contains(anthrax) = False              no : yes    =      1.0 : 1.0\n",
      "         contains(youre) = False              no : yes    =      1.0 : 1.0\n",
      "         contains(#oral) = False              no : yes    =      1.0 : 1.0\n",
      "         contains(chick) = False              no : yes    =      1.0 : 1.0\n",
      "         contains(spray) = False              no : yes    =      1.0 : 1.0\n",
      "         contains(jazdy) = False              no : yes    =      1.0 : 1.0\n",
      "       contains(chicken) = False              no : yes    =      1.0 : 1.0\n",
      "        contains(deluxe) = False              no : yes    =      1.0 : 1.0\n",
      "          contains(memo) = False              no : yes    =      1.0 : 1.0\n",
      "      contains(project.) = False              no : yes    =      1.0 : 1.0\n",
      "       contains(12.9��c) = False              no : yes    =      1.0 : 1.0\n",
      "         contains(quick) = False              no : yes    =      1.0 : 1.0\n",
      "       contains(ignor��) = False              no : yes    =      1.0 : 1.0\n",
      "           contains(15c) = False              no : yes    =      1.0 : 1.0\n",
      "           contains(e10) = False              no : yes    =      1.0 : 1.0\n",
      "       contains(dropout) = False              no : yes    =      1.0 : 1.0\n",
      "         contains(proof) = False              no : yes    =      1.0 : 1.0\n",
      "           contains(500) = False              no : yes    =      1.0 : 1.0\n",
      "    contains(#metoffice) = False              no : yes    =      1.0 : 1.0\n",
      "None\n"
     ]
    }
   ],
   "source": [
    "training_set = nltk.classify.apply_features(extract_features, tweets)\n",
    "\n",
    "# train the classifier\n",
    "classifier = nltk.NaiveBayesClassifier.train(training_set)\n",
    "\n",
    "print classifier.show_most_informative_features(32)"
   ]
  },
  {
   "cell_type": "markdown",
   "metadata": {},
   "source": [
    "# 2. Classify London Tweets"
   ]
  },
  {
   "cell_type": "code",
   "execution_count": 18,
   "metadata": {
    "collapsed": false
   },
   "outputs": [],
   "source": [
    "df = pd.DataFrame(twitter_cleaned)\n",
    "\n",
    "tx = df['text']\n",
    "df['text'] = tx"
   ]
  },
  {
   "cell_type": "code",
   "execution_count": 19,
   "metadata": {
    "collapsed": true
   },
   "outputs": [],
   "source": [
    "dffinal = df[['text']]\n",
    "dffinal['date'] = df['Date']"
   ]
  },
  {
   "cell_type": "code",
   "execution_count": 20,
   "metadata": {
    "collapsed": false
   },
   "outputs": [
    {
     "name": "stderr",
     "output_type": "stream",
     "text": [
      "C:\\Users\\Student24\\Anaconda2\\lib\\site-packages\\ipykernel\\__main__.py:17: SettingWithCopyWarning:\n",
      "\n",
      "\n",
      "A value is trying to be set on a copy of a slice from a DataFrame\n",
      "\n",
      "See the caveats in the documentation: http://pandas.pydata.org/pandas-docs/stable/indexing.html#indexing-view-versus-copy\n",
      "\n",
      "C:\\Users\\Student24\\Anaconda2\\lib\\site-packages\\pandas\\core\\indexing.py:132: SettingWithCopyWarning:\n",
      "\n",
      "\n",
      "A value is trying to be set on a copy of a slice from a DataFrame\n",
      "\n",
      "See the caveats in the documentation: http://pandas.pydata.org/pandas-docs/stable/indexing.html#indexing-view-versus-copy\n",
      "\n"
     ]
    }
   ],
   "source": [
    "for i in range(len(df.index)):\n",
    "    if classifier.classify(extract_features((smart_str(df['text'][i])).split())) == 'yes':\n",
    "        dffinal['text'][i] = smart_str(df['text'][i])\n",
    "    else:\n",
    "        dffinal['text'][i] = None\n",
    "\n",
    "count = 0\n",
    "for i in range(len(df.index)):\n",
    "    if dffinal['text'][i] != None:\n",
    "        count += 1\n",
    "\n",
    "count2 = 0\n",
    "dffinaltrained = pd.DataFrame({'date' : pd.Series(range(count), index=range(count)), 'text' : pd.Series(range(count), index=range(count))})\n",
    "for i in range(len(df.index)):\n",
    "    if dffinal['text'][i] != None:\n",
    "        dffinaltrained['text'][count2] = dffinal['text'][i]\n",
    "        dffinaltrained['date'][count2] = dffinal['date'][i]\n",
    "        count2 += 1"
   ]
  },
  {
   "cell_type": "code",
   "execution_count": 21,
   "metadata": {
    "collapsed": false
   },
   "outputs": [
    {
     "data": {
      "text/plain": [
       "11603"
      ]
     },
     "execution_count": 21,
     "metadata": {},
     "output_type": "execute_result"
    }
   ],
   "source": [
    "dffinaltrained['text'].count()"
   ]
  },
  {
   "cell_type": "markdown",
   "metadata": {},
   "source": [
    "# Define function which will count the weather words"
   ]
  },
  {
   "cell_type": "code",
   "execution_count": 22,
   "metadata": {
    "collapsed": false
   },
   "outputs": [],
   "source": [
    "def wordCount(tweet):\n",
    "    # List of words we are looking at\n",
    "    weather_words = ['breeze', 'breezy', 'cloudy', 'cold', 'ice', 'icy', 'icey', 'drizzle', 'frost', 'wind', 'mild', 'dew', \n",
    "                     'freezing', 'downpour', 'shower', 'rain', 'frost', 'nippy', 'hail', 'temperature', 'gail', 'gust',\n",
    "                     'sleet', 'heat', 'storm', 'slush', 'fog', 'foggy', 'flood', 'visibility', 'warm', 'warmer',\n",
    "                     'mist', 'frosty', 'misty', 'chilly', 'thunder', 'lightning', 'snow', 'snowing', 'hot', 'sun', 'sunny',\n",
    "                     'boiling', 'baltic', 'burn']\n",
    "    # Create a new dictionnary\n",
    "    counts = dict()\n",
    "    for t in tweet:\n",
    "        if t in weather_words:\n",
    "            counts[t] = counts.get(t,0) + 1\n",
    "\n",
    "    return counts"
   ]
  },
  {
   "cell_type": "markdown",
   "metadata": {},
   "source": [
    "# def df_count"
   ]
  },
  {
   "cell_type": "code",
   "execution_count": 23,
   "metadata": {
    "collapsed": false
   },
   "outputs": [
    {
     "data": {
      "text/html": [
       "<div>\n",
       "<table border=\"1\" class=\"dataframe\">\n",
       "  <thead>\n",
       "    <tr style=\"text-align: right;\">\n",
       "      <th></th>\n",
       "      <th>text</th>\n",
       "    </tr>\n",
       "    <tr>\n",
       "      <th>date</th>\n",
       "      <th></th>\n",
       "    </tr>\n",
       "  </thead>\n",
       "  <tbody>\n",
       "    <tr>\n",
       "      <th>2016-12-14</th>\n",
       "      <td>300</td>\n",
       "    </tr>\n",
       "    <tr>\n",
       "      <th>2016-12-15</th>\n",
       "      <td>255</td>\n",
       "    </tr>\n",
       "    <tr>\n",
       "      <th>2016-12-16</th>\n",
       "      <td>795</td>\n",
       "    </tr>\n",
       "    <tr>\n",
       "      <th>2016-12-19</th>\n",
       "      <td>791</td>\n",
       "    </tr>\n",
       "    <tr>\n",
       "      <th>2016-12-20</th>\n",
       "      <td>804</td>\n",
       "    </tr>\n",
       "    <tr>\n",
       "      <th>2016-12-21</th>\n",
       "      <td>421</td>\n",
       "    </tr>\n",
       "    <tr>\n",
       "      <th>2016-12-22</th>\n",
       "      <td>463</td>\n",
       "    </tr>\n",
       "    <tr>\n",
       "      <th>2016-12-23</th>\n",
       "      <td>438</td>\n",
       "    </tr>\n",
       "    <tr>\n",
       "      <th>2016-12-24</th>\n",
       "      <td>447</td>\n",
       "    </tr>\n",
       "    <tr>\n",
       "      <th>2016-12-25</th>\n",
       "      <td>460</td>\n",
       "    </tr>\n",
       "    <tr>\n",
       "      <th>2016-12-26</th>\n",
       "      <td>403</td>\n",
       "    </tr>\n",
       "    <tr>\n",
       "      <th>2016-12-27</th>\n",
       "      <td>404</td>\n",
       "    </tr>\n",
       "    <tr>\n",
       "      <th>2016-12-28</th>\n",
       "      <td>466</td>\n",
       "    </tr>\n",
       "    <tr>\n",
       "      <th>2016-12-30</th>\n",
       "      <td>458</td>\n",
       "    </tr>\n",
       "    <tr>\n",
       "      <th>2016-12-31</th>\n",
       "      <td>482</td>\n",
       "    </tr>\n",
       "    <tr>\n",
       "      <th>2017-01-01</th>\n",
       "      <td>431</td>\n",
       "    </tr>\n",
       "    <tr>\n",
       "      <th>2017-01-02</th>\n",
       "      <td>272</td>\n",
       "    </tr>\n",
       "    <tr>\n",
       "      <th>2017-01-03</th>\n",
       "      <td>435</td>\n",
       "    </tr>\n",
       "    <tr>\n",
       "      <th>2017-01-04</th>\n",
       "      <td>445</td>\n",
       "    </tr>\n",
       "    <tr>\n",
       "      <th>2017-01-05</th>\n",
       "      <td>460</td>\n",
       "    </tr>\n",
       "    <tr>\n",
       "      <th>2017-01-06</th>\n",
       "      <td>467</td>\n",
       "    </tr>\n",
       "    <tr>\n",
       "      <th>2017-01-08</th>\n",
       "      <td>434</td>\n",
       "    </tr>\n",
       "    <tr>\n",
       "      <th>2017-01-09</th>\n",
       "      <td>439</td>\n",
       "    </tr>\n",
       "    <tr>\n",
       "      <th>2017-01-10</th>\n",
       "      <td>398</td>\n",
       "    </tr>\n",
       "    <tr>\n",
       "      <th>2017-01-11</th>\n",
       "      <td>432</td>\n",
       "    </tr>\n",
       "  </tbody>\n",
       "</table>\n",
       "</div>"
      ],
      "text/plain": [
       "            text\n",
       "date            \n",
       "2016-12-14   300\n",
       "2016-12-15   255\n",
       "2016-12-16   795\n",
       "2016-12-19   791\n",
       "2016-12-20   804\n",
       "2016-12-21   421\n",
       "2016-12-22   463\n",
       "2016-12-23   438\n",
       "2016-12-24   447\n",
       "2016-12-25   460\n",
       "2016-12-26   403\n",
       "2016-12-27   404\n",
       "2016-12-28   466\n",
       "2016-12-30   458\n",
       "2016-12-31   482\n",
       "2017-01-01   431\n",
       "2017-01-02   272\n",
       "2017-01-03   435\n",
       "2017-01-04   445\n",
       "2017-01-05   460\n",
       "2017-01-06   467\n",
       "2017-01-08   434\n",
       "2017-01-09   439\n",
       "2017-01-10   398\n",
       "2017-01-11   432"
      ]
     },
     "execution_count": 23,
     "metadata": {},
     "output_type": "execute_result"
    }
   ],
   "source": [
    "# Check the days and number of tweets per day\n",
    "#dffinal['Date']=(pd.to_datetime(df['created_at'])).dt.date\n",
    "dffinaltrained.groupby(['date']).count()\n"
   ]
  },
  {
   "cell_type": "code",
   "execution_count": 24,
   "metadata": {
    "collapsed": false
   },
   "outputs": [
    {
     "data": {
      "text/plain": [
       "Index([u'2016-12-14', u'2016-12-15', u'2016-12-16', u'2016-12-19',\n",
       "       u'2016-12-20', u'2016-12-21', u'2016-12-22', u'2016-12-23',\n",
       "       u'2016-12-24', u'2016-12-25', u'2016-12-26', u'2016-12-27',\n",
       "       u'2016-12-28', u'2016-12-30', u'2016-12-31', u'2017-01-01',\n",
       "       u'2017-01-02', u'2017-01-03', u'2017-01-04', u'2017-01-05',\n",
       "       u'2017-01-06', u'2017-01-08', u'2017-01-09', u'2017-01-10',\n",
       "       u'2017-01-11'],\n",
       "      dtype='object', name=u'date')"
      ]
     },
     "execution_count": 24,
     "metadata": {},
     "output_type": "execute_result"
    }
   ],
   "source": [
    "# Create a new dataframe with the date\n",
    "tw_date = dffinaltrained.groupby(['date']).count()\n",
    "tw_date.index"
   ]
  },
  {
   "cell_type": "code",
   "execution_count": 25,
   "metadata": {
    "collapsed": true
   },
   "outputs": [],
   "source": [
    "# Creates dataframe of total tweets for each day\n",
    "df_count = dffinaltrained.groupby(['date']).count()"
   ]
  },
  {
   "cell_type": "code",
   "execution_count": 26,
   "metadata": {
    "collapsed": true
   },
   "outputs": [],
   "source": [
    "# Resets index\n",
    "df_count.reset_index(level = 0, inplace = True)"
   ]
  },
  {
   "cell_type": "code",
   "execution_count": 27,
   "metadata": {
    "collapsed": true
   },
   "outputs": [],
   "source": [
    "df_count.rename(columns = {'text':'total_count'}, inplace = True)"
   ]
  },
  {
   "cell_type": "code",
   "execution_count": 28,
   "metadata": {
    "collapsed": false
   },
   "outputs": [
    {
     "data": {
      "text/html": [
       "<div>\n",
       "<table border=\"1\" class=\"dataframe\">\n",
       "  <thead>\n",
       "    <tr style=\"text-align: right;\">\n",
       "      <th></th>\n",
       "      <th>date</th>\n",
       "      <th>total_count</th>\n",
       "    </tr>\n",
       "  </thead>\n",
       "  <tbody>\n",
       "    <tr>\n",
       "      <th>0</th>\n",
       "      <td>2016-12-14</td>\n",
       "      <td>300</td>\n",
       "    </tr>\n",
       "    <tr>\n",
       "      <th>1</th>\n",
       "      <td>2016-12-15</td>\n",
       "      <td>255</td>\n",
       "    </tr>\n",
       "    <tr>\n",
       "      <th>2</th>\n",
       "      <td>2016-12-16</td>\n",
       "      <td>795</td>\n",
       "    </tr>\n",
       "    <tr>\n",
       "      <th>3</th>\n",
       "      <td>2016-12-19</td>\n",
       "      <td>791</td>\n",
       "    </tr>\n",
       "    <tr>\n",
       "      <th>4</th>\n",
       "      <td>2016-12-20</td>\n",
       "      <td>804</td>\n",
       "    </tr>\n",
       "  </tbody>\n",
       "</table>\n",
       "</div>"
      ],
      "text/plain": [
       "         date  total_count\n",
       "0  2016-12-14          300\n",
       "1  2016-12-15          255\n",
       "2  2016-12-16          795\n",
       "3  2016-12-19          791\n",
       "4  2016-12-20          804"
      ]
     },
     "execution_count": 28,
     "metadata": {},
     "output_type": "execute_result"
    }
   ],
   "source": [
    "df_count.head()"
   ]
  },
  {
   "cell_type": "markdown",
   "metadata": {
    "collapsed": true
   },
   "source": [
    "# Going through all tweets then count words and put them in final DataFrame (per day) for all words"
   ]
  },
  {
   "cell_type": "code",
   "execution_count": 29,
   "metadata": {
    "collapsed": true
   },
   "outputs": [],
   "source": [
    "tw_final_all = DataFrame() #makes tw_final_all a data frame\n",
    "tw_final_all['date'] = tw_date.index\n",
    "d2_list=[]\n",
    "d2_len=[]\n",
    "tw_final_all['Keywords'] = None"
   ]
  },
  {
   "cell_type": "code",
   "execution_count": 30,
   "metadata": {
    "collapsed": false,
    "scrolled": true
   },
   "outputs": [],
   "source": [
    "for i in range(len(tw_date.index)):\n",
    "    df = dffinaltrained[(dffinaltrained['date'] == tw_final_all['date'][i])]\n",
    "    twitterlist = []\n",
    "    for t in range(len(df.index)):\n",
    "        twitterlist.append(dffinaltrained['text'][t].lower().split())\n",
    "\n",
    "    # Flatten the list so all values in the same list\n",
    "    tweets_flatten = [j for sublist in twitterlist for j in sublist]\n",
    "\n",
    "    # Counting the number of key words in the tweets\n",
    "    d = wordCount(tweets_flatten)\n",
    "    \n",
    "    # give a list of the sorted tweets, with most popular coming first\n",
    "    d2 = sorted(d.items(), key = lambda x: x[1], reverse = True)\n",
    "    d2_list.append(d2) \n",
    "    tw_final_all['Keywords'][i] = d2_list[i] #d2_list=list of tuples of (keyword,count) for each day\n",
    "    d2_len.append(len(d2)) #a list of the lengths of the d2 list\n",
    "   \n",
    "\n",
    "        "
   ]
  },
  {
   "cell_type": "code",
   "execution_count": 31,
   "metadata": {
    "collapsed": false
   },
   "outputs": [],
   "source": [
    "#if no count keyword for that day, inserts (0,0)\n",
    "for i in range(len(tw_date.index)):\n",
    "    if len(tw_final_all['Keywords'][i])<max(d2_len):\n",
    "        for j in range (max(d2_len)-len(tw_final_all['Keywords'][i])):\n",
    "            tw_final_all['Keywords'][i].append((0,0))\n",
    "        "
   ]
  },
  {
   "cell_type": "code",
   "execution_count": 32,
   "metadata": {
    "collapsed": false
   },
   "outputs": [],
   "source": [
    "#Spilits colom 'Keywords' into many coloums\n",
    "for z in range(max(d2_len)):\n",
    "    b=[]\n",
    "    b.extend(a[z] for a in tw_final_all['Keywords'])\n",
    "    o=z+1\n",
    "    keyword=[]\n",
    "    keyword.append('Keyword_'+str(o))\n",
    "    keyword_str = ''.join(keyword)\n",
    "    tw_final_all[keyword_str] = b"
   ]
  },
  {
   "cell_type": "code",
   "execution_count": 33,
   "metadata": {
    "collapsed": false
   },
   "outputs": [
    {
     "data": {
      "text/html": [
       "<div>\n",
       "<table border=\"1\" class=\"dataframe\">\n",
       "  <thead>\n",
       "    <tr style=\"text-align: right;\">\n",
       "      <th></th>\n",
       "      <th>date</th>\n",
       "      <th>Keywords</th>\n",
       "      <th>Keyword_1</th>\n",
       "      <th>Keyword_2</th>\n",
       "      <th>Keyword_3</th>\n",
       "      <th>Keyword_4</th>\n",
       "      <th>Keyword_5</th>\n",
       "      <th>Keyword_6</th>\n",
       "      <th>Keyword_7</th>\n",
       "      <th>Keyword_8</th>\n",
       "      <th>...</th>\n",
       "      <th>Keyword_21</th>\n",
       "      <th>Keyword_22</th>\n",
       "      <th>Keyword_23</th>\n",
       "      <th>Keyword_24</th>\n",
       "      <th>Keyword_25</th>\n",
       "      <th>Keyword_26</th>\n",
       "      <th>Keyword_27</th>\n",
       "      <th>Keyword_28</th>\n",
       "      <th>Keyword_29</th>\n",
       "      <th>Keyword_30</th>\n",
       "    </tr>\n",
       "  </thead>\n",
       "  <tbody>\n",
       "    <tr>\n",
       "      <th>0</th>\n",
       "      <td>2016-12-14</td>\n",
       "      <td>[(fog, 35), (hot, 33), (cold, 33), (sun, 32), ...</td>\n",
       "      <td>(fog, 35)</td>\n",
       "      <td>(hot, 33)</td>\n",
       "      <td>(cold, 33)</td>\n",
       "      <td>(sun, 32)</td>\n",
       "      <td>(warm, 17)</td>\n",
       "      <td>(ice, 12)</td>\n",
       "      <td>(sunny, 9)</td>\n",
       "      <td>(snow, 8)</td>\n",
       "      <td>...</td>\n",
       "      <td>(heat, 1)</td>\n",
       "      <td>(0, 0)</td>\n",
       "      <td>(0, 0)</td>\n",
       "      <td>(0, 0)</td>\n",
       "      <td>(0, 0)</td>\n",
       "      <td>(0, 0)</td>\n",
       "      <td>(0, 0)</td>\n",
       "      <td>(0, 0)</td>\n",
       "      <td>(0, 0)</td>\n",
       "      <td>(0, 0)</td>\n",
       "    </tr>\n",
       "    <tr>\n",
       "      <th>1</th>\n",
       "      <td>2016-12-15</td>\n",
       "      <td>[(fog, 31), (hot, 29), (sun, 28), (cold, 28), ...</td>\n",
       "      <td>(fog, 31)</td>\n",
       "      <td>(hot, 29)</td>\n",
       "      <td>(sun, 28)</td>\n",
       "      <td>(cold, 28)</td>\n",
       "      <td>(warm, 16)</td>\n",
       "      <td>(sunny, 9)</td>\n",
       "      <td>(ice, 8)</td>\n",
       "      <td>(wind, 7)</td>\n",
       "      <td>...</td>\n",
       "      <td>(0, 0)</td>\n",
       "      <td>(0, 0)</td>\n",
       "      <td>(0, 0)</td>\n",
       "      <td>(0, 0)</td>\n",
       "      <td>(0, 0)</td>\n",
       "      <td>(0, 0)</td>\n",
       "      <td>(0, 0)</td>\n",
       "      <td>(0, 0)</td>\n",
       "      <td>(0, 0)</td>\n",
       "      <td>(0, 0)</td>\n",
       "    </tr>\n",
       "    <tr>\n",
       "      <th>2</th>\n",
       "      <td>2016-12-16</td>\n",
       "      <td>[(hot, 74), (snow, 66), (fog, 61), (cold, 60),...</td>\n",
       "      <td>(hot, 74)</td>\n",
       "      <td>(snow, 66)</td>\n",
       "      <td>(fog, 61)</td>\n",
       "      <td>(cold, 60)</td>\n",
       "      <td>(sun, 60)</td>\n",
       "      <td>(warm, 48)</td>\n",
       "      <td>(storm, 44)</td>\n",
       "      <td>(ice, 33)</td>\n",
       "      <td>...</td>\n",
       "      <td>(boiling, 4)</td>\n",
       "      <td>(frost, 3)</td>\n",
       "      <td>(visibility, 3)</td>\n",
       "      <td>(hail, 2)</td>\n",
       "      <td>(frosty, 1)</td>\n",
       "      <td>(icy, 1)</td>\n",
       "      <td>(snowing, 1)</td>\n",
       "      <td>(freezing, 1)</td>\n",
       "      <td>(foggy, 1)</td>\n",
       "      <td>(baltic, 1)</td>\n",
       "    </tr>\n",
       "    <tr>\n",
       "      <th>3</th>\n",
       "      <td>2016-12-19</td>\n",
       "      <td>[(hot, 74), (snow, 66), (fog, 61), (cold, 60),...</td>\n",
       "      <td>(hot, 74)</td>\n",
       "      <td>(snow, 66)</td>\n",
       "      <td>(fog, 61)</td>\n",
       "      <td>(cold, 60)</td>\n",
       "      <td>(sun, 60)</td>\n",
       "      <td>(warm, 46)</td>\n",
       "      <td>(storm, 44)</td>\n",
       "      <td>(ice, 33)</td>\n",
       "      <td>...</td>\n",
       "      <td>(boiling, 4)</td>\n",
       "      <td>(frost, 3)</td>\n",
       "      <td>(visibility, 3)</td>\n",
       "      <td>(hail, 2)</td>\n",
       "      <td>(frosty, 1)</td>\n",
       "      <td>(icy, 1)</td>\n",
       "      <td>(snowing, 1)</td>\n",
       "      <td>(freezing, 1)</td>\n",
       "      <td>(foggy, 1)</td>\n",
       "      <td>(baltic, 1)</td>\n",
       "    </tr>\n",
       "    <tr>\n",
       "      <th>4</th>\n",
       "      <td>2016-12-20</td>\n",
       "      <td>[(hot, 76), (snow, 66), (cold, 63), (fog, 61),...</td>\n",
       "      <td>(hot, 76)</td>\n",
       "      <td>(snow, 66)</td>\n",
       "      <td>(cold, 63)</td>\n",
       "      <td>(fog, 61)</td>\n",
       "      <td>(sun, 60)</td>\n",
       "      <td>(warm, 49)</td>\n",
       "      <td>(storm, 44)</td>\n",
       "      <td>(ice, 33)</td>\n",
       "      <td>...</td>\n",
       "      <td>(boiling, 4)</td>\n",
       "      <td>(frost, 3)</td>\n",
       "      <td>(visibility, 3)</td>\n",
       "      <td>(hail, 2)</td>\n",
       "      <td>(frosty, 1)</td>\n",
       "      <td>(icy, 1)</td>\n",
       "      <td>(snowing, 1)</td>\n",
       "      <td>(freezing, 1)</td>\n",
       "      <td>(foggy, 1)</td>\n",
       "      <td>(baltic, 1)</td>\n",
       "    </tr>\n",
       "  </tbody>\n",
       "</table>\n",
       "<p>5 rows × 32 columns</p>\n",
       "</div>"
      ],
      "text/plain": [
       "         date                                           Keywords  Keyword_1  \\\n",
       "0  2016-12-14  [(fog, 35), (hot, 33), (cold, 33), (sun, 32), ...  (fog, 35)   \n",
       "1  2016-12-15  [(fog, 31), (hot, 29), (sun, 28), (cold, 28), ...  (fog, 31)   \n",
       "2  2016-12-16  [(hot, 74), (snow, 66), (fog, 61), (cold, 60),...  (hot, 74)   \n",
       "3  2016-12-19  [(hot, 74), (snow, 66), (fog, 61), (cold, 60),...  (hot, 74)   \n",
       "4  2016-12-20  [(hot, 76), (snow, 66), (cold, 63), (fog, 61),...  (hot, 76)   \n",
       "\n",
       "    Keyword_2   Keyword_3   Keyword_4   Keyword_5   Keyword_6    Keyword_7  \\\n",
       "0   (hot, 33)  (cold, 33)   (sun, 32)  (warm, 17)   (ice, 12)   (sunny, 9)   \n",
       "1   (hot, 29)   (sun, 28)  (cold, 28)  (warm, 16)  (sunny, 9)     (ice, 8)   \n",
       "2  (snow, 66)   (fog, 61)  (cold, 60)   (sun, 60)  (warm, 48)  (storm, 44)   \n",
       "3  (snow, 66)   (fog, 61)  (cold, 60)   (sun, 60)  (warm, 46)  (storm, 44)   \n",
       "4  (snow, 66)  (cold, 63)   (fog, 61)   (sun, 60)  (warm, 49)  (storm, 44)   \n",
       "\n",
       "   Keyword_8     ...         Keyword_21  Keyword_22       Keyword_23  \\\n",
       "0  (snow, 8)     ...          (heat, 1)      (0, 0)           (0, 0)   \n",
       "1  (wind, 7)     ...             (0, 0)      (0, 0)           (0, 0)   \n",
       "2  (ice, 33)     ...       (boiling, 4)  (frost, 3)  (visibility, 3)   \n",
       "3  (ice, 33)     ...       (boiling, 4)  (frost, 3)  (visibility, 3)   \n",
       "4  (ice, 33)     ...       (boiling, 4)  (frost, 3)  (visibility, 3)   \n",
       "\n",
       "  Keyword_24   Keyword_25 Keyword_26    Keyword_27     Keyword_28  Keyword_29  \\\n",
       "0     (0, 0)       (0, 0)     (0, 0)        (0, 0)         (0, 0)      (0, 0)   \n",
       "1     (0, 0)       (0, 0)     (0, 0)        (0, 0)         (0, 0)      (0, 0)   \n",
       "2  (hail, 2)  (frosty, 1)   (icy, 1)  (snowing, 1)  (freezing, 1)  (foggy, 1)   \n",
       "3  (hail, 2)  (frosty, 1)   (icy, 1)  (snowing, 1)  (freezing, 1)  (foggy, 1)   \n",
       "4  (hail, 2)  (frosty, 1)   (icy, 1)  (snowing, 1)  (freezing, 1)  (foggy, 1)   \n",
       "\n",
       "    Keyword_30  \n",
       "0       (0, 0)  \n",
       "1       (0, 0)  \n",
       "2  (baltic, 1)  \n",
       "3  (baltic, 1)  \n",
       "4  (baltic, 1)  \n",
       "\n",
       "[5 rows x 32 columns]"
      ]
     },
     "execution_count": 33,
     "metadata": {},
     "output_type": "execute_result"
    }
   ],
   "source": [
    "tw_final_all.head()"
   ]
  },
  {
   "cell_type": "code",
   "execution_count": 34,
   "metadata": {
    "collapsed": false
   },
   "outputs": [],
   "source": [
    "del tw_final_all['Keywords'] #deletes col 'Keywords'"
   ]
  },
  {
   "cell_type": "code",
   "execution_count": 35,
   "metadata": {
    "collapsed": false
   },
   "outputs": [],
   "source": [
    "# Unpivots tw_final_all\n",
    "tw_final2_all = pd.melt(tw_final_all, id_vars = ['date'])"
   ]
  },
  {
   "cell_type": "code",
   "execution_count": 36,
   "metadata": {
    "collapsed": false
   },
   "outputs": [
    {
     "data": {
      "text/html": [
       "<div>\n",
       "<table border=\"1\" class=\"dataframe\">\n",
       "  <thead>\n",
       "    <tr style=\"text-align: right;\">\n",
       "      <th></th>\n",
       "      <th>date</th>\n",
       "      <th>variable</th>\n",
       "      <th>value</th>\n",
       "    </tr>\n",
       "  </thead>\n",
       "  <tbody>\n",
       "    <tr>\n",
       "      <th>0</th>\n",
       "      <td>2016-12-14</td>\n",
       "      <td>Keyword_1</td>\n",
       "      <td>(fog, 35)</td>\n",
       "    </tr>\n",
       "    <tr>\n",
       "      <th>1</th>\n",
       "      <td>2016-12-15</td>\n",
       "      <td>Keyword_1</td>\n",
       "      <td>(fog, 31)</td>\n",
       "    </tr>\n",
       "    <tr>\n",
       "      <th>2</th>\n",
       "      <td>2016-12-16</td>\n",
       "      <td>Keyword_1</td>\n",
       "      <td>(hot, 74)</td>\n",
       "    </tr>\n",
       "    <tr>\n",
       "      <th>3</th>\n",
       "      <td>2016-12-19</td>\n",
       "      <td>Keyword_1</td>\n",
       "      <td>(hot, 74)</td>\n",
       "    </tr>\n",
       "    <tr>\n",
       "      <th>4</th>\n",
       "      <td>2016-12-20</td>\n",
       "      <td>Keyword_1</td>\n",
       "      <td>(hot, 76)</td>\n",
       "    </tr>\n",
       "  </tbody>\n",
       "</table>\n",
       "</div>"
      ],
      "text/plain": [
       "         date   variable      value\n",
       "0  2016-12-14  Keyword_1  (fog, 35)\n",
       "1  2016-12-15  Keyword_1  (fog, 31)\n",
       "2  2016-12-16  Keyword_1  (hot, 74)\n",
       "3  2016-12-19  Keyword_1  (hot, 74)\n",
       "4  2016-12-20  Keyword_1  (hot, 76)"
      ]
     },
     "execution_count": 36,
     "metadata": {},
     "output_type": "execute_result"
    }
   ],
   "source": [
    "tw_final2_all.head()"
   ]
  },
  {
   "cell_type": "code",
   "execution_count": 37,
   "metadata": {
    "collapsed": true
   },
   "outputs": [],
   "source": [
    "tw_final2_all.rename(columns = {'variable':'rank'}, inplace = True) #renames col"
   ]
  },
  {
   "cell_type": "code",
   "execution_count": 38,
   "metadata": {
    "collapsed": false
   },
   "outputs": [],
   "source": [
    "# Seperates tuples in value\n",
    "b = []\n",
    "c = []\n",
    "\n",
    "b.extend(a[1] for a in tw_final2_all['value'])\n",
    "tw_final2_all['count'] = b\n",
    "\n",
    "c.extend(a[0] for a in tw_final2_all['value'])\n",
    "tw_final2_all['value'] = c"
   ]
  },
  {
   "cell_type": "code",
   "execution_count": 39,
   "metadata": {
    "collapsed": false
   },
   "outputs": [
    {
     "data": {
      "text/html": [
       "<div>\n",
       "<table border=\"1\" class=\"dataframe\">\n",
       "  <thead>\n",
       "    <tr style=\"text-align: right;\">\n",
       "      <th></th>\n",
       "      <th>date</th>\n",
       "      <th>rank</th>\n",
       "      <th>value</th>\n",
       "      <th>count</th>\n",
       "    </tr>\n",
       "  </thead>\n",
       "  <tbody>\n",
       "    <tr>\n",
       "      <th>0</th>\n",
       "      <td>2016-12-14</td>\n",
       "      <td>Keyword_1</td>\n",
       "      <td>fog</td>\n",
       "      <td>35</td>\n",
       "    </tr>\n",
       "    <tr>\n",
       "      <th>1</th>\n",
       "      <td>2016-12-15</td>\n",
       "      <td>Keyword_1</td>\n",
       "      <td>fog</td>\n",
       "      <td>31</td>\n",
       "    </tr>\n",
       "    <tr>\n",
       "      <th>2</th>\n",
       "      <td>2016-12-16</td>\n",
       "      <td>Keyword_1</td>\n",
       "      <td>hot</td>\n",
       "      <td>74</td>\n",
       "    </tr>\n",
       "    <tr>\n",
       "      <th>3</th>\n",
       "      <td>2016-12-19</td>\n",
       "      <td>Keyword_1</td>\n",
       "      <td>hot</td>\n",
       "      <td>74</td>\n",
       "    </tr>\n",
       "    <tr>\n",
       "      <th>4</th>\n",
       "      <td>2016-12-20</td>\n",
       "      <td>Keyword_1</td>\n",
       "      <td>hot</td>\n",
       "      <td>76</td>\n",
       "    </tr>\n",
       "  </tbody>\n",
       "</table>\n",
       "</div>"
      ],
      "text/plain": [
       "         date       rank value  count\n",
       "0  2016-12-14  Keyword_1   fog     35\n",
       "1  2016-12-15  Keyword_1   fog     31\n",
       "2  2016-12-16  Keyword_1   hot     74\n",
       "3  2016-12-19  Keyword_1   hot     74\n",
       "4  2016-12-20  Keyword_1   hot     76"
      ]
     },
     "execution_count": 39,
     "metadata": {},
     "output_type": "execute_result"
    }
   ],
   "source": [
    "tw_final2_all.head()"
   ]
  },
  {
   "cell_type": "code",
   "execution_count": 40,
   "metadata": {
    "collapsed": true
   },
   "outputs": [],
   "source": [
    "tw_final2_all.rename(columns = {'value':'key_word'}, inplace = True)"
   ]
  },
  {
   "cell_type": "code",
   "execution_count": 41,
   "metadata": {
    "collapsed": false
   },
   "outputs": [
    {
     "data": {
      "text/html": [
       "<div>\n",
       "<table border=\"1\" class=\"dataframe\">\n",
       "  <thead>\n",
       "    <tr style=\"text-align: right;\">\n",
       "      <th></th>\n",
       "      <th>date</th>\n",
       "      <th>rank</th>\n",
       "      <th>key_word</th>\n",
       "      <th>count</th>\n",
       "    </tr>\n",
       "  </thead>\n",
       "  <tbody>\n",
       "    <tr>\n",
       "      <th>0</th>\n",
       "      <td>2016-12-14</td>\n",
       "      <td>Keyword_1</td>\n",
       "      <td>fog</td>\n",
       "      <td>35</td>\n",
       "    </tr>\n",
       "    <tr>\n",
       "      <th>1</th>\n",
       "      <td>2016-12-15</td>\n",
       "      <td>Keyword_1</td>\n",
       "      <td>fog</td>\n",
       "      <td>31</td>\n",
       "    </tr>\n",
       "    <tr>\n",
       "      <th>2</th>\n",
       "      <td>2016-12-16</td>\n",
       "      <td>Keyword_1</td>\n",
       "      <td>hot</td>\n",
       "      <td>74</td>\n",
       "    </tr>\n",
       "    <tr>\n",
       "      <th>3</th>\n",
       "      <td>2016-12-19</td>\n",
       "      <td>Keyword_1</td>\n",
       "      <td>hot</td>\n",
       "      <td>74</td>\n",
       "    </tr>\n",
       "    <tr>\n",
       "      <th>4</th>\n",
       "      <td>2016-12-20</td>\n",
       "      <td>Keyword_1</td>\n",
       "      <td>hot</td>\n",
       "      <td>76</td>\n",
       "    </tr>\n",
       "  </tbody>\n",
       "</table>\n",
       "</div>"
      ],
      "text/plain": [
       "         date       rank key_word  count\n",
       "0  2016-12-14  Keyword_1      fog     35\n",
       "1  2016-12-15  Keyword_1      fog     31\n",
       "2  2016-12-16  Keyword_1      hot     74\n",
       "3  2016-12-19  Keyword_1      hot     74\n",
       "4  2016-12-20  Keyword_1      hot     76"
      ]
     },
     "execution_count": 41,
     "metadata": {},
     "output_type": "execute_result"
    }
   ],
   "source": [
    "tw_final2_all.head()"
   ]
  },
  {
   "cell_type": "code",
   "execution_count": 42,
   "metadata": {
    "collapsed": false
   },
   "outputs": [],
   "source": [
    "#merged so that order of rank is in keyword order for each day\n",
    "tw_final2_all = pd.merge(tw_final2_all, df_count, how='inner', on='date')"
   ]
  },
  {
   "cell_type": "code",
   "execution_count": 43,
   "metadata": {
    "collapsed": true
   },
   "outputs": [],
   "source": [
    "del tw_final2_all['total_count']"
   ]
  },
  {
   "cell_type": "code",
   "execution_count": 44,
   "metadata": {
    "collapsed": false
   },
   "outputs": [
    {
     "data": {
      "text/html": [
       "<div>\n",
       "<table border=\"1\" class=\"dataframe\">\n",
       "  <thead>\n",
       "    <tr style=\"text-align: right;\">\n",
       "      <th></th>\n",
       "      <th>date</th>\n",
       "      <th>rank</th>\n",
       "      <th>key_word</th>\n",
       "      <th>count</th>\n",
       "    </tr>\n",
       "  </thead>\n",
       "  <tbody>\n",
       "    <tr>\n",
       "      <th>0</th>\n",
       "      <td>2016-12-14</td>\n",
       "      <td>Keyword_1</td>\n",
       "      <td>fog</td>\n",
       "      <td>35</td>\n",
       "    </tr>\n",
       "    <tr>\n",
       "      <th>1</th>\n",
       "      <td>2016-12-14</td>\n",
       "      <td>Keyword_2</td>\n",
       "      <td>hot</td>\n",
       "      <td>33</td>\n",
       "    </tr>\n",
       "    <tr>\n",
       "      <th>2</th>\n",
       "      <td>2016-12-14</td>\n",
       "      <td>Keyword_3</td>\n",
       "      <td>cold</td>\n",
       "      <td>33</td>\n",
       "    </tr>\n",
       "    <tr>\n",
       "      <th>3</th>\n",
       "      <td>2016-12-14</td>\n",
       "      <td>Keyword_4</td>\n",
       "      <td>sun</td>\n",
       "      <td>32</td>\n",
       "    </tr>\n",
       "    <tr>\n",
       "      <th>4</th>\n",
       "      <td>2016-12-14</td>\n",
       "      <td>Keyword_5</td>\n",
       "      <td>warm</td>\n",
       "      <td>17</td>\n",
       "    </tr>\n",
       "  </tbody>\n",
       "</table>\n",
       "</div>"
      ],
      "text/plain": [
       "         date       rank key_word  count\n",
       "0  2016-12-14  Keyword_1      fog     35\n",
       "1  2016-12-14  Keyword_2      hot     33\n",
       "2  2016-12-14  Keyword_3     cold     33\n",
       "3  2016-12-14  Keyword_4      sun     32\n",
       "4  2016-12-14  Keyword_5     warm     17"
      ]
     },
     "execution_count": 44,
     "metadata": {},
     "output_type": "execute_result"
    }
   ],
   "source": [
    "tw_final2_all.head()"
   ]
  },
  {
   "cell_type": "code",
   "execution_count": 45,
   "metadata": {
    "collapsed": false
   },
   "outputs": [],
   "source": [
    "tw_final2_all=tw_final2_all.replace(0,np.nan)#replaces 0 with the NaN"
   ]
  },
  {
   "cell_type": "code",
   "execution_count": 46,
   "metadata": {
    "collapsed": true
   },
   "outputs": [],
   "source": [
    "tw_final2_all.to_csv(path_or_buf=\"C:\\\\Users\\\\Student24\\\\Documents\\\\twitter\\\\useing\\\\Daily_Word_Occurrence_all.csv\", sep=',', na_rep='', \\\n",
    "               float_format=None, columns=['date', 'rank', 'key_word', 'count', 'total_count', '%daily word occurrence'], header=True, index=False, index_label=None, mode='w', encoding=None, \\\n",
    "               compression=None, quoting=None, quotechar='\"', line_terminator='\\n', chunksize=None, tupleize_cols=False, \\\n",
    "               date_format=None, doublequote=True, escapechar=None, decimal='.')\n",
    "# Change header = false and mode = a from header = true and mode = w\n",
    "#creates csv"
   ]
  },
  {
   "cell_type": "code",
   "execution_count": 47,
   "metadata": {
    "collapsed": false
   },
   "outputs": [
    {
     "data": {
      "text/html": [
       "<div>\n",
       "<table border=\"1\" class=\"dataframe\">\n",
       "  <thead>\n",
       "    <tr style=\"text-align: right;\">\n",
       "      <th></th>\n",
       "      <th>date</th>\n",
       "      <th>rank</th>\n",
       "      <th>key_word</th>\n",
       "      <th>count</th>\n",
       "    </tr>\n",
       "  </thead>\n",
       "  <tbody>\n",
       "    <tr>\n",
       "      <th>0</th>\n",
       "      <td>2016-12-14</td>\n",
       "      <td>Keyword_1</td>\n",
       "      <td>fog</td>\n",
       "      <td>35.0</td>\n",
       "    </tr>\n",
       "    <tr>\n",
       "      <th>1</th>\n",
       "      <td>2016-12-14</td>\n",
       "      <td>Keyword_2</td>\n",
       "      <td>hot</td>\n",
       "      <td>33.0</td>\n",
       "    </tr>\n",
       "    <tr>\n",
       "      <th>2</th>\n",
       "      <td>2016-12-14</td>\n",
       "      <td>Keyword_3</td>\n",
       "      <td>cold</td>\n",
       "      <td>33.0</td>\n",
       "    </tr>\n",
       "    <tr>\n",
       "      <th>3</th>\n",
       "      <td>2016-12-14</td>\n",
       "      <td>Keyword_4</td>\n",
       "      <td>sun</td>\n",
       "      <td>32.0</td>\n",
       "    </tr>\n",
       "    <tr>\n",
       "      <th>4</th>\n",
       "      <td>2016-12-14</td>\n",
       "      <td>Keyword_5</td>\n",
       "      <td>warm</td>\n",
       "      <td>17.0</td>\n",
       "    </tr>\n",
       "  </tbody>\n",
       "</table>\n",
       "</div>"
      ],
      "text/plain": [
       "         date       rank key_word  count\n",
       "0  2016-12-14  Keyword_1      fog   35.0\n",
       "1  2016-12-14  Keyword_2      hot   33.0\n",
       "2  2016-12-14  Keyword_3     cold   33.0\n",
       "3  2016-12-14  Keyword_4      sun   32.0\n",
       "4  2016-12-14  Keyword_5     warm   17.0"
      ]
     },
     "execution_count": 47,
     "metadata": {},
     "output_type": "execute_result"
    }
   ],
   "source": [
    "tw_final2_all.head()"
   ]
  },
  {
   "cell_type": "markdown",
   "metadata": {},
   "source": [
    "# summer_winter plots"
   ]
  },
  {
   "cell_type": "code",
   "execution_count": 48,
   "metadata": {
    "collapsed": true
   },
   "outputs": [],
   "source": [
    "weather_words = ['breeze', 'breezy', 'cloudy', 'cold', 'ice', 'icy', 'icey', 'drizzle', 'frost', 'wind', 'mild', 'dew', \n",
    "                     'freezing', 'downpour', 'shower', 'rain', 'frost', 'nippy', 'hail', 'temperature', 'gail', 'gust',\n",
    "                     'sleet', 'heat', 'storm', 'slush', 'fog', 'foggy', 'flood', 'visibility', 'warm', 'warmer',\n",
    "                     'mist', 'frosty', 'misty', 'chilly', 'thunder', 'lightning', 'snow', 'snowing', 'hot', 'sun', 'sunny',\n",
    "                     'boiling', 'baltic', 'burn']\n",
    "#List of the weather words used for seach. Also above"
   ]
  },
  {
   "cell_type": "code",
   "execution_count": 49,
   "metadata": {
    "collapsed": true
   },
   "outputs": [],
   "source": [
    "weather_words_winter=['breeze', 'breezy', 'cloudy', 'cold', 'ice', 'icy', 'icey', 'drizzle', 'frost', 'wind', 'mild', 'dew', \n",
    "                     'freezing', 'downpour', 'shower', 'rain', 'frost', 'nippy', 'hail', 'temperature', 'gail', 'gust',\n",
    "                     'sleet',  'storm', 'slush', 'fog', 'foggy', 'flood', 'visibility', \n",
    "                     'mist', 'frosty', 'misty', 'chilly', 'thunder', 'lightning', 'snow', 'snowing', 'baltic']\n",
    "#Select words from weather_words that are winter words"
   ]
  },
  {
   "cell_type": "code",
   "execution_count": 50,
   "metadata": {
    "collapsed": true
   },
   "outputs": [],
   "source": [
    "weather_words_summer=['heat', 'warm', 'warmer','hot', 'sun', 'sunny','boiling',  'burn']\n",
    "#Select words from weather_words that are summer words"
   ]
  },
  {
   "cell_type": "markdown",
   "metadata": {},
   "source": [
    "###Plot of: Total count of Summer words vs Winter words over total time period"
   ]
  },
  {
   "cell_type": "code",
   "execution_count": 51,
   "metadata": {
    "collapsed": false
   },
   "outputs": [],
   "source": [
    "#To count total number of winter and summer words\n",
    "count_winter=0\n",
    "count_summer=0\n",
    "\n",
    "for i in range (len(tw_final2_all)):\n",
    "    if tw_final2_all['key_word'][i] in weather_words_winter:\n",
    "        count_winter = count_winter + tw_final2_all['count'][i]\n",
    "    elif tw_final2_all['key_word'][i] in weather_words_summer:\n",
    "        count_summer = count_summer + tw_final2_all['count'][i]\n",
    "        \n"
   ]
  },
  {
   "cell_type": "code",
   "execution_count": 52,
   "metadata": {
    "collapsed": false
   },
   "outputs": [
    {
     "data": {
      "text/plain": [
       "(4952.0, 3594.0)"
      ]
     },
     "execution_count": 52,
     "metadata": {},
     "output_type": "execute_result"
    }
   ],
   "source": [
    "count_winter, count_summer"
   ]
  },
  {
   "cell_type": "code",
   "execution_count": 53,
   "metadata": {
    "collapsed": false
   },
   "outputs": [
    {
     "name": "stdout",
     "output_type": "stream",
     "text": [
      "0.73\n"
     ]
    }
   ],
   "source": [
    "ratio_t=count_summer/count_winter\n",
    "ratio_t= round(ratio_t, 2)\n",
    "print ratio_t"
   ]
  },
  {
   "cell_type": "code",
   "execution_count": 54,
   "metadata": {
    "collapsed": false
   },
   "outputs": [
    {
     "data": {
      "text/plain": [
       "u'https://plot.ly/~ra123/12'"
      ]
     },
     "execution_count": 54,
     "metadata": {},
     "output_type": "execute_result"
    }
   ],
   "source": [
    "trace = Bar(\n",
    "    x=['Winter','Summer'], y=[count_winter,count_summer] \n",
    "    ,marker = dict(color=['blue','red'])\n",
    "    )\n",
    "\n",
    "data_3 = Data([trace])\n",
    "\n",
    "layout_3 = go.Layout(\n",
    "    title='Total count of Summer words vs Winter words over total time period. Summer to winter ratio='+str(ratio_t),\n",
    "    yaxis = dict(title = 'Keywords Count')\n",
    ") \n",
    "\n",
    "fig_3 = go.Figure(data=data_3, layout=layout_3)\n",
    "py.plot(fig_3, filename = 'Summer_vs_winter_Totals') \n",
    "#py.plot(data, filename = 'Summer_vs_winter_Totals')"
   ]
  },
  {
   "cell_type": "markdown",
   "metadata": {},
   "source": [
    "###Plots of: Occurrence and raito of Winter and Summer keywords per day "
   ]
  },
  {
   "cell_type": "code",
   "execution_count": 55,
   "metadata": {
    "collapsed": false
   },
   "outputs": [
    {
     "data": {
      "text/html": [
       "<div>\n",
       "<table border=\"1\" class=\"dataframe\">\n",
       "  <thead>\n",
       "    <tr style=\"text-align: right;\">\n",
       "      <th></th>\n",
       "      <th>date</th>\n",
       "      <th>rank</th>\n",
       "      <th>key_word</th>\n",
       "      <th>count</th>\n",
       "    </tr>\n",
       "  </thead>\n",
       "  <tbody>\n",
       "    <tr>\n",
       "      <th>0</th>\n",
       "      <td>2016-12-14</td>\n",
       "      <td>Keyword_1</td>\n",
       "      <td>fog</td>\n",
       "      <td>35.0</td>\n",
       "    </tr>\n",
       "    <tr>\n",
       "      <th>1</th>\n",
       "      <td>2016-12-14</td>\n",
       "      <td>Keyword_2</td>\n",
       "      <td>hot</td>\n",
       "      <td>33.0</td>\n",
       "    </tr>\n",
       "    <tr>\n",
       "      <th>2</th>\n",
       "      <td>2016-12-14</td>\n",
       "      <td>Keyword_3</td>\n",
       "      <td>cold</td>\n",
       "      <td>33.0</td>\n",
       "    </tr>\n",
       "    <tr>\n",
       "      <th>3</th>\n",
       "      <td>2016-12-14</td>\n",
       "      <td>Keyword_4</td>\n",
       "      <td>sun</td>\n",
       "      <td>32.0</td>\n",
       "    </tr>\n",
       "    <tr>\n",
       "      <th>4</th>\n",
       "      <td>2016-12-14</td>\n",
       "      <td>Keyword_5</td>\n",
       "      <td>warm</td>\n",
       "      <td>17.0</td>\n",
       "    </tr>\n",
       "  </tbody>\n",
       "</table>\n",
       "</div>"
      ],
      "text/plain": [
       "         date       rank key_word  count\n",
       "0  2016-12-14  Keyword_1      fog   35.0\n",
       "1  2016-12-14  Keyword_2      hot   33.0\n",
       "2  2016-12-14  Keyword_3     cold   33.0\n",
       "3  2016-12-14  Keyword_4      sun   32.0\n",
       "4  2016-12-14  Keyword_5     warm   17.0"
      ]
     },
     "execution_count": 55,
     "metadata": {},
     "output_type": "execute_result"
    }
   ],
   "source": [
    "tw_final2_all.head()"
   ]
  },
  {
   "cell_type": "code",
   "execution_count": 56,
   "metadata": {
    "collapsed": false
   },
   "outputs": [],
   "source": [
    "#To get a count of winter and summer words for each day\n",
    "count_winter_2_list=[]\n",
    "count_summer_2_list=[]\n",
    "i_list=[]\n",
    "dump_list=[]\n",
    "\n",
    "for j in range(len(df_count)):\n",
    "    count_winter_2=0\n",
    "    count_summer_2=0\n",
    "    dump=0\n",
    "    for i in range(max(d2_len)):\n",
    "        i_list.append(i)\n",
    "        x=len(i_list)-1 #to get an number of how many for loops have run\n",
    "        if tw_final2_all['key_word'][x] in weather_words_winter:\n",
    "                count_winter_2 = count_winter_2 + tw_final2_all['count'][x]\n",
    "                #print tw_final2_all['count'][x]\n",
    "        elif tw_final2_all['key_word'][x] in weather_words_summer:\n",
    "                count_summer_2 = count_summer_2 + tw_final2_all['count'][x]\n",
    "                #print tw_final2_all['count'][i]\n",
    "        else:\n",
    "            dump=dump + tw_final2_all['count'][x]\n",
    "    \n",
    "    count_winter_2_list.append(count_winter_2)\n",
    "    count_summer_2_list.append(count_summer_2)\n",
    "    dump_list.append(dump)\n",
    "            \n",
    "            \n",
    "            "
   ]
  },
  {
   "cell_type": "code",
   "execution_count": 57,
   "metadata": {
    "collapsed": false
   },
   "outputs": [
    {
     "data": {
      "text/plain": [
       "([125.0,\n",
       "  101.0,\n",
       "  362.0,\n",
       "  362.0,\n",
       "  367.0,\n",
       "  179.0,\n",
       "  196.0,\n",
       "  182.0,\n",
       "  186.0,\n",
       "  195.0,\n",
       "  171.0,\n",
       "  171.0,\n",
       "  198.0,\n",
       "  191.0,\n",
       "  203.0,\n",
       "  180.0,\n",
       "  109.0,\n",
       "  182.0,\n",
       "  185.0,\n",
       "  195.0,\n",
       "  198.0,\n",
       "  182.0,\n",
       "  182.0,\n",
       "  169.0,\n",
       "  181.0],\n",
       " [98.0,\n",
       "  89.0,\n",
       "  211.0,\n",
       "  209.0,\n",
       "  214.0,\n",
       "  134.0,\n",
       "  149.0,\n",
       "  140.0,\n",
       "  144.0,\n",
       "  148.0,\n",
       "  127.0,\n",
       "  128.0,\n",
       "  150.0,\n",
       "  148.0,\n",
       "  154.0,\n",
       "  138.0,\n",
       "  92.0,\n",
       "  139.0,\n",
       "  143.0,\n",
       "  148.0,\n",
       "  151.0,\n",
       "  138.0,\n",
       "  140.0,\n",
       "  124.0,\n",
       "  138.0],\n",
       " [nan,\n",
       "  nan,\n",
       "  0,\n",
       "  0,\n",
       "  0,\n",
       "  nan,\n",
       "  nan,\n",
       "  nan,\n",
       "  nan,\n",
       "  nan,\n",
       "  nan,\n",
       "  nan,\n",
       "  nan,\n",
       "  nan,\n",
       "  nan,\n",
       "  nan,\n",
       "  nan,\n",
       "  nan,\n",
       "  nan,\n",
       "  nan,\n",
       "  nan,\n",
       "  nan,\n",
       "  nan,\n",
       "  nan,\n",
       "  nan])"
      ]
     },
     "execution_count": 57,
     "metadata": {},
     "output_type": "execute_result"
    }
   ],
   "source": [
    "count_winter_2_list, count_summer_2_list, dump_list"
   ]
  },
  {
   "cell_type": "code",
   "execution_count": 58,
   "metadata": {
    "collapsed": false
   },
   "outputs": [],
   "source": [
    "df_count_weather = DataFrame()\n",
    "df_count_weather['date']=df_count['date']"
   ]
  },
  {
   "cell_type": "code",
   "execution_count": 59,
   "metadata": {
    "collapsed": false
   },
   "outputs": [
    {
     "data": {
      "text/html": [
       "<div>\n",
       "<table border=\"1\" class=\"dataframe\">\n",
       "  <thead>\n",
       "    <tr style=\"text-align: right;\">\n",
       "      <th></th>\n",
       "      <th>date</th>\n",
       "    </tr>\n",
       "  </thead>\n",
       "  <tbody>\n",
       "    <tr>\n",
       "      <th>0</th>\n",
       "      <td>2016-12-14</td>\n",
       "    </tr>\n",
       "    <tr>\n",
       "      <th>1</th>\n",
       "      <td>2016-12-15</td>\n",
       "    </tr>\n",
       "    <tr>\n",
       "      <th>2</th>\n",
       "      <td>2016-12-16</td>\n",
       "    </tr>\n",
       "    <tr>\n",
       "      <th>3</th>\n",
       "      <td>2016-12-19</td>\n",
       "    </tr>\n",
       "    <tr>\n",
       "      <th>4</th>\n",
       "      <td>2016-12-20</td>\n",
       "    </tr>\n",
       "    <tr>\n",
       "      <th>5</th>\n",
       "      <td>2016-12-21</td>\n",
       "    </tr>\n",
       "    <tr>\n",
       "      <th>6</th>\n",
       "      <td>2016-12-22</td>\n",
       "    </tr>\n",
       "    <tr>\n",
       "      <th>7</th>\n",
       "      <td>2016-12-23</td>\n",
       "    </tr>\n",
       "    <tr>\n",
       "      <th>8</th>\n",
       "      <td>2016-12-24</td>\n",
       "    </tr>\n",
       "    <tr>\n",
       "      <th>9</th>\n",
       "      <td>2016-12-25</td>\n",
       "    </tr>\n",
       "    <tr>\n",
       "      <th>10</th>\n",
       "      <td>2016-12-26</td>\n",
       "    </tr>\n",
       "    <tr>\n",
       "      <th>11</th>\n",
       "      <td>2016-12-27</td>\n",
       "    </tr>\n",
       "    <tr>\n",
       "      <th>12</th>\n",
       "      <td>2016-12-28</td>\n",
       "    </tr>\n",
       "    <tr>\n",
       "      <th>13</th>\n",
       "      <td>2016-12-30</td>\n",
       "    </tr>\n",
       "    <tr>\n",
       "      <th>14</th>\n",
       "      <td>2016-12-31</td>\n",
       "    </tr>\n",
       "    <tr>\n",
       "      <th>15</th>\n",
       "      <td>2017-01-01</td>\n",
       "    </tr>\n",
       "    <tr>\n",
       "      <th>16</th>\n",
       "      <td>2017-01-02</td>\n",
       "    </tr>\n",
       "    <tr>\n",
       "      <th>17</th>\n",
       "      <td>2017-01-03</td>\n",
       "    </tr>\n",
       "    <tr>\n",
       "      <th>18</th>\n",
       "      <td>2017-01-04</td>\n",
       "    </tr>\n",
       "    <tr>\n",
       "      <th>19</th>\n",
       "      <td>2017-01-05</td>\n",
       "    </tr>\n",
       "    <tr>\n",
       "      <th>20</th>\n",
       "      <td>2017-01-06</td>\n",
       "    </tr>\n",
       "    <tr>\n",
       "      <th>21</th>\n",
       "      <td>2017-01-08</td>\n",
       "    </tr>\n",
       "    <tr>\n",
       "      <th>22</th>\n",
       "      <td>2017-01-09</td>\n",
       "    </tr>\n",
       "    <tr>\n",
       "      <th>23</th>\n",
       "      <td>2017-01-10</td>\n",
       "    </tr>\n",
       "    <tr>\n",
       "      <th>24</th>\n",
       "      <td>2017-01-11</td>\n",
       "    </tr>\n",
       "  </tbody>\n",
       "</table>\n",
       "</div>"
      ],
      "text/plain": [
       "          date\n",
       "0   2016-12-14\n",
       "1   2016-12-15\n",
       "2   2016-12-16\n",
       "3   2016-12-19\n",
       "4   2016-12-20\n",
       "5   2016-12-21\n",
       "6   2016-12-22\n",
       "7   2016-12-23\n",
       "8   2016-12-24\n",
       "9   2016-12-25\n",
       "10  2016-12-26\n",
       "11  2016-12-27\n",
       "12  2016-12-28\n",
       "13  2016-12-30\n",
       "14  2016-12-31\n",
       "15  2017-01-01\n",
       "16  2017-01-02\n",
       "17  2017-01-03\n",
       "18  2017-01-04\n",
       "19  2017-01-05\n",
       "20  2017-01-06\n",
       "21  2017-01-08\n",
       "22  2017-01-09\n",
       "23  2017-01-10\n",
       "24  2017-01-11"
      ]
     },
     "execution_count": 59,
     "metadata": {},
     "output_type": "execute_result"
    }
   ],
   "source": [
    "df_count_weather"
   ]
  },
  {
   "cell_type": "code",
   "execution_count": 60,
   "metadata": {
    "collapsed": false
   },
   "outputs": [],
   "source": [
    "df_count_weather['Winter']=count_winter_2_list\n",
    "df_count_weather['Summer']=count_summer_2_list\n"
   ]
  },
  {
   "cell_type": "code",
   "execution_count": 61,
   "metadata": {
    "collapsed": false
   },
   "outputs": [],
   "source": [
    "df_count_weather['total_count']=df_count_weather['Winter']+df_count_weather['Summer']"
   ]
  },
  {
   "cell_type": "code",
   "execution_count": 62,
   "metadata": {
    "collapsed": false
   },
   "outputs": [],
   "source": [
    "df_count_weather['ratio_S/W']=df_count_weather['Summer'] / df_count_weather['Winter']"
   ]
  },
  {
   "cell_type": "code",
   "execution_count": 65,
   "metadata": {
    "collapsed": false
   },
   "outputs": [],
   "source": [
    "df_count_weather=pd.merge(met_raw, df_count_weather, how='inner', on='date')"
   ]
  },
  {
   "cell_type": "code",
   "execution_count": 236,
   "metadata": {
    "collapsed": false
   },
   "outputs": [
    {
     "data": {
      "text/html": [
       "<div>\n",
       "<table border=\"1\" class=\"dataframe\">\n",
       "  <thead>\n",
       "    <tr style=\"text-align: right;\">\n",
       "      <th></th>\n",
       "      <th>date</th>\n",
       "      <th>Temperature</th>\n",
       "      <th>Bucket_Weather</th>\n",
       "      <th>Winter</th>\n",
       "      <th>Summer</th>\n",
       "      <th>total_count</th>\n",
       "      <th>ratio_S/W</th>\n",
       "    </tr>\n",
       "  </thead>\n",
       "  <tbody>\n",
       "    <tr>\n",
       "      <th>0</th>\n",
       "      <td>2016-12-14</td>\n",
       "      <td>11</td>\n",
       "      <td>1</td>\n",
       "      <td>125.0</td>\n",
       "      <td>98.0</td>\n",
       "      <td>223.0</td>\n",
       "      <td>0.784000</td>\n",
       "    </tr>\n",
       "    <tr>\n",
       "      <th>1</th>\n",
       "      <td>2016-12-15</td>\n",
       "      <td>9</td>\n",
       "      <td>2</td>\n",
       "      <td>101.0</td>\n",
       "      <td>89.0</td>\n",
       "      <td>190.0</td>\n",
       "      <td>0.881188</td>\n",
       "    </tr>\n",
       "    <tr>\n",
       "      <th>2</th>\n",
       "      <td>2016-12-16</td>\n",
       "      <td>10</td>\n",
       "      <td>2</td>\n",
       "      <td>362.0</td>\n",
       "      <td>211.0</td>\n",
       "      <td>573.0</td>\n",
       "      <td>0.582873</td>\n",
       "    </tr>\n",
       "    <tr>\n",
       "      <th>3</th>\n",
       "      <td>2016-12-19</td>\n",
       "      <td>6</td>\n",
       "      <td>2</td>\n",
       "      <td>362.0</td>\n",
       "      <td>209.0</td>\n",
       "      <td>571.0</td>\n",
       "      <td>0.577348</td>\n",
       "    </tr>\n",
       "    <tr>\n",
       "      <th>4</th>\n",
       "      <td>2016-12-20</td>\n",
       "      <td>5</td>\n",
       "      <td>2</td>\n",
       "      <td>367.0</td>\n",
       "      <td>214.0</td>\n",
       "      <td>581.0</td>\n",
       "      <td>0.583106</td>\n",
       "    </tr>\n",
       "    <tr>\n",
       "      <th>5</th>\n",
       "      <td>2016-12-21</td>\n",
       "      <td>9</td>\n",
       "      <td>2</td>\n",
       "      <td>179.0</td>\n",
       "      <td>134.0</td>\n",
       "      <td>313.0</td>\n",
       "      <td>0.748603</td>\n",
       "    </tr>\n",
       "    <tr>\n",
       "      <th>6</th>\n",
       "      <td>2016-12-22</td>\n",
       "      <td>6</td>\n",
       "      <td>2</td>\n",
       "      <td>196.0</td>\n",
       "      <td>149.0</td>\n",
       "      <td>345.0</td>\n",
       "      <td>0.760204</td>\n",
       "    </tr>\n",
       "    <tr>\n",
       "      <th>7</th>\n",
       "      <td>2016-12-23</td>\n",
       "      <td>8</td>\n",
       "      <td>2</td>\n",
       "      <td>182.0</td>\n",
       "      <td>140.0</td>\n",
       "      <td>322.0</td>\n",
       "      <td>0.769231</td>\n",
       "    </tr>\n",
       "    <tr>\n",
       "      <th>8</th>\n",
       "      <td>2016-12-24</td>\n",
       "      <td>7</td>\n",
       "      <td>2</td>\n",
       "      <td>186.0</td>\n",
       "      <td>144.0</td>\n",
       "      <td>330.0</td>\n",
       "      <td>0.774194</td>\n",
       "    </tr>\n",
       "    <tr>\n",
       "      <th>9</th>\n",
       "      <td>2016-12-25</td>\n",
       "      <td>10</td>\n",
       "      <td>2</td>\n",
       "      <td>195.0</td>\n",
       "      <td>148.0</td>\n",
       "      <td>343.0</td>\n",
       "      <td>0.758974</td>\n",
       "    </tr>\n",
       "    <tr>\n",
       "      <th>10</th>\n",
       "      <td>2016-12-26</td>\n",
       "      <td>5</td>\n",
       "      <td>1</td>\n",
       "      <td>171.0</td>\n",
       "      <td>127.0</td>\n",
       "      <td>298.0</td>\n",
       "      <td>0.742690</td>\n",
       "    </tr>\n",
       "    <tr>\n",
       "      <th>11</th>\n",
       "      <td>2016-12-27</td>\n",
       "      <td>5</td>\n",
       "      <td>1</td>\n",
       "      <td>171.0</td>\n",
       "      <td>128.0</td>\n",
       "      <td>299.0</td>\n",
       "      <td>0.748538</td>\n",
       "    </tr>\n",
       "    <tr>\n",
       "      <th>12</th>\n",
       "      <td>2016-12-28</td>\n",
       "      <td>5</td>\n",
       "      <td>1</td>\n",
       "      <td>198.0</td>\n",
       "      <td>150.0</td>\n",
       "      <td>348.0</td>\n",
       "      <td>0.757576</td>\n",
       "    </tr>\n",
       "    <tr>\n",
       "      <th>13</th>\n",
       "      <td>2016-12-30</td>\n",
       "      <td>2</td>\n",
       "      <td>8</td>\n",
       "      <td>191.0</td>\n",
       "      <td>148.0</td>\n",
       "      <td>339.0</td>\n",
       "      <td>0.774869</td>\n",
       "    </tr>\n",
       "    <tr>\n",
       "      <th>14</th>\n",
       "      <td>2016-12-31</td>\n",
       "      <td>6</td>\n",
       "      <td>2</td>\n",
       "      <td>203.0</td>\n",
       "      <td>154.0</td>\n",
       "      <td>357.0</td>\n",
       "      <td>0.758621</td>\n",
       "    </tr>\n",
       "    <tr>\n",
       "      <th>15</th>\n",
       "      <td>2017-01-01</td>\n",
       "      <td>6</td>\n",
       "      <td>4</td>\n",
       "      <td>180.0</td>\n",
       "      <td>138.0</td>\n",
       "      <td>318.0</td>\n",
       "      <td>0.766667</td>\n",
       "    </tr>\n",
       "    <tr>\n",
       "      <th>16</th>\n",
       "      <td>2017-01-02</td>\n",
       "      <td>2</td>\n",
       "      <td>1</td>\n",
       "      <td>109.0</td>\n",
       "      <td>92.0</td>\n",
       "      <td>201.0</td>\n",
       "      <td>0.844037</td>\n",
       "    </tr>\n",
       "    <tr>\n",
       "      <th>17</th>\n",
       "      <td>2017-01-03</td>\n",
       "      <td>2</td>\n",
       "      <td>2</td>\n",
       "      <td>182.0</td>\n",
       "      <td>139.0</td>\n",
       "      <td>321.0</td>\n",
       "      <td>0.763736</td>\n",
       "    </tr>\n",
       "    <tr>\n",
       "      <th>18</th>\n",
       "      <td>2017-01-04</td>\n",
       "      <td>5</td>\n",
       "      <td>2</td>\n",
       "      <td>185.0</td>\n",
       "      <td>143.0</td>\n",
       "      <td>328.0</td>\n",
       "      <td>0.772973</td>\n",
       "    </tr>\n",
       "    <tr>\n",
       "      <th>19</th>\n",
       "      <td>2017-01-05</td>\n",
       "      <td>3</td>\n",
       "      <td>1</td>\n",
       "      <td>195.0</td>\n",
       "      <td>148.0</td>\n",
       "      <td>343.0</td>\n",
       "      <td>0.758974</td>\n",
       "    </tr>\n",
       "    <tr>\n",
       "      <th>20</th>\n",
       "      <td>2017-01-06</td>\n",
       "      <td>3</td>\n",
       "      <td>2</td>\n",
       "      <td>198.0</td>\n",
       "      <td>151.0</td>\n",
       "      <td>349.0</td>\n",
       "      <td>0.762626</td>\n",
       "    </tr>\n",
       "    <tr>\n",
       "      <th>21</th>\n",
       "      <td>2017-01-08</td>\n",
       "      <td>9</td>\n",
       "      <td>2</td>\n",
       "      <td>182.0</td>\n",
       "      <td>138.0</td>\n",
       "      <td>320.0</td>\n",
       "      <td>0.758242</td>\n",
       "    </tr>\n",
       "    <tr>\n",
       "      <th>22</th>\n",
       "      <td>2017-01-09</td>\n",
       "      <td>7</td>\n",
       "      <td>4</td>\n",
       "      <td>182.0</td>\n",
       "      <td>140.0</td>\n",
       "      <td>322.0</td>\n",
       "      <td>0.769231</td>\n",
       "    </tr>\n",
       "    <tr>\n",
       "      <th>23</th>\n",
       "      <td>2017-01-10</td>\n",
       "      <td>6</td>\n",
       "      <td>2</td>\n",
       "      <td>169.0</td>\n",
       "      <td>124.0</td>\n",
       "      <td>293.0</td>\n",
       "      <td>0.733728</td>\n",
       "    </tr>\n",
       "    <tr>\n",
       "      <th>24</th>\n",
       "      <td>2017-01-11</td>\n",
       "      <td>9</td>\n",
       "      <td>2</td>\n",
       "      <td>181.0</td>\n",
       "      <td>138.0</td>\n",
       "      <td>319.0</td>\n",
       "      <td>0.762431</td>\n",
       "    </tr>\n",
       "  </tbody>\n",
       "</table>\n",
       "</div>"
      ],
      "text/plain": [
       "          date  Temperature  Bucket_Weather  Winter  Summer  total_count  \\\n",
       "0   2016-12-14           11               1   125.0    98.0        223.0   \n",
       "1   2016-12-15            9               2   101.0    89.0        190.0   \n",
       "2   2016-12-16           10               2   362.0   211.0        573.0   \n",
       "3   2016-12-19            6               2   362.0   209.0        571.0   \n",
       "4   2016-12-20            5               2   367.0   214.0        581.0   \n",
       "5   2016-12-21            9               2   179.0   134.0        313.0   \n",
       "6   2016-12-22            6               2   196.0   149.0        345.0   \n",
       "7   2016-12-23            8               2   182.0   140.0        322.0   \n",
       "8   2016-12-24            7               2   186.0   144.0        330.0   \n",
       "9   2016-12-25           10               2   195.0   148.0        343.0   \n",
       "10  2016-12-26            5               1   171.0   127.0        298.0   \n",
       "11  2016-12-27            5               1   171.0   128.0        299.0   \n",
       "12  2016-12-28            5               1   198.0   150.0        348.0   \n",
       "13  2016-12-30            2               8   191.0   148.0        339.0   \n",
       "14  2016-12-31            6               2   203.0   154.0        357.0   \n",
       "15  2017-01-01            6               4   180.0   138.0        318.0   \n",
       "16  2017-01-02            2               1   109.0    92.0        201.0   \n",
       "17  2017-01-03            2               2   182.0   139.0        321.0   \n",
       "18  2017-01-04            5               2   185.0   143.0        328.0   \n",
       "19  2017-01-05            3               1   195.0   148.0        343.0   \n",
       "20  2017-01-06            3               2   198.0   151.0        349.0   \n",
       "21  2017-01-08            9               2   182.0   138.0        320.0   \n",
       "22  2017-01-09            7               4   182.0   140.0        322.0   \n",
       "23  2017-01-10            6               2   169.0   124.0        293.0   \n",
       "24  2017-01-11            9               2   181.0   138.0        319.0   \n",
       "\n",
       "    ratio_S/W  \n",
       "0    0.784000  \n",
       "1    0.881188  \n",
       "2    0.582873  \n",
       "3    0.577348  \n",
       "4    0.583106  \n",
       "5    0.748603  \n",
       "6    0.760204  \n",
       "7    0.769231  \n",
       "8    0.774194  \n",
       "9    0.758974  \n",
       "10   0.742690  \n",
       "11   0.748538  \n",
       "12   0.757576  \n",
       "13   0.774869  \n",
       "14   0.758621  \n",
       "15   0.766667  \n",
       "16   0.844037  \n",
       "17   0.763736  \n",
       "18   0.772973  \n",
       "19   0.758974  \n",
       "20   0.762626  \n",
       "21   0.758242  \n",
       "22   0.769231  \n",
       "23   0.733728  \n",
       "24   0.762431  "
      ]
     },
     "execution_count": 236,
     "metadata": {},
     "output_type": "execute_result"
    }
   ],
   "source": [
    "df_count_weather"
   ]
  },
  {
   "cell_type": "code",
   "execution_count": 237,
   "metadata": {
    "collapsed": true
   },
   "outputs": [],
   "source": [
    "df_count_totals=df_count_weather[['date', 'total_count']]"
   ]
  },
  {
   "cell_type": "code",
   "execution_count": 238,
   "metadata": {
    "collapsed": false
   },
   "outputs": [
    {
     "data": {
      "text/html": [
       "<div>\n",
       "<table border=\"1\" class=\"dataframe\">\n",
       "  <thead>\n",
       "    <tr style=\"text-align: right;\">\n",
       "      <th></th>\n",
       "      <th>date</th>\n",
       "      <th>total_count</th>\n",
       "    </tr>\n",
       "  </thead>\n",
       "  <tbody>\n",
       "    <tr>\n",
       "      <th>0</th>\n",
       "      <td>2016-12-14</td>\n",
       "      <td>223.0</td>\n",
       "    </tr>\n",
       "    <tr>\n",
       "      <th>1</th>\n",
       "      <td>2016-12-15</td>\n",
       "      <td>190.0</td>\n",
       "    </tr>\n",
       "    <tr>\n",
       "      <th>2</th>\n",
       "      <td>2016-12-16</td>\n",
       "      <td>573.0</td>\n",
       "    </tr>\n",
       "    <tr>\n",
       "      <th>3</th>\n",
       "      <td>2016-12-19</td>\n",
       "      <td>571.0</td>\n",
       "    </tr>\n",
       "    <tr>\n",
       "      <th>4</th>\n",
       "      <td>2016-12-20</td>\n",
       "      <td>581.0</td>\n",
       "    </tr>\n",
       "    <tr>\n",
       "      <th>5</th>\n",
       "      <td>2016-12-21</td>\n",
       "      <td>313.0</td>\n",
       "    </tr>\n",
       "    <tr>\n",
       "      <th>6</th>\n",
       "      <td>2016-12-22</td>\n",
       "      <td>345.0</td>\n",
       "    </tr>\n",
       "    <tr>\n",
       "      <th>7</th>\n",
       "      <td>2016-12-23</td>\n",
       "      <td>322.0</td>\n",
       "    </tr>\n",
       "    <tr>\n",
       "      <th>8</th>\n",
       "      <td>2016-12-24</td>\n",
       "      <td>330.0</td>\n",
       "    </tr>\n",
       "    <tr>\n",
       "      <th>9</th>\n",
       "      <td>2016-12-25</td>\n",
       "      <td>343.0</td>\n",
       "    </tr>\n",
       "    <tr>\n",
       "      <th>10</th>\n",
       "      <td>2016-12-26</td>\n",
       "      <td>298.0</td>\n",
       "    </tr>\n",
       "    <tr>\n",
       "      <th>11</th>\n",
       "      <td>2016-12-27</td>\n",
       "      <td>299.0</td>\n",
       "    </tr>\n",
       "    <tr>\n",
       "      <th>12</th>\n",
       "      <td>2016-12-28</td>\n",
       "      <td>348.0</td>\n",
       "    </tr>\n",
       "    <tr>\n",
       "      <th>13</th>\n",
       "      <td>2016-12-30</td>\n",
       "      <td>339.0</td>\n",
       "    </tr>\n",
       "    <tr>\n",
       "      <th>14</th>\n",
       "      <td>2016-12-31</td>\n",
       "      <td>357.0</td>\n",
       "    </tr>\n",
       "    <tr>\n",
       "      <th>15</th>\n",
       "      <td>2017-01-01</td>\n",
       "      <td>318.0</td>\n",
       "    </tr>\n",
       "    <tr>\n",
       "      <th>16</th>\n",
       "      <td>2017-01-02</td>\n",
       "      <td>201.0</td>\n",
       "    </tr>\n",
       "    <tr>\n",
       "      <th>17</th>\n",
       "      <td>2017-01-03</td>\n",
       "      <td>321.0</td>\n",
       "    </tr>\n",
       "    <tr>\n",
       "      <th>18</th>\n",
       "      <td>2017-01-04</td>\n",
       "      <td>328.0</td>\n",
       "    </tr>\n",
       "    <tr>\n",
       "      <th>19</th>\n",
       "      <td>2017-01-05</td>\n",
       "      <td>343.0</td>\n",
       "    </tr>\n",
       "    <tr>\n",
       "      <th>20</th>\n",
       "      <td>2017-01-06</td>\n",
       "      <td>349.0</td>\n",
       "    </tr>\n",
       "    <tr>\n",
       "      <th>21</th>\n",
       "      <td>2017-01-08</td>\n",
       "      <td>320.0</td>\n",
       "    </tr>\n",
       "    <tr>\n",
       "      <th>22</th>\n",
       "      <td>2017-01-09</td>\n",
       "      <td>322.0</td>\n",
       "    </tr>\n",
       "    <tr>\n",
       "      <th>23</th>\n",
       "      <td>2017-01-10</td>\n",
       "      <td>293.0</td>\n",
       "    </tr>\n",
       "    <tr>\n",
       "      <th>24</th>\n",
       "      <td>2017-01-11</td>\n",
       "      <td>319.0</td>\n",
       "    </tr>\n",
       "  </tbody>\n",
       "</table>\n",
       "</div>"
      ],
      "text/plain": [
       "          date  total_count\n",
       "0   2016-12-14        223.0\n",
       "1   2016-12-15        190.0\n",
       "2   2016-12-16        573.0\n",
       "3   2016-12-19        571.0\n",
       "4   2016-12-20        581.0\n",
       "5   2016-12-21        313.0\n",
       "6   2016-12-22        345.0\n",
       "7   2016-12-23        322.0\n",
       "8   2016-12-24        330.0\n",
       "9   2016-12-25        343.0\n",
       "10  2016-12-26        298.0\n",
       "11  2016-12-27        299.0\n",
       "12  2016-12-28        348.0\n",
       "13  2016-12-30        339.0\n",
       "14  2016-12-31        357.0\n",
       "15  2017-01-01        318.0\n",
       "16  2017-01-02        201.0\n",
       "17  2017-01-03        321.0\n",
       "18  2017-01-04        328.0\n",
       "19  2017-01-05        343.0\n",
       "20  2017-01-06        349.0\n",
       "21  2017-01-08        320.0\n",
       "22  2017-01-09        322.0\n",
       "23  2017-01-10        293.0\n",
       "24  2017-01-11        319.0"
      ]
     },
     "execution_count": 238,
     "metadata": {},
     "output_type": "execute_result"
    }
   ],
   "source": [
    "df_count_totals"
   ]
  },
  {
   "cell_type": "markdown",
   "metadata": {},
   "source": [
    "### count of winter and summer keywords vs date"
   ]
  },
  {
   "cell_type": "code",
   "execution_count": 239,
   "metadata": {
    "collapsed": false
   },
   "outputs": [
    {
     "name": "stdout",
     "output_type": "stream",
     "text": [
      "(25L, 4L)\n"
     ]
    }
   ],
   "source": [
    "df_count_weather_ws=df_count_weather[['date','Temperature','Winter','Summer']]\n",
    "# convert the df to a numpy array\n",
    "np_counts_3 = np.array(df_count_weather_ws)\n",
    "print np_counts_3.shape"
   ]
  },
  {
   "cell_type": "code",
   "execution_count": 240,
   "metadata": {
    "collapsed": false
   },
   "outputs": [
    {
     "data": {
      "text/plain": [
       "u'https://plot.ly/~ra123/14'"
      ]
     },
     "execution_count": 240,
     "metadata": {},
     "output_type": "execute_result"
    }
   ],
   "source": [
    "#code to plot count for keywords for each date. Code will update if any new keywords are added to table.\n",
    "trace_3=[]\n",
    "col_num_3 = len(df_count_weather_ws.columns) #Number of columns in dataframe to use in for loop\n",
    "for i in range(col_num_3):\n",
    "    if i==0:\n",
    "        x_date_3=np_counts_3[:,i] # Sets the x-axis as the date\n",
    "    elif i==1:\n",
    "        y_count_3=np_counts_3[:,i].astype(float) #Sets y-axis as count\n",
    "        trace_3.append(Scatter( x=x_date_3, y=y_count_3, name=df_count_weather_ws.dtypes.index[i], yaxis='y2', line = dict(dash = 'dash') )) #temp line\n",
    "    else:\n",
    "        y_count_3=np_counts_3[:,i].astype(float) #Sets y-axis as count\n",
    "        trace_3.append(go.Scatter( x=x_date_3, y=y_count_3, name=df_count_weather_ws.dtypes.index[i] )) #appends list 'trace' with counts for each keyword\n",
    "        \n",
    "        \n",
    "        \n",
    "data_4 = Data(trace_3) #list trace is not data for plotly plot\n",
    "layout_4 = go.Layout( #layout of plotly plot\n",
    "    title='Occurrence of Winter and Summer keywords per day',\n",
    "    xaxis=dict(\n",
    "        title='Date',\n",
    "        titlefont=dict(\n",
    "            family='Courier New, monospace',\n",
    "            size=18,\n",
    "            color='#7f7f7f'\n",
    "        )\n",
    "    ),\n",
    "    yaxis=dict(\n",
    "        title='Occurrence of Keywords',\n",
    "        titlefont=dict(\n",
    "            family='Courier New, monospace',\n",
    "            size=18,\n",
    "            color='#7f7f7f'\n",
    "        )\n",
    "    ),\n",
    "    yaxis2=dict(\n",
    "        title='Temperature(deg.C)',\n",
    "        titlefont=dict(\n",
    "            family='Courier New, monospace',\n",
    "            size=18,\n",
    "            color='#7f7f7f'\n",
    "        ),\n",
    "        overlaying='y',\n",
    "        side='right'\n",
    "    )\n",
    "    \n",
    ")\n",
    "fig_2 = go.Figure(data=data_4, layout=layout_4)\n",
    "py.plot(fig_2, filename = 'winter_vs_summer_counts') #plotly plot"
   ]
  },
  {
   "cell_type": "markdown",
   "metadata": {},
   "source": [
    "### %of winter and summer words vs date"
   ]
  },
  {
   "cell_type": "code",
   "execution_count": 241,
   "metadata": {
    "collapsed": false
   },
   "outputs": [
    {
     "data": {
      "text/html": [
       "<div>\n",
       "<table border=\"1\" class=\"dataframe\">\n",
       "  <thead>\n",
       "    <tr style=\"text-align: right;\">\n",
       "      <th></th>\n",
       "      <th>date</th>\n",
       "      <th>Temperature</th>\n",
       "      <th>Bucket_Weather</th>\n",
       "      <th>Winter</th>\n",
       "      <th>Summer</th>\n",
       "      <th>total_count</th>\n",
       "      <th>ratio_S/W</th>\n",
       "    </tr>\n",
       "  </thead>\n",
       "  <tbody>\n",
       "    <tr>\n",
       "      <th>0</th>\n",
       "      <td>2016-12-14</td>\n",
       "      <td>11</td>\n",
       "      <td>1</td>\n",
       "      <td>125.0</td>\n",
       "      <td>98.0</td>\n",
       "      <td>223.0</td>\n",
       "      <td>0.784000</td>\n",
       "    </tr>\n",
       "    <tr>\n",
       "      <th>1</th>\n",
       "      <td>2016-12-15</td>\n",
       "      <td>9</td>\n",
       "      <td>2</td>\n",
       "      <td>101.0</td>\n",
       "      <td>89.0</td>\n",
       "      <td>190.0</td>\n",
       "      <td>0.881188</td>\n",
       "    </tr>\n",
       "    <tr>\n",
       "      <th>2</th>\n",
       "      <td>2016-12-16</td>\n",
       "      <td>10</td>\n",
       "      <td>2</td>\n",
       "      <td>362.0</td>\n",
       "      <td>211.0</td>\n",
       "      <td>573.0</td>\n",
       "      <td>0.582873</td>\n",
       "    </tr>\n",
       "    <tr>\n",
       "      <th>3</th>\n",
       "      <td>2016-12-19</td>\n",
       "      <td>6</td>\n",
       "      <td>2</td>\n",
       "      <td>362.0</td>\n",
       "      <td>209.0</td>\n",
       "      <td>571.0</td>\n",
       "      <td>0.577348</td>\n",
       "    </tr>\n",
       "    <tr>\n",
       "      <th>4</th>\n",
       "      <td>2016-12-20</td>\n",
       "      <td>5</td>\n",
       "      <td>2</td>\n",
       "      <td>367.0</td>\n",
       "      <td>214.0</td>\n",
       "      <td>581.0</td>\n",
       "      <td>0.583106</td>\n",
       "    </tr>\n",
       "  </tbody>\n",
       "</table>\n",
       "</div>"
      ],
      "text/plain": [
       "         date  Temperature  Bucket_Weather  Winter  Summer  total_count  \\\n",
       "0  2016-12-14           11               1   125.0    98.0        223.0   \n",
       "1  2016-12-15            9               2   101.0    89.0        190.0   \n",
       "2  2016-12-16           10               2   362.0   211.0        573.0   \n",
       "3  2016-12-19            6               2   362.0   209.0        571.0   \n",
       "4  2016-12-20            5               2   367.0   214.0        581.0   \n",
       "\n",
       "   ratio_S/W  \n",
       "0   0.784000  \n",
       "1   0.881188  \n",
       "2   0.582873  \n",
       "3   0.577348  \n",
       "4   0.583106  "
      ]
     },
     "execution_count": 241,
     "metadata": {},
     "output_type": "execute_result"
    }
   ],
   "source": [
    "df_count_weather.head()"
   ]
  },
  {
   "cell_type": "code",
   "execution_count": 242,
   "metadata": {
    "collapsed": true
   },
   "outputs": [],
   "source": [
    "df_count_weather_p=DataFrame() #datafram for percent"
   ]
  },
  {
   "cell_type": "code",
   "execution_count": 243,
   "metadata": {
    "collapsed": true
   },
   "outputs": [],
   "source": [
    "df_count_weather_p['date']=df_count_weather['date']\n",
    "df_count_weather_p['Temperature']=df_count_weather['Temperature']\n",
    "df_count_weather_p['Winter']=df_count_weather['Winter']/df_count_weather['total_count']\n",
    "df_count_weather_p['Summer']=df_count_weather['Summer']/df_count_weather['total_count']"
   ]
  },
  {
   "cell_type": "code",
   "execution_count": 244,
   "metadata": {
    "collapsed": false
   },
   "outputs": [
    {
     "name": "stdout",
     "output_type": "stream",
     "text": [
      "(25L, 4L)\n"
     ]
    }
   ],
   "source": [
    "# convert the df to a numpy array\n",
    "np_counts_p = np.array(df_count_weather_p)\n",
    "print np_counts_p.shape"
   ]
  },
  {
   "cell_type": "code",
   "execution_count": 246,
   "metadata": {
    "collapsed": false
   },
   "outputs": [
    {
     "data": {
      "text/plain": [
       "u'https://plot.ly/~ra123/28'"
      ]
     },
     "execution_count": 246,
     "metadata": {},
     "output_type": "execute_result"
    }
   ],
   "source": [
    "#code to plot count for keywords for each date. Code will update if any new keywords are added to table.\n",
    "trace_3=[]\n",
    "col_num_3 = len(df_count_weather_p.columns) #Number of columns in dataframe to use in for loop\n",
    "for i in range(col_num_3):\n",
    "    if i==0:\n",
    "        x_date_3=np_counts_p[:,i] # Sets the x-axis as the date\n",
    "    elif i==1:\n",
    "        y_count_3=np_counts_p[:,i].astype(float) #Sets y-axis as count\n",
    "        trace_3.append(Scatter( x=x_date_3, y=y_count_3, name=df_count_weather_p.dtypes.index[i], yaxis='y2', line = dict(dash = 'dash') )) #temp line\n",
    "    else:\n",
    "        y_count_3=np_counts_p[:,i].astype(float) #Sets y-axis as count\n",
    "        trace_3.append(go.Scatter( x=x_date_3, y=y_count_3, name=df_count_weather_p.dtypes.index[i] )) #appends list 'trace' with counts for each keyword\n",
    "        \n",
    "        \n",
    "        \n",
    "data_4 = Data(trace_3) #list trace is not data for plotly plot\n",
    "layout_4 = go.Layout( #layout of plotly plot\n",
    "    title='% of Winter and Summer keywords per day',\n",
    "    xaxis=dict(\n",
    "        title='Date',\n",
    "        titlefont=dict(\n",
    "            family='Courier New, monospace',\n",
    "            size=18,\n",
    "            color='#7f7f7f'\n",
    "        )\n",
    "    ),\n",
    "    yaxis=dict(\n",
    "        title='% of Keywords',\n",
    "        titlefont=dict(\n",
    "            family='Courier New, monospace',\n",
    "            size=18,\n",
    "            color='#7f7f7f'\n",
    "        )\n",
    "    ),\n",
    "    yaxis2=dict(\n",
    "        title='Temperature(deg.C)',\n",
    "        titlefont=dict(\n",
    "            family='Courier New, monospace',\n",
    "            size=18,\n",
    "            color='#7f7f7f'\n",
    "        ),\n",
    "        overlaying='y',\n",
    "        side='right'\n",
    "    )\n",
    "    \n",
    ")\n",
    "fig_2 = go.Figure(data=data_4, layout=layout_4)\n",
    "py.plot(fig_2, filename = 'winter_vs_summer_percent') #plotly plot"
   ]
  },
  {
   "cell_type": "markdown",
   "metadata": {},
   "source": [
    "### Ratio of summer to winter keywords graph"
   ]
  },
  {
   "cell_type": "code",
   "execution_count": 113,
   "metadata": {
    "collapsed": false
   },
   "outputs": [
    {
     "name": "stdout",
     "output_type": "stream",
     "text": [
      "(25L, 3L)\n"
     ]
    }
   ],
   "source": [
    "df_count_weather_r=df_count_weather[['date','Temperature','ratio_S/W']]\n",
    "# convert the df to a numpy array\n",
    "np_counts_4 = np.array(df_count_weather_r)\n",
    "print np_counts_4.shape"
   ]
  },
  {
   "cell_type": "code",
   "execution_count": 114,
   "metadata": {
    "collapsed": false
   },
   "outputs": [
    {
     "data": {
      "text/plain": [
       "u'https://plot.ly/~ra123/16'"
      ]
     },
     "execution_count": 114,
     "metadata": {},
     "output_type": "execute_result"
    }
   ],
   "source": [
    "#code to plot count for keywords for each date. Code will update if any new keywords are added to table.\n",
    "trace_4=[]\n",
    "col_num_4 = len(df_count_weather_r.columns) #Number of columns in dataframe to use in for loop\n",
    "for i in range(col_num_4):\n",
    "    if i==0:\n",
    "        x_date_4=np_counts_4[:,i] # Sets the x-axis as the date\n",
    "    elif i==1:\n",
    "        y_count_4=np_counts_4[:,i].astype(float) #Sets y-axis as count\n",
    "        trace_4.append(Scatter( x=x_date_4, y=y_count_4, name=df_count_weather_r.dtypes.index[i], yaxis='y2', line = dict(dash = 'dash') )) #temp line\n",
    "    else:\n",
    "        y_count_4=np_counts_4[:,i].astype(float) #Sets y-axis as count\n",
    "        trace_4.append(Scatter( x=x_date_4, y=y_count_4, name=df_count_weather_r.dtypes.index[i] )) #appends list 'trace' with counts for each keyword\n",
    "        \n",
    "        \n",
    "        \n",
    "data_5 = Data(trace_4) #list trace is not data for plotly plot\n",
    "layout_5 = go.Layout( #layout of plotly plot\n",
    "    title='Ratio of Summer to Winter keywords per day',\n",
    "    xaxis=dict(\n",
    "        title='Date',\n",
    "        titlefont=dict(\n",
    "            family='Courier New, monospace',\n",
    "            size=18,\n",
    "            color='#7f7f7f'\n",
    "        )\n",
    "    ),\n",
    "    yaxis=dict(\n",
    "        title='Ratio of keywords (Summer/Winter)',\n",
    "        titlefont=dict(\n",
    "            family='Courier New, monospace',\n",
    "            size=18,\n",
    "            color='#7f7f7f'\n",
    "        )\n",
    "    ),\n",
    "    yaxis2=dict(\n",
    "        title='Temperature(deg.C)',\n",
    "        titlefont=dict(\n",
    "            family='Courier New, monospace',\n",
    "            size=18,\n",
    "            color='#7f7f7f'\n",
    "        ),\n",
    "        overlaying='y',\n",
    "        side='right'\n",
    "    )\n",
    ")\n",
    "fig_2 = go.Figure(data=data_5, layout=layout_5)\n",
    "py.plot(fig_2, filename = 'winter_vs_summer_ratio') #plotly plot"
   ]
  },
  {
   "cell_type": "markdown",
   "metadata": {},
   "source": [
    "# Keyword_count_plots"
   ]
  },
  {
   "cell_type": "code",
   "execution_count": 82,
   "metadata": {
    "collapsed": false
   },
   "outputs": [
    {
     "data": {
      "text/html": [
       "<div>\n",
       "<table border=\"1\" class=\"dataframe\">\n",
       "  <thead>\n",
       "    <tr style=\"text-align: right;\">\n",
       "      <th></th>\n",
       "      <th>date</th>\n",
       "      <th>rank</th>\n",
       "      <th>key_word</th>\n",
       "      <th>count</th>\n",
       "    </tr>\n",
       "  </thead>\n",
       "  <tbody>\n",
       "    <tr>\n",
       "      <th>0</th>\n",
       "      <td>2016-12-14</td>\n",
       "      <td>Keyword_1</td>\n",
       "      <td>fog</td>\n",
       "      <td>35.0</td>\n",
       "    </tr>\n",
       "    <tr>\n",
       "      <th>1</th>\n",
       "      <td>2016-12-14</td>\n",
       "      <td>Keyword_2</td>\n",
       "      <td>hot</td>\n",
       "      <td>33.0</td>\n",
       "    </tr>\n",
       "    <tr>\n",
       "      <th>2</th>\n",
       "      <td>2016-12-14</td>\n",
       "      <td>Keyword_3</td>\n",
       "      <td>cold</td>\n",
       "      <td>33.0</td>\n",
       "    </tr>\n",
       "    <tr>\n",
       "      <th>3</th>\n",
       "      <td>2016-12-14</td>\n",
       "      <td>Keyword_4</td>\n",
       "      <td>sun</td>\n",
       "      <td>32.0</td>\n",
       "    </tr>\n",
       "    <tr>\n",
       "      <th>4</th>\n",
       "      <td>2016-12-14</td>\n",
       "      <td>Keyword_5</td>\n",
       "      <td>warm</td>\n",
       "      <td>17.0</td>\n",
       "    </tr>\n",
       "  </tbody>\n",
       "</table>\n",
       "</div>"
      ],
      "text/plain": [
       "         date       rank key_word  count\n",
       "0  2016-12-14  Keyword_1      fog   35.0\n",
       "1  2016-12-14  Keyword_2      hot   33.0\n",
       "2  2016-12-14  Keyword_3     cold   33.0\n",
       "3  2016-12-14  Keyword_4      sun   32.0\n",
       "4  2016-12-14  Keyword_5     warm   17.0"
      ]
     },
     "execution_count": 82,
     "metadata": {},
     "output_type": "execute_result"
    }
   ],
   "source": [
    " tw_final2_all.head()"
   ]
  },
  {
   "cell_type": "code",
   "execution_count": 83,
   "metadata": {
    "collapsed": false
   },
   "outputs": [],
   "source": [
    "merged_all_sum=tw_final2_all[['key_word', 'count']]"
   ]
  },
  {
   "cell_type": "code",
   "execution_count": 84,
   "metadata": {
    "collapsed": false
   },
   "outputs": [],
   "source": [
    "df_wordcount_all=merged_all_sum.groupby('key_word').sum()\n",
    "df_wordcount_all.reset_index(level = 0, inplace = True)\n",
    "df_wordcount_all = df_wordcount_all.sort_values('count', axis=0, ascending=False, inplace=False, kind='quicksort', na_position='last')"
   ]
  },
  {
   "cell_type": "code",
   "execution_count": 85,
   "metadata": {
    "collapsed": false
   },
   "outputs": [
    {
     "data": {
      "text/html": [
       "<div>\n",
       "<table border=\"1\" class=\"dataframe\">\n",
       "  <thead>\n",
       "    <tr style=\"text-align: right;\">\n",
       "      <th></th>\n",
       "      <th>key_word</th>\n",
       "      <th>count</th>\n",
       "    </tr>\n",
       "  </thead>\n",
       "  <tbody>\n",
       "    <tr>\n",
       "      <th>13</th>\n",
       "      <td>hot</td>\n",
       "      <td>1282.0</td>\n",
       "    </tr>\n",
       "    <tr>\n",
       "      <th>6</th>\n",
       "      <td>fog</td>\n",
       "      <td>1147.0</td>\n",
       "    </tr>\n",
       "    <tr>\n",
       "      <th>24</th>\n",
       "      <td>sun</td>\n",
       "      <td>1105.0</td>\n",
       "    </tr>\n",
       "    <tr>\n",
       "      <th>4</th>\n",
       "      <td>cold</td>\n",
       "      <td>1062.0</td>\n",
       "    </tr>\n",
       "    <tr>\n",
       "      <th>28</th>\n",
       "      <td>warm</td>\n",
       "      <td>749.0</td>\n",
       "    </tr>\n",
       "  </tbody>\n",
       "</table>\n",
       "</div>"
      ],
      "text/plain": [
       "   key_word   count\n",
       "13      hot  1282.0\n",
       "6       fog  1147.0\n",
       "24      sun  1105.0\n",
       "4      cold  1062.0\n",
       "28     warm   749.0"
      ]
     },
     "execution_count": 85,
     "metadata": {},
     "output_type": "execute_result"
    }
   ],
   "source": [
    "df_wordcount_all.head()"
   ]
  },
  {
   "cell_type": "code",
   "execution_count": 86,
   "metadata": {
    "collapsed": false
   },
   "outputs": [
    {
     "data": {
      "text/plain": [
       "u'https://plot.ly/~ra123/18'"
      ]
     },
     "execution_count": 86,
     "metadata": {},
     "output_type": "execute_result"
    }
   ],
   "source": [
    "trace = Bar(\n",
    "    x= df_wordcount_all['key_word'], y=df_wordcount_all['count']\n",
    "    )\n",
    "\n",
    "data_5 = Data([trace])\n",
    "\n",
    "layout_5 = go.Layout(\n",
    "    title='Total count of all keywords',\n",
    "    xaxis=dict(title='Keywords'),\n",
    "    yaxis = dict(title = 'Keywords Count')\n",
    ") \n",
    "\n",
    "fig_3 = go.Figure(data=data_5, layout=layout_5)\n",
    "py.plot(fig_3, filename = 'Total_counts_of_all_word') \n",
    "#py.plot(data, filename = 'Summer_vs_winter_Totals')"
   ]
  },
  {
   "cell_type": "code",
   "execution_count": 87,
   "metadata": {
    "collapsed": true
   },
   "outputs": [],
   "source": [
    "merged_all_rank=tw_final2_all[['rank', 'key_word']]"
   ]
  },
  {
   "cell_type": "code",
   "execution_count": 88,
   "metadata": {
    "collapsed": false
   },
   "outputs": [
    {
     "data": {
      "text/html": [
       "<div>\n",
       "<table border=\"1\" class=\"dataframe\">\n",
       "  <thead>\n",
       "    <tr style=\"text-align: right;\">\n",
       "      <th></th>\n",
       "      <th>rank</th>\n",
       "      <th>key_word</th>\n",
       "    </tr>\n",
       "  </thead>\n",
       "  <tbody>\n",
       "    <tr>\n",
       "      <th>0</th>\n",
       "      <td>Keyword_1</td>\n",
       "      <td>fog</td>\n",
       "    </tr>\n",
       "    <tr>\n",
       "      <th>1</th>\n",
       "      <td>Keyword_2</td>\n",
       "      <td>hot</td>\n",
       "    </tr>\n",
       "    <tr>\n",
       "      <th>2</th>\n",
       "      <td>Keyword_3</td>\n",
       "      <td>cold</td>\n",
       "    </tr>\n",
       "    <tr>\n",
       "      <th>3</th>\n",
       "      <td>Keyword_4</td>\n",
       "      <td>sun</td>\n",
       "    </tr>\n",
       "    <tr>\n",
       "      <th>4</th>\n",
       "      <td>Keyword_5</td>\n",
       "      <td>warm</td>\n",
       "    </tr>\n",
       "  </tbody>\n",
       "</table>\n",
       "</div>"
      ],
      "text/plain": [
       "        rank key_word\n",
       "0  Keyword_1      fog\n",
       "1  Keyword_2      hot\n",
       "2  Keyword_3     cold\n",
       "3  Keyword_4      sun\n",
       "4  Keyword_5     warm"
      ]
     },
     "execution_count": 88,
     "metadata": {},
     "output_type": "execute_result"
    }
   ],
   "source": [
    "merged_all_rank.head()"
   ]
  },
  {
   "cell_type": "code",
   "execution_count": 89,
   "metadata": {
    "collapsed": false
   },
   "outputs": [],
   "source": [
    "#inorder to get a dict key_words that apparear in each rank\n",
    "i_list=[]\n",
    "\n",
    "arraysDict = {}\n",
    "\n",
    "for j in range (len(df_count)):\n",
    "    for i in range (max(d2_len)):\n",
    "        i_list.append(i)\n",
    "        x=len(i_list)-1\n",
    "        o=i+1\n",
    "        if j==0:\n",
    "            arraysDict['keyword{0}'.format(o)] = []\n",
    "            arraysDict['keyword'+str(o)].append(merged_all_rank['key_word'][x])\n",
    "            #print x\n",
    "        else:\n",
    "            arraysDict['keyword'+str(o)].append(merged_all_rank['key_word'][x])\n",
    "\n",
    "      "
   ]
  },
  {
   "cell_type": "code",
   "execution_count": 90,
   "metadata": {
    "collapsed": false
   },
   "outputs": [],
   "source": [
    "#inorder to get a dict of the count of key_words that apparear in each rank\n",
    "from collections import Counter\n",
    "arraysDict_2 = {}\n",
    "\n",
    "for i in range (len(arraysDict)):\n",
    "    o=i+1\n",
    "    counts_kw = Counter(arraysDict['keyword'+str(o)])\n",
    "    arraysDict_2['{0}'.format(o)] = counts_kw\n"
   ]
  },
  {
   "cell_type": "code",
   "execution_count": 91,
   "metadata": {
    "collapsed": false
   },
   "outputs": [
    {
     "data": {
      "text/plain": [
       "{'1': Counter({'fog': 3, 'hot': 22}),\n",
       " '10': Counter({'snow': 2, 'sunny': 16, 'temperature': 7}),\n",
       " '11': Counter({'lightning': 12, 'rain': 10, 'sunny': 3}),\n",
       " '12': Counter({'lightning': 10, 'rain': 15}),\n",
       " '13': Counter({'burn': 2, 'cloudy': 3, 'heat': 3, 'mild': 1, 'storm': 16}),\n",
       " '14': Counter({'boiling': 2,\n",
       "          'burn': 1,\n",
       "          'cloudy': 13,\n",
       "          'lightning': 3,\n",
       "          'mild': 3,\n",
       "          'storm': 3}),\n",
       " '15': Counter({'boiling': 1, 'cloudy': 6, 'mild': 16, 'storm': 2}),\n",
       " '16': Counter({'burn': 3, 'mild': 2, 'shower': 19, 'storm': 1}),\n",
       " '17': Counter({'burn': 19, 'cloudy': 2, 'flood': 4}),\n",
       " '18': Counter({'baltic': 1,\n",
       "          'boiling': 10,\n",
       "          'flood': 2,\n",
       "          'frost': 9,\n",
       "          'shower': 3}),\n",
       " '19': Counter({'boiling': 9,\n",
       "          'frost': 3,\n",
       "          'heat': 1,\n",
       "          'mild': 3,\n",
       "          'mist': 7,\n",
       "          'shower': 2}),\n",
       " '2': Counter({'fog': 15, 'hot': 2, 'snow': 3, 'sun': 5}),\n",
       " '20': Counter({nan: 1, 'baltic': 2, 'frost': 7, 'icy': 3, 'mist': 12}),\n",
       " '21': Counter({nan: 1,\n",
       "          'boiling': 3,\n",
       "          'flood': 10,\n",
       "          'heat': 2,\n",
       "          'icy': 7,\n",
       "          'mist': 2}),\n",
       " '22': Counter({nan: 3, 'flood': 9, 'frost': 3, 'heat': 1, 'icy': 9}),\n",
       " '23': Counter({nan: 3, 'heat': 18, 'visibility': 4}),\n",
       " '24': Counter({nan: 3, 'baltic': 1, 'hail': 3, 'visibility': 18}),\n",
       " '25': Counter({nan: 4, 'baltic': 18, 'frosty': 3}),\n",
       " '26': Counter({nan: 22, 'icy': 3}),\n",
       " '27': Counter({nan: 22, 'snowing': 3}),\n",
       " '28': Counter({nan: 22, 'freezing': 3}),\n",
       " '29': Counter({nan: 22, 'foggy': 3}),\n",
       " '3': Counter({'cold': 2, 'fog': 6, 'hot': 1, 'sun': 16}),\n",
       " '30': Counter({nan: 22, 'baltic': 3}),\n",
       " '4': Counter({'cold': 23, 'fog': 1, 'sun': 1}),\n",
       " '5': Counter({'sun': 3, 'warm': 22}),\n",
       " '6': Counter({'ice': 19, 'snow': 1, 'sunny': 2, 'warm': 3}),\n",
       " '7': Counter({'ice': 3, 'snow': 18, 'storm': 3, 'sunny': 1}),\n",
       " '8': Counter({'ice': 3, 'snow': 1, 'sunny': 3, 'wind': 18}),\n",
       " '9': Counter({'temperature': 18, 'wind': 7})}"
      ]
     },
     "execution_count": 91,
     "metadata": {},
     "output_type": "execute_result"
    }
   ],
   "source": [
    "arraysDict_2"
   ]
  },
  {
   "cell_type": "code",
   "execution_count": 92,
   "metadata": {
    "collapsed": false
   },
   "outputs": [],
   "source": [
    "df_rank=pd.DataFrame.from_dict(arraysDict_2, orient='index') #dict to data frame\n",
    "df_rank.reset_index(level = 0, inplace = True)\n",
    "df_rank.rename(columns = {'index':'rank'}, inplace = True)\n"
   ]
  },
  {
   "cell_type": "code",
   "execution_count": 93,
   "metadata": {
    "collapsed": false
   },
   "outputs": [],
   "source": [
    "#so that we can order rank, now not strings so easyer\n",
    "df_rank['rank']=df_rank['rank'].apply(int)"
   ]
  },
  {
   "cell_type": "code",
   "execution_count": 94,
   "metadata": {
    "collapsed": false
   },
   "outputs": [],
   "source": [
    "df_rank = df_rank.sort_values('rank', ascending=False)"
   ]
  },
  {
   "cell_type": "code",
   "execution_count": 95,
   "metadata": {
    "collapsed": false
   },
   "outputs": [
    {
     "data": {
      "text/html": [
       "<div>\n",
       "<table border=\"1\" class=\"dataframe\">\n",
       "  <thead>\n",
       "    <tr style=\"text-align: right;\">\n",
       "      <th></th>\n",
       "      <th>rank</th>\n",
       "      <th>nan</th>\n",
       "      <th>baltic</th>\n",
       "      <th>visibility</th>\n",
       "      <th>hail</th>\n",
       "      <th>frosty</th>\n",
       "      <th>icy</th>\n",
       "      <th>snowing</th>\n",
       "      <th>frost</th>\n",
       "      <th>mist</th>\n",
       "      <th>...</th>\n",
       "      <th>storm</th>\n",
       "      <th>ice</th>\n",
       "      <th>temperature</th>\n",
       "      <th>wind</th>\n",
       "      <th>rain</th>\n",
       "      <th>lightning</th>\n",
       "      <th>mild</th>\n",
       "      <th>burn</th>\n",
       "      <th>cloudy</th>\n",
       "      <th>shower</th>\n",
       "    </tr>\n",
       "  </thead>\n",
       "  <tbody>\n",
       "    <tr>\n",
       "      <th>23</th>\n",
       "      <td>30</td>\n",
       "      <td>22.0</td>\n",
       "      <td>3.0</td>\n",
       "      <td>NaN</td>\n",
       "      <td>NaN</td>\n",
       "      <td>NaN</td>\n",
       "      <td>NaN</td>\n",
       "      <td>NaN</td>\n",
       "      <td>NaN</td>\n",
       "      <td>NaN</td>\n",
       "      <td>...</td>\n",
       "      <td>NaN</td>\n",
       "      <td>NaN</td>\n",
       "      <td>NaN</td>\n",
       "      <td>NaN</td>\n",
       "      <td>NaN</td>\n",
       "      <td>NaN</td>\n",
       "      <td>NaN</td>\n",
       "      <td>NaN</td>\n",
       "      <td>NaN</td>\n",
       "      <td>NaN</td>\n",
       "    </tr>\n",
       "    <tr>\n",
       "      <th>21</th>\n",
       "      <td>29</td>\n",
       "      <td>22.0</td>\n",
       "      <td>NaN</td>\n",
       "      <td>NaN</td>\n",
       "      <td>NaN</td>\n",
       "      <td>NaN</td>\n",
       "      <td>NaN</td>\n",
       "      <td>NaN</td>\n",
       "      <td>NaN</td>\n",
       "      <td>NaN</td>\n",
       "      <td>...</td>\n",
       "      <td>NaN</td>\n",
       "      <td>NaN</td>\n",
       "      <td>NaN</td>\n",
       "      <td>NaN</td>\n",
       "      <td>NaN</td>\n",
       "      <td>NaN</td>\n",
       "      <td>NaN</td>\n",
       "      <td>NaN</td>\n",
       "      <td>NaN</td>\n",
       "      <td>NaN</td>\n",
       "    </tr>\n",
       "    <tr>\n",
       "      <th>20</th>\n",
       "      <td>28</td>\n",
       "      <td>22.0</td>\n",
       "      <td>NaN</td>\n",
       "      <td>NaN</td>\n",
       "      <td>NaN</td>\n",
       "      <td>NaN</td>\n",
       "      <td>NaN</td>\n",
       "      <td>NaN</td>\n",
       "      <td>NaN</td>\n",
       "      <td>NaN</td>\n",
       "      <td>...</td>\n",
       "      <td>NaN</td>\n",
       "      <td>NaN</td>\n",
       "      <td>NaN</td>\n",
       "      <td>NaN</td>\n",
       "      <td>NaN</td>\n",
       "      <td>NaN</td>\n",
       "      <td>NaN</td>\n",
       "      <td>NaN</td>\n",
       "      <td>NaN</td>\n",
       "      <td>NaN</td>\n",
       "    </tr>\n",
       "    <tr>\n",
       "      <th>19</th>\n",
       "      <td>27</td>\n",
       "      <td>22.0</td>\n",
       "      <td>NaN</td>\n",
       "      <td>NaN</td>\n",
       "      <td>NaN</td>\n",
       "      <td>NaN</td>\n",
       "      <td>NaN</td>\n",
       "      <td>3.0</td>\n",
       "      <td>NaN</td>\n",
       "      <td>NaN</td>\n",
       "      <td>...</td>\n",
       "      <td>NaN</td>\n",
       "      <td>NaN</td>\n",
       "      <td>NaN</td>\n",
       "      <td>NaN</td>\n",
       "      <td>NaN</td>\n",
       "      <td>NaN</td>\n",
       "      <td>NaN</td>\n",
       "      <td>NaN</td>\n",
       "      <td>NaN</td>\n",
       "      <td>NaN</td>\n",
       "    </tr>\n",
       "    <tr>\n",
       "      <th>18</th>\n",
       "      <td>26</td>\n",
       "      <td>22.0</td>\n",
       "      <td>NaN</td>\n",
       "      <td>NaN</td>\n",
       "      <td>NaN</td>\n",
       "      <td>NaN</td>\n",
       "      <td>3.0</td>\n",
       "      <td>NaN</td>\n",
       "      <td>NaN</td>\n",
       "      <td>NaN</td>\n",
       "      <td>...</td>\n",
       "      <td>NaN</td>\n",
       "      <td>NaN</td>\n",
       "      <td>NaN</td>\n",
       "      <td>NaN</td>\n",
       "      <td>NaN</td>\n",
       "      <td>NaN</td>\n",
       "      <td>NaN</td>\n",
       "      <td>NaN</td>\n",
       "      <td>NaN</td>\n",
       "      <td>NaN</td>\n",
       "    </tr>\n",
       "  </tbody>\n",
       "</table>\n",
       "<p>5 rows × 32 columns</p>\n",
       "</div>"
      ],
      "text/plain": [
       "    rank   NaN  baltic  visibility  hail  frosty  icy  snowing  frost  mist  \\\n",
       "23    30  22.0     3.0         NaN   NaN     NaN  NaN      NaN    NaN   NaN   \n",
       "21    29  22.0     NaN         NaN   NaN     NaN  NaN      NaN    NaN   NaN   \n",
       "20    28  22.0     NaN         NaN   NaN     NaN  NaN      NaN    NaN   NaN   \n",
       "19    27  22.0     NaN         NaN   NaN     NaN  NaN      3.0    NaN   NaN   \n",
       "18    26  22.0     NaN         NaN   NaN     NaN  3.0      NaN    NaN   NaN   \n",
       "\n",
       "     ...    storm  ice  temperature  wind  rain  lightning  mild  burn  \\\n",
       "23   ...      NaN  NaN          NaN   NaN   NaN        NaN   NaN   NaN   \n",
       "21   ...      NaN  NaN          NaN   NaN   NaN        NaN   NaN   NaN   \n",
       "20   ...      NaN  NaN          NaN   NaN   NaN        NaN   NaN   NaN   \n",
       "19   ...      NaN  NaN          NaN   NaN   NaN        NaN   NaN   NaN   \n",
       "18   ...      NaN  NaN          NaN   NaN   NaN        NaN   NaN   NaN   \n",
       "\n",
       "    cloudy  shower  \n",
       "23     NaN     NaN  \n",
       "21     NaN     NaN  \n",
       "20     NaN     NaN  \n",
       "19     NaN     NaN  \n",
       "18     NaN     NaN  \n",
       "\n",
       "[5 rows x 32 columns]"
      ]
     },
     "execution_count": 95,
     "metadata": {},
     "output_type": "execute_result"
    }
   ],
   "source": [
    "df_rank.head()"
   ]
  },
  {
   "cell_type": "code",
   "execution_count": 96,
   "metadata": {
    "collapsed": false
   },
   "outputs": [
    {
     "name": "stdout",
     "output_type": "stream",
     "text": [
      "(30L, 32L)\n"
     ]
    }
   ],
   "source": [
    "np_rank = np.array(df_rank)\n",
    "print np_rank.shape"
   ]
  },
  {
   "cell_type": "code",
   "execution_count": 97,
   "metadata": {
    "collapsed": false
   },
   "outputs": [],
   "source": [
    "import colorlover as cl\n",
    "from IPython.display import HTML"
   ]
  },
  {
   "cell_type": "code",
   "execution_count": 98,
   "metadata": {
    "collapsed": false
   },
   "outputs": [
    {
     "data": {
      "text/plain": [
       "u'https://plot.ly/~ra123/22'"
      ]
     },
     "execution_count": 98,
     "metadata": {},
     "output_type": "execute_result"
    }
   ],
   "source": [
    "trace_rank=[]\n",
    "col_num_rank = len(df_rank.columns) #Number of columns in dataframe to use in for loop\n",
    "#N=3\n",
    "for i in range(col_num_rank):\n",
    "    if i==0:\n",
    "        x_date_rank=np_rank[:,i] # Sets the x-axis as Rank\n",
    "    elif i>1:\n",
    "        y_count_rank=np_rank[:,i].astype(float) #Sets y-axis as count\n",
    "        trace_rank.append(Bar( x=x_date_rank, y=y_count_rank, name=df_rank.dtypes.index[i])) #appends list 'trace' with counts for each keyword\n",
    "        \n",
    "        \n",
    "        \n",
    "data_rank = Data(trace_rank) #list trace is not data for plotly plot\n",
    "layout_rank = go.Layout( #layout of plotly plot\n",
    "    barmode='stack',\n",
    "    title='The Occurrence of keywords in each rank. 1 being the highest',\n",
    "    xaxis=dict(\n",
    "        title='Rank',\n",
    "        titlefont=dict(\n",
    "            family='Courier New, monospace',\n",
    "            size=18,\n",
    "            color='#7f7f7f'\n",
    "            #showticklabels=True\n",
    "        )\n",
    "    ),\n",
    "    yaxis=dict(\n",
    "        title='Occurrence of keywords',\n",
    "        titlefont=dict(\n",
    "            family='Courier New, monospace',\n",
    "            size=18,\n",
    "            color='#7f7f7f'\n",
    "        )\n",
    "    )\n",
    ")\n",
    "fig_rank = go.Figure(data=data_rank, layout=layout_rank)\n",
    "py.plot(fig_rank, filename = 'rank_of_keywords') #plotly plot"
   ]
  },
  {
   "cell_type": "markdown",
   "metadata": {},
   "source": [
    "# Table for top 5key words"
   ]
  },
  {
   "cell_type": "code",
   "execution_count": 99,
   "metadata": {
    "collapsed": false
   },
   "outputs": [
    {
     "data": {
      "text/html": [
       "<div>\n",
       "<table border=\"1\" class=\"dataframe\">\n",
       "  <thead>\n",
       "    <tr style=\"text-align: right;\">\n",
       "      <th></th>\n",
       "      <th>date</th>\n",
       "      <th>rank</th>\n",
       "      <th>key_word</th>\n",
       "      <th>count</th>\n",
       "    </tr>\n",
       "  </thead>\n",
       "  <tbody>\n",
       "    <tr>\n",
       "      <th>0</th>\n",
       "      <td>2016-12-14</td>\n",
       "      <td>Keyword_1</td>\n",
       "      <td>fog</td>\n",
       "      <td>35.0</td>\n",
       "    </tr>\n",
       "    <tr>\n",
       "      <th>1</th>\n",
       "      <td>2016-12-14</td>\n",
       "      <td>Keyword_2</td>\n",
       "      <td>hot</td>\n",
       "      <td>33.0</td>\n",
       "    </tr>\n",
       "    <tr>\n",
       "      <th>2</th>\n",
       "      <td>2016-12-14</td>\n",
       "      <td>Keyword_3</td>\n",
       "      <td>cold</td>\n",
       "      <td>33.0</td>\n",
       "    </tr>\n",
       "    <tr>\n",
       "      <th>3</th>\n",
       "      <td>2016-12-14</td>\n",
       "      <td>Keyword_4</td>\n",
       "      <td>sun</td>\n",
       "      <td>32.0</td>\n",
       "    </tr>\n",
       "    <tr>\n",
       "      <th>4</th>\n",
       "      <td>2016-12-14</td>\n",
       "      <td>Keyword_5</td>\n",
       "      <td>warm</td>\n",
       "      <td>17.0</td>\n",
       "    </tr>\n",
       "    <tr>\n",
       "      <th>5</th>\n",
       "      <td>2016-12-14</td>\n",
       "      <td>Keyword_6</td>\n",
       "      <td>ice</td>\n",
       "      <td>12.0</td>\n",
       "    </tr>\n",
       "    <tr>\n",
       "      <th>6</th>\n",
       "      <td>2016-12-14</td>\n",
       "      <td>Keyword_7</td>\n",
       "      <td>sunny</td>\n",
       "      <td>9.0</td>\n",
       "    </tr>\n",
       "    <tr>\n",
       "      <th>7</th>\n",
       "      <td>2016-12-14</td>\n",
       "      <td>Keyword_8</td>\n",
       "      <td>snow</td>\n",
       "      <td>8.0</td>\n",
       "    </tr>\n",
       "    <tr>\n",
       "      <th>8</th>\n",
       "      <td>2016-12-14</td>\n",
       "      <td>Keyword_9</td>\n",
       "      <td>wind</td>\n",
       "      <td>8.0</td>\n",
       "    </tr>\n",
       "    <tr>\n",
       "      <th>9</th>\n",
       "      <td>2016-12-14</td>\n",
       "      <td>Keyword_10</td>\n",
       "      <td>temperature</td>\n",
       "      <td>7.0</td>\n",
       "    </tr>\n",
       "  </tbody>\n",
       "</table>\n",
       "</div>"
      ],
      "text/plain": [
       "         date        rank     key_word  count\n",
       "0  2016-12-14   Keyword_1          fog   35.0\n",
       "1  2016-12-14   Keyword_2          hot   33.0\n",
       "2  2016-12-14   Keyword_3         cold   33.0\n",
       "3  2016-12-14   Keyword_4          sun   32.0\n",
       "4  2016-12-14   Keyword_5         warm   17.0\n",
       "5  2016-12-14   Keyword_6          ice   12.0\n",
       "6  2016-12-14   Keyword_7        sunny    9.0\n",
       "7  2016-12-14   Keyword_8         snow    8.0\n",
       "8  2016-12-14   Keyword_9         wind    8.0\n",
       "9  2016-12-14  Keyword_10  temperature    7.0"
      ]
     },
     "execution_count": 99,
     "metadata": {},
     "output_type": "execute_result"
    }
   ],
   "source": [
    " tw_final2_all.head(10)"
   ]
  },
  {
   "cell_type": "code",
   "execution_count": 100,
   "metadata": {
    "collapsed": false
   },
   "outputs": [],
   "source": [
    "#merged_top_five=merged_all[tw_final2_all['rank'].isin(['Keyword_1', 'Keyword_2', 'Keyword_3', 'Keyword_4', 'Keyword_5'])]\n",
    "#to get top 5 keywords\n",
    "merged_top_five=tw_final2_all[tw_final2_all['rank'].isin(['Keyword_1', 'Keyword_2', 'Keyword_3', 'Keyword_4', 'Keyword_5'])]\n",
    " "
   ]
  },
  {
   "cell_type": "code",
   "execution_count": 101,
   "metadata": {
    "collapsed": false
   },
   "outputs": [],
   "source": [
    "merged_top_five=merged_top_five[['date','rank','key_word','count']]"
   ]
  },
  {
   "cell_type": "code",
   "execution_count": 102,
   "metadata": {
    "collapsed": false
   },
   "outputs": [],
   "source": [
    "# Joins dataframes tw_final and df_count on date\n",
    "merged_top_five = pd.merge(merged_top_five, df_count_totals, how='inner', on='date')"
   ]
  },
  {
   "cell_type": "code",
   "execution_count": 103,
   "metadata": {
    "collapsed": false
   },
   "outputs": [],
   "source": [
    "merged_top_five['%daily word occurrence'] = (merged_top_five['count'] / merged_top_five['total_count']) * 100"
   ]
  },
  {
   "cell_type": "code",
   "execution_count": 104,
   "metadata": {
    "collapsed": false
   },
   "outputs": [
    {
     "data": {
      "text/html": [
       "<div>\n",
       "<table border=\"1\" class=\"dataframe\">\n",
       "  <thead>\n",
       "    <tr style=\"text-align: right;\">\n",
       "      <th></th>\n",
       "      <th>date</th>\n",
       "      <th>rank</th>\n",
       "      <th>key_word</th>\n",
       "      <th>count</th>\n",
       "      <th>total_count</th>\n",
       "      <th>%daily word occurrence</th>\n",
       "    </tr>\n",
       "  </thead>\n",
       "  <tbody>\n",
       "    <tr>\n",
       "      <th>0</th>\n",
       "      <td>2016-12-14</td>\n",
       "      <td>Keyword_1</td>\n",
       "      <td>fog</td>\n",
       "      <td>35.0</td>\n",
       "      <td>223.0</td>\n",
       "      <td>15.695067</td>\n",
       "    </tr>\n",
       "    <tr>\n",
       "      <th>1</th>\n",
       "      <td>2016-12-14</td>\n",
       "      <td>Keyword_2</td>\n",
       "      <td>hot</td>\n",
       "      <td>33.0</td>\n",
       "      <td>223.0</td>\n",
       "      <td>14.798206</td>\n",
       "    </tr>\n",
       "    <tr>\n",
       "      <th>2</th>\n",
       "      <td>2016-12-14</td>\n",
       "      <td>Keyword_3</td>\n",
       "      <td>cold</td>\n",
       "      <td>33.0</td>\n",
       "      <td>223.0</td>\n",
       "      <td>14.798206</td>\n",
       "    </tr>\n",
       "    <tr>\n",
       "      <th>3</th>\n",
       "      <td>2016-12-14</td>\n",
       "      <td>Keyword_4</td>\n",
       "      <td>sun</td>\n",
       "      <td>32.0</td>\n",
       "      <td>223.0</td>\n",
       "      <td>14.349776</td>\n",
       "    </tr>\n",
       "    <tr>\n",
       "      <th>4</th>\n",
       "      <td>2016-12-14</td>\n",
       "      <td>Keyword_5</td>\n",
       "      <td>warm</td>\n",
       "      <td>17.0</td>\n",
       "      <td>223.0</td>\n",
       "      <td>7.623318</td>\n",
       "    </tr>\n",
       "  </tbody>\n",
       "</table>\n",
       "</div>"
      ],
      "text/plain": [
       "         date       rank key_word  count  total_count  %daily word occurrence\n",
       "0  2016-12-14  Keyword_1      fog   35.0        223.0               15.695067\n",
       "1  2016-12-14  Keyword_2      hot   33.0        223.0               14.798206\n",
       "2  2016-12-14  Keyword_3     cold   33.0        223.0               14.798206\n",
       "3  2016-12-14  Keyword_4      sun   32.0        223.0               14.349776\n",
       "4  2016-12-14  Keyword_5     warm   17.0        223.0                7.623318"
      ]
     },
     "execution_count": 104,
     "metadata": {},
     "output_type": "execute_result"
    }
   ],
   "source": [
    "merged_top_five.head()"
   ]
  },
  {
   "cell_type": "code",
   "execution_count": 105,
   "metadata": {
    "collapsed": true
   },
   "outputs": [],
   "source": [
    "merged_top_five.to_csv(path_or_buf=\"C:\\\\Users\\\\Student24\\\\Documents\\\\twitter\\\\useing\\\\Daily_Word_Occurrence_top5.csv\", sep=',', na_rep='', \\\n",
    "               float_format=None, columns=['date', 'rank', 'key_word', 'count', 'total_count', '%daily word occurrence'], header=True, index=False, index_label=None, mode='w', encoding=None, \\\n",
    "               compression=None, quoting=None, quotechar='\"', line_terminator='\\n', chunksize=None, tupleize_cols=False, \\\n",
    "               date_format=None, doublequote=True, escapechar=None, decimal='.')\n",
    "# Change header = false and mode = a from header = true and mode = w"
   ]
  },
  {
   "cell_type": "markdown",
   "metadata": {},
   "source": [
    "# count vs date plot for top 5 keywords"
   ]
  },
  {
   "cell_type": "code",
   "execution_count": 106,
   "metadata": {
    "collapsed": false
   },
   "outputs": [
    {
     "data": {
      "text/html": [
       "<div>\n",
       "<table border=\"1\" class=\"dataframe\">\n",
       "  <thead>\n",
       "    <tr style=\"text-align: right;\">\n",
       "      <th>key_word</th>\n",
       "      <th>date</th>\n",
       "      <th>cold</th>\n",
       "      <th>fog</th>\n",
       "      <th>hot</th>\n",
       "      <th>snow</th>\n",
       "      <th>sun</th>\n",
       "      <th>warm</th>\n",
       "    </tr>\n",
       "  </thead>\n",
       "  <tbody>\n",
       "    <tr>\n",
       "      <th>0</th>\n",
       "      <td>2016-12-14</td>\n",
       "      <td>33.0</td>\n",
       "      <td>35.0</td>\n",
       "      <td>33.0</td>\n",
       "      <td>NaN</td>\n",
       "      <td>32.0</td>\n",
       "      <td>17.0</td>\n",
       "    </tr>\n",
       "    <tr>\n",
       "      <th>1</th>\n",
       "      <td>2016-12-15</td>\n",
       "      <td>28.0</td>\n",
       "      <td>31.0</td>\n",
       "      <td>29.0</td>\n",
       "      <td>NaN</td>\n",
       "      <td>28.0</td>\n",
       "      <td>16.0</td>\n",
       "    </tr>\n",
       "    <tr>\n",
       "      <th>2</th>\n",
       "      <td>2016-12-16</td>\n",
       "      <td>60.0</td>\n",
       "      <td>61.0</td>\n",
       "      <td>74.0</td>\n",
       "      <td>66.0</td>\n",
       "      <td>60.0</td>\n",
       "      <td>NaN</td>\n",
       "    </tr>\n",
       "    <tr>\n",
       "      <th>3</th>\n",
       "      <td>2016-12-19</td>\n",
       "      <td>60.0</td>\n",
       "      <td>61.0</td>\n",
       "      <td>74.0</td>\n",
       "      <td>66.0</td>\n",
       "      <td>60.0</td>\n",
       "      <td>NaN</td>\n",
       "    </tr>\n",
       "    <tr>\n",
       "      <th>4</th>\n",
       "      <td>2016-12-20</td>\n",
       "      <td>63.0</td>\n",
       "      <td>61.0</td>\n",
       "      <td>76.0</td>\n",
       "      <td>66.0</td>\n",
       "      <td>60.0</td>\n",
       "      <td>NaN</td>\n",
       "    </tr>\n",
       "    <tr>\n",
       "      <th>5</th>\n",
       "      <td>2016-12-21</td>\n",
       "      <td>41.0</td>\n",
       "      <td>42.0</td>\n",
       "      <td>47.0</td>\n",
       "      <td>NaN</td>\n",
       "      <td>42.0</td>\n",
       "      <td>28.0</td>\n",
       "    </tr>\n",
       "    <tr>\n",
       "      <th>6</th>\n",
       "      <td>2016-12-22</td>\n",
       "      <td>43.0</td>\n",
       "      <td>49.0</td>\n",
       "      <td>55.0</td>\n",
       "      <td>NaN</td>\n",
       "      <td>45.0</td>\n",
       "      <td>32.0</td>\n",
       "    </tr>\n",
       "    <tr>\n",
       "      <th>7</th>\n",
       "      <td>2016-12-23</td>\n",
       "      <td>41.0</td>\n",
       "      <td>45.0</td>\n",
       "      <td>50.0</td>\n",
       "      <td>NaN</td>\n",
       "      <td>44.0</td>\n",
       "      <td>29.0</td>\n",
       "    </tr>\n",
       "    <tr>\n",
       "      <th>8</th>\n",
       "      <td>2016-12-24</td>\n",
       "      <td>42.0</td>\n",
       "      <td>46.0</td>\n",
       "      <td>53.0</td>\n",
       "      <td>NaN</td>\n",
       "      <td>44.0</td>\n",
       "      <td>30.0</td>\n",
       "    </tr>\n",
       "    <tr>\n",
       "      <th>9</th>\n",
       "      <td>2016-12-25</td>\n",
       "      <td>43.0</td>\n",
       "      <td>48.0</td>\n",
       "      <td>55.0</td>\n",
       "      <td>NaN</td>\n",
       "      <td>45.0</td>\n",
       "      <td>31.0</td>\n",
       "    </tr>\n",
       "    <tr>\n",
       "      <th>10</th>\n",
       "      <td>2016-12-26</td>\n",
       "      <td>39.0</td>\n",
       "      <td>41.0</td>\n",
       "      <td>45.0</td>\n",
       "      <td>NaN</td>\n",
       "      <td>40.0</td>\n",
       "      <td>25.0</td>\n",
       "    </tr>\n",
       "    <tr>\n",
       "      <th>11</th>\n",
       "      <td>2016-12-27</td>\n",
       "      <td>39.0</td>\n",
       "      <td>41.0</td>\n",
       "      <td>45.0</td>\n",
       "      <td>NaN</td>\n",
       "      <td>41.0</td>\n",
       "      <td>25.0</td>\n",
       "    </tr>\n",
       "    <tr>\n",
       "      <th>12</th>\n",
       "      <td>2016-12-28</td>\n",
       "      <td>43.0</td>\n",
       "      <td>49.0</td>\n",
       "      <td>55.0</td>\n",
       "      <td>NaN</td>\n",
       "      <td>46.0</td>\n",
       "      <td>32.0</td>\n",
       "    </tr>\n",
       "    <tr>\n",
       "      <th>13</th>\n",
       "      <td>2016-12-30</td>\n",
       "      <td>42.0</td>\n",
       "      <td>48.0</td>\n",
       "      <td>55.0</td>\n",
       "      <td>NaN</td>\n",
       "      <td>45.0</td>\n",
       "      <td>31.0</td>\n",
       "    </tr>\n",
       "    <tr>\n",
       "      <th>14</th>\n",
       "      <td>2016-12-31</td>\n",
       "      <td>44.0</td>\n",
       "      <td>50.0</td>\n",
       "      <td>55.0</td>\n",
       "      <td>NaN</td>\n",
       "      <td>47.0</td>\n",
       "      <td>35.0</td>\n",
       "    </tr>\n",
       "    <tr>\n",
       "      <th>15</th>\n",
       "      <td>2017-01-01</td>\n",
       "      <td>41.0</td>\n",
       "      <td>43.0</td>\n",
       "      <td>49.0</td>\n",
       "      <td>NaN</td>\n",
       "      <td>44.0</td>\n",
       "      <td>28.0</td>\n",
       "    </tr>\n",
       "    <tr>\n",
       "      <th>16</th>\n",
       "      <td>2017-01-02</td>\n",
       "      <td>29.0</td>\n",
       "      <td>34.0</td>\n",
       "      <td>29.0</td>\n",
       "      <td>NaN</td>\n",
       "      <td>31.0</td>\n",
       "      <td>16.0</td>\n",
       "    </tr>\n",
       "    <tr>\n",
       "      <th>17</th>\n",
       "      <td>2017-01-03</td>\n",
       "      <td>41.0</td>\n",
       "      <td>45.0</td>\n",
       "      <td>49.0</td>\n",
       "      <td>NaN</td>\n",
       "      <td>44.0</td>\n",
       "      <td>29.0</td>\n",
       "    </tr>\n",
       "    <tr>\n",
       "      <th>18</th>\n",
       "      <td>2017-01-04</td>\n",
       "      <td>42.0</td>\n",
       "      <td>45.0</td>\n",
       "      <td>53.0</td>\n",
       "      <td>NaN</td>\n",
       "      <td>44.0</td>\n",
       "      <td>29.0</td>\n",
       "    </tr>\n",
       "    <tr>\n",
       "      <th>19</th>\n",
       "      <td>2017-01-05</td>\n",
       "      <td>43.0</td>\n",
       "      <td>48.0</td>\n",
       "      <td>55.0</td>\n",
       "      <td>NaN</td>\n",
       "      <td>45.0</td>\n",
       "      <td>31.0</td>\n",
       "    </tr>\n",
       "    <tr>\n",
       "      <th>20</th>\n",
       "      <td>2017-01-06</td>\n",
       "      <td>43.0</td>\n",
       "      <td>49.0</td>\n",
       "      <td>55.0</td>\n",
       "      <td>NaN</td>\n",
       "      <td>46.0</td>\n",
       "      <td>33.0</td>\n",
       "    </tr>\n",
       "    <tr>\n",
       "      <th>21</th>\n",
       "      <td>2017-01-08</td>\n",
       "      <td>41.0</td>\n",
       "      <td>45.0</td>\n",
       "      <td>49.0</td>\n",
       "      <td>NaN</td>\n",
       "      <td>44.0</td>\n",
       "      <td>28.0</td>\n",
       "    </tr>\n",
       "    <tr>\n",
       "      <th>22</th>\n",
       "      <td>2017-01-09</td>\n",
       "      <td>41.0</td>\n",
       "      <td>45.0</td>\n",
       "      <td>50.0</td>\n",
       "      <td>NaN</td>\n",
       "      <td>44.0</td>\n",
       "      <td>29.0</td>\n",
       "    </tr>\n",
       "    <tr>\n",
       "      <th>23</th>\n",
       "      <td>2017-01-10</td>\n",
       "      <td>39.0</td>\n",
       "      <td>41.0</td>\n",
       "      <td>43.0</td>\n",
       "      <td>NaN</td>\n",
       "      <td>40.0</td>\n",
       "      <td>24.0</td>\n",
       "    </tr>\n",
       "    <tr>\n",
       "      <th>24</th>\n",
       "      <td>2017-01-11</td>\n",
       "      <td>41.0</td>\n",
       "      <td>44.0</td>\n",
       "      <td>49.0</td>\n",
       "      <td>NaN</td>\n",
       "      <td>44.0</td>\n",
       "      <td>28.0</td>\n",
       "    </tr>\n",
       "  </tbody>\n",
       "</table>\n",
       "</div>"
      ],
      "text/plain": [
       "key_word        date  cold   fog   hot  snow   sun  warm\n",
       "0         2016-12-14  33.0  35.0  33.0   NaN  32.0  17.0\n",
       "1         2016-12-15  28.0  31.0  29.0   NaN  28.0  16.0\n",
       "2         2016-12-16  60.0  61.0  74.0  66.0  60.0   NaN\n",
       "3         2016-12-19  60.0  61.0  74.0  66.0  60.0   NaN\n",
       "4         2016-12-20  63.0  61.0  76.0  66.0  60.0   NaN\n",
       "5         2016-12-21  41.0  42.0  47.0   NaN  42.0  28.0\n",
       "6         2016-12-22  43.0  49.0  55.0   NaN  45.0  32.0\n",
       "7         2016-12-23  41.0  45.0  50.0   NaN  44.0  29.0\n",
       "8         2016-12-24  42.0  46.0  53.0   NaN  44.0  30.0\n",
       "9         2016-12-25  43.0  48.0  55.0   NaN  45.0  31.0\n",
       "10        2016-12-26  39.0  41.0  45.0   NaN  40.0  25.0\n",
       "11        2016-12-27  39.0  41.0  45.0   NaN  41.0  25.0\n",
       "12        2016-12-28  43.0  49.0  55.0   NaN  46.0  32.0\n",
       "13        2016-12-30  42.0  48.0  55.0   NaN  45.0  31.0\n",
       "14        2016-12-31  44.0  50.0  55.0   NaN  47.0  35.0\n",
       "15        2017-01-01  41.0  43.0  49.0   NaN  44.0  28.0\n",
       "16        2017-01-02  29.0  34.0  29.0   NaN  31.0  16.0\n",
       "17        2017-01-03  41.0  45.0  49.0   NaN  44.0  29.0\n",
       "18        2017-01-04  42.0  45.0  53.0   NaN  44.0  29.0\n",
       "19        2017-01-05  43.0  48.0  55.0   NaN  45.0  31.0\n",
       "20        2017-01-06  43.0  49.0  55.0   NaN  46.0  33.0\n",
       "21        2017-01-08  41.0  45.0  49.0   NaN  44.0  28.0\n",
       "22        2017-01-09  41.0  45.0  50.0   NaN  44.0  29.0\n",
       "23        2017-01-10  39.0  41.0  43.0   NaN  40.0  24.0\n",
       "24        2017-01-11  41.0  44.0  49.0   NaN  44.0  28.0"
      ]
     },
     "execution_count": 106,
     "metadata": {},
     "output_type": "execute_result"
    }
   ],
   "source": [
    "merged_piv=merged_top_five.pivot(index='date',columns='key_word', values='count') #piovts data based on date\n",
    "merged_piv.reset_index(level = 0, inplace = True)\n",
    "merged_piv\n"
   ]
  },
  {
   "cell_type": "code",
   "execution_count": 107,
   "metadata": {
    "collapsed": false
   },
   "outputs": [
    {
     "name": "stdout",
     "output_type": "stream",
     "text": [
      "(25L, 7L)\n"
     ]
    }
   ],
   "source": [
    "# convert the df to a numpy array\n",
    "np_counts = np.array(merged_piv)\n",
    "print np_counts.shape"
   ]
  },
  {
   "cell_type": "code",
   "execution_count": 108,
   "metadata": {
    "collapsed": false
   },
   "outputs": [
    {
     "data": {
      "text/plain": [
       "u'https://plot.ly/~ra123/8'"
      ]
     },
     "execution_count": 108,
     "metadata": {},
     "output_type": "execute_result"
    }
   ],
   "source": [
    "#code to plot count for keywords for each date. Code will update if any new keywords are added to table.\n",
    "trace=[]\n",
    "col_num = len(merged_piv.columns) #Number of columns in dataframe to use in for loop\n",
    "for i in range(col_num):\n",
    "    if i==0:\n",
    "        x_date=np_counts[:,i] # Sets the x-axis as the date\n",
    "    else:\n",
    "        y_count=np_counts[:,i].astype(float) #Sets y-axis as count\n",
    "        trace.append(Scatter( x=x_date, y=y_count, name=merged_piv.dtypes.index[i] )) #appends list 'trace' with counts for each keyword\n",
    "        \n",
    "        \n",
    "        \n",
    "data = Data(trace) #list trace is not data for plotly plot\n",
    "layout = go.Layout( #layout of plotly plot\n",
    "    title='Occurrence of keywords for top 5 keywords per day',\n",
    "    xaxis=dict(\n",
    "        title='Date',\n",
    "        titlefont=dict(\n",
    "            family='Courier New, monospace',\n",
    "            size=18,\n",
    "            color='#7f7f7f'\n",
    "        )\n",
    "    ),\n",
    "    yaxis=dict(\n",
    "        title='Count',\n",
    "        titlefont=dict(\n",
    "            family='Courier New, monospace',\n",
    "            size=18,\n",
    "            color='#7f7f7f'\n",
    "        )\n",
    "    )\n",
    ")\n",
    "fig = go.Figure(data=data, layout=layout)\n",
    "py.plot(fig, filename = 'Occurrence_of_all_keywords') #plotly plot"
   ]
  },
  {
   "cell_type": "markdown",
   "metadata": {},
   "source": [
    "# % vs date plot for Top 5 keywords"
   ]
  },
  {
   "cell_type": "code",
   "execution_count": 109,
   "metadata": {
    "collapsed": false
   },
   "outputs": [
    {
     "data": {
      "text/html": [
       "<div>\n",
       "<table border=\"1\" class=\"dataframe\">\n",
       "  <thead>\n",
       "    <tr style=\"text-align: right;\">\n",
       "      <th>key_word</th>\n",
       "      <th>date</th>\n",
       "      <th>cold</th>\n",
       "      <th>fog</th>\n",
       "      <th>hot</th>\n",
       "      <th>snow</th>\n",
       "      <th>sun</th>\n",
       "      <th>warm</th>\n",
       "    </tr>\n",
       "  </thead>\n",
       "  <tbody>\n",
       "    <tr>\n",
       "      <th>0</th>\n",
       "      <td>2016-12-14</td>\n",
       "      <td>14.798206</td>\n",
       "      <td>15.695067</td>\n",
       "      <td>14.798206</td>\n",
       "      <td>NaN</td>\n",
       "      <td>14.349776</td>\n",
       "      <td>7.623318</td>\n",
       "    </tr>\n",
       "    <tr>\n",
       "      <th>1</th>\n",
       "      <td>2016-12-15</td>\n",
       "      <td>14.736842</td>\n",
       "      <td>16.315789</td>\n",
       "      <td>15.263158</td>\n",
       "      <td>NaN</td>\n",
       "      <td>14.736842</td>\n",
       "      <td>8.421053</td>\n",
       "    </tr>\n",
       "    <tr>\n",
       "      <th>2</th>\n",
       "      <td>2016-12-16</td>\n",
       "      <td>10.471204</td>\n",
       "      <td>10.645724</td>\n",
       "      <td>12.914485</td>\n",
       "      <td>11.518325</td>\n",
       "      <td>10.471204</td>\n",
       "      <td>NaN</td>\n",
       "    </tr>\n",
       "    <tr>\n",
       "      <th>3</th>\n",
       "      <td>2016-12-19</td>\n",
       "      <td>10.507881</td>\n",
       "      <td>10.683012</td>\n",
       "      <td>12.959720</td>\n",
       "      <td>11.558669</td>\n",
       "      <td>10.507881</td>\n",
       "      <td>NaN</td>\n",
       "    </tr>\n",
       "    <tr>\n",
       "      <th>4</th>\n",
       "      <td>2016-12-20</td>\n",
       "      <td>10.843373</td>\n",
       "      <td>10.499139</td>\n",
       "      <td>13.080895</td>\n",
       "      <td>11.359725</td>\n",
       "      <td>10.327022</td>\n",
       "      <td>NaN</td>\n",
       "    </tr>\n",
       "    <tr>\n",
       "      <th>5</th>\n",
       "      <td>2016-12-21</td>\n",
       "      <td>13.099042</td>\n",
       "      <td>13.418530</td>\n",
       "      <td>15.015974</td>\n",
       "      <td>NaN</td>\n",
       "      <td>13.418530</td>\n",
       "      <td>8.945687</td>\n",
       "    </tr>\n",
       "    <tr>\n",
       "      <th>6</th>\n",
       "      <td>2016-12-22</td>\n",
       "      <td>12.463768</td>\n",
       "      <td>14.202899</td>\n",
       "      <td>15.942029</td>\n",
       "      <td>NaN</td>\n",
       "      <td>13.043478</td>\n",
       "      <td>9.275362</td>\n",
       "    </tr>\n",
       "    <tr>\n",
       "      <th>7</th>\n",
       "      <td>2016-12-23</td>\n",
       "      <td>12.732919</td>\n",
       "      <td>13.975155</td>\n",
       "      <td>15.527950</td>\n",
       "      <td>NaN</td>\n",
       "      <td>13.664596</td>\n",
       "      <td>9.006211</td>\n",
       "    </tr>\n",
       "    <tr>\n",
       "      <th>8</th>\n",
       "      <td>2016-12-24</td>\n",
       "      <td>12.727273</td>\n",
       "      <td>13.939394</td>\n",
       "      <td>16.060606</td>\n",
       "      <td>NaN</td>\n",
       "      <td>13.333333</td>\n",
       "      <td>9.090909</td>\n",
       "    </tr>\n",
       "    <tr>\n",
       "      <th>9</th>\n",
       "      <td>2016-12-25</td>\n",
       "      <td>12.536443</td>\n",
       "      <td>13.994169</td>\n",
       "      <td>16.034985</td>\n",
       "      <td>NaN</td>\n",
       "      <td>13.119534</td>\n",
       "      <td>9.037901</td>\n",
       "    </tr>\n",
       "    <tr>\n",
       "      <th>10</th>\n",
       "      <td>2016-12-26</td>\n",
       "      <td>13.087248</td>\n",
       "      <td>13.758389</td>\n",
       "      <td>15.100671</td>\n",
       "      <td>NaN</td>\n",
       "      <td>13.422819</td>\n",
       "      <td>8.389262</td>\n",
       "    </tr>\n",
       "    <tr>\n",
       "      <th>11</th>\n",
       "      <td>2016-12-27</td>\n",
       "      <td>13.043478</td>\n",
       "      <td>13.712375</td>\n",
       "      <td>15.050167</td>\n",
       "      <td>NaN</td>\n",
       "      <td>13.712375</td>\n",
       "      <td>8.361204</td>\n",
       "    </tr>\n",
       "    <tr>\n",
       "      <th>12</th>\n",
       "      <td>2016-12-28</td>\n",
       "      <td>12.356322</td>\n",
       "      <td>14.080460</td>\n",
       "      <td>15.804598</td>\n",
       "      <td>NaN</td>\n",
       "      <td>13.218391</td>\n",
       "      <td>9.195402</td>\n",
       "    </tr>\n",
       "    <tr>\n",
       "      <th>13</th>\n",
       "      <td>2016-12-30</td>\n",
       "      <td>12.389381</td>\n",
       "      <td>14.159292</td>\n",
       "      <td>16.224189</td>\n",
       "      <td>NaN</td>\n",
       "      <td>13.274336</td>\n",
       "      <td>9.144543</td>\n",
       "    </tr>\n",
       "    <tr>\n",
       "      <th>14</th>\n",
       "      <td>2016-12-31</td>\n",
       "      <td>12.324930</td>\n",
       "      <td>14.005602</td>\n",
       "      <td>15.406162</td>\n",
       "      <td>NaN</td>\n",
       "      <td>13.165266</td>\n",
       "      <td>9.803922</td>\n",
       "    </tr>\n",
       "    <tr>\n",
       "      <th>15</th>\n",
       "      <td>2017-01-01</td>\n",
       "      <td>12.893082</td>\n",
       "      <td>13.522013</td>\n",
       "      <td>15.408805</td>\n",
       "      <td>NaN</td>\n",
       "      <td>13.836478</td>\n",
       "      <td>8.805031</td>\n",
       "    </tr>\n",
       "    <tr>\n",
       "      <th>16</th>\n",
       "      <td>2017-01-02</td>\n",
       "      <td>14.427861</td>\n",
       "      <td>16.915423</td>\n",
       "      <td>14.427861</td>\n",
       "      <td>NaN</td>\n",
       "      <td>15.422886</td>\n",
       "      <td>7.960199</td>\n",
       "    </tr>\n",
       "    <tr>\n",
       "      <th>17</th>\n",
       "      <td>2017-01-03</td>\n",
       "      <td>12.772586</td>\n",
       "      <td>14.018692</td>\n",
       "      <td>15.264798</td>\n",
       "      <td>NaN</td>\n",
       "      <td>13.707165</td>\n",
       "      <td>9.034268</td>\n",
       "    </tr>\n",
       "    <tr>\n",
       "      <th>18</th>\n",
       "      <td>2017-01-04</td>\n",
       "      <td>12.804878</td>\n",
       "      <td>13.719512</td>\n",
       "      <td>16.158537</td>\n",
       "      <td>NaN</td>\n",
       "      <td>13.414634</td>\n",
       "      <td>8.841463</td>\n",
       "    </tr>\n",
       "    <tr>\n",
       "      <th>19</th>\n",
       "      <td>2017-01-05</td>\n",
       "      <td>12.536443</td>\n",
       "      <td>13.994169</td>\n",
       "      <td>16.034985</td>\n",
       "      <td>NaN</td>\n",
       "      <td>13.119534</td>\n",
       "      <td>9.037901</td>\n",
       "    </tr>\n",
       "    <tr>\n",
       "      <th>20</th>\n",
       "      <td>2017-01-06</td>\n",
       "      <td>12.320917</td>\n",
       "      <td>14.040115</td>\n",
       "      <td>15.759312</td>\n",
       "      <td>NaN</td>\n",
       "      <td>13.180516</td>\n",
       "      <td>9.455587</td>\n",
       "    </tr>\n",
       "    <tr>\n",
       "      <th>21</th>\n",
       "      <td>2017-01-08</td>\n",
       "      <td>12.812500</td>\n",
       "      <td>14.062500</td>\n",
       "      <td>15.312500</td>\n",
       "      <td>NaN</td>\n",
       "      <td>13.750000</td>\n",
       "      <td>8.750000</td>\n",
       "    </tr>\n",
       "    <tr>\n",
       "      <th>22</th>\n",
       "      <td>2017-01-09</td>\n",
       "      <td>12.732919</td>\n",
       "      <td>13.975155</td>\n",
       "      <td>15.527950</td>\n",
       "      <td>NaN</td>\n",
       "      <td>13.664596</td>\n",
       "      <td>9.006211</td>\n",
       "    </tr>\n",
       "    <tr>\n",
       "      <th>23</th>\n",
       "      <td>2017-01-10</td>\n",
       "      <td>13.310580</td>\n",
       "      <td>13.993174</td>\n",
       "      <td>14.675768</td>\n",
       "      <td>NaN</td>\n",
       "      <td>13.651877</td>\n",
       "      <td>8.191126</td>\n",
       "    </tr>\n",
       "    <tr>\n",
       "      <th>24</th>\n",
       "      <td>2017-01-11</td>\n",
       "      <td>12.852665</td>\n",
       "      <td>13.793103</td>\n",
       "      <td>15.360502</td>\n",
       "      <td>NaN</td>\n",
       "      <td>13.793103</td>\n",
       "      <td>8.777429</td>\n",
       "    </tr>\n",
       "  </tbody>\n",
       "</table>\n",
       "</div>"
      ],
      "text/plain": [
       "key_word        date       cold        fog        hot       snow        sun  \\\n",
       "0         2016-12-14  14.798206  15.695067  14.798206        NaN  14.349776   \n",
       "1         2016-12-15  14.736842  16.315789  15.263158        NaN  14.736842   \n",
       "2         2016-12-16  10.471204  10.645724  12.914485  11.518325  10.471204   \n",
       "3         2016-12-19  10.507881  10.683012  12.959720  11.558669  10.507881   \n",
       "4         2016-12-20  10.843373  10.499139  13.080895  11.359725  10.327022   \n",
       "5         2016-12-21  13.099042  13.418530  15.015974        NaN  13.418530   \n",
       "6         2016-12-22  12.463768  14.202899  15.942029        NaN  13.043478   \n",
       "7         2016-12-23  12.732919  13.975155  15.527950        NaN  13.664596   \n",
       "8         2016-12-24  12.727273  13.939394  16.060606        NaN  13.333333   \n",
       "9         2016-12-25  12.536443  13.994169  16.034985        NaN  13.119534   \n",
       "10        2016-12-26  13.087248  13.758389  15.100671        NaN  13.422819   \n",
       "11        2016-12-27  13.043478  13.712375  15.050167        NaN  13.712375   \n",
       "12        2016-12-28  12.356322  14.080460  15.804598        NaN  13.218391   \n",
       "13        2016-12-30  12.389381  14.159292  16.224189        NaN  13.274336   \n",
       "14        2016-12-31  12.324930  14.005602  15.406162        NaN  13.165266   \n",
       "15        2017-01-01  12.893082  13.522013  15.408805        NaN  13.836478   \n",
       "16        2017-01-02  14.427861  16.915423  14.427861        NaN  15.422886   \n",
       "17        2017-01-03  12.772586  14.018692  15.264798        NaN  13.707165   \n",
       "18        2017-01-04  12.804878  13.719512  16.158537        NaN  13.414634   \n",
       "19        2017-01-05  12.536443  13.994169  16.034985        NaN  13.119534   \n",
       "20        2017-01-06  12.320917  14.040115  15.759312        NaN  13.180516   \n",
       "21        2017-01-08  12.812500  14.062500  15.312500        NaN  13.750000   \n",
       "22        2017-01-09  12.732919  13.975155  15.527950        NaN  13.664596   \n",
       "23        2017-01-10  13.310580  13.993174  14.675768        NaN  13.651877   \n",
       "24        2017-01-11  12.852665  13.793103  15.360502        NaN  13.793103   \n",
       "\n",
       "key_word      warm  \n",
       "0         7.623318  \n",
       "1         8.421053  \n",
       "2              NaN  \n",
       "3              NaN  \n",
       "4              NaN  \n",
       "5         8.945687  \n",
       "6         9.275362  \n",
       "7         9.006211  \n",
       "8         9.090909  \n",
       "9         9.037901  \n",
       "10        8.389262  \n",
       "11        8.361204  \n",
       "12        9.195402  \n",
       "13        9.144543  \n",
       "14        9.803922  \n",
       "15        8.805031  \n",
       "16        7.960199  \n",
       "17        9.034268  \n",
       "18        8.841463  \n",
       "19        9.037901  \n",
       "20        9.455587  \n",
       "21        8.750000  \n",
       "22        9.006211  \n",
       "23        8.191126  \n",
       "24        8.777429  "
      ]
     },
     "execution_count": 109,
     "metadata": {},
     "output_type": "execute_result"
    }
   ],
   "source": [
    "merged_piv_2=merged_top_five.pivot(index='date',columns='key_word', values='%daily word occurrence')\n",
    "merged_piv_2.reset_index(level = 0, inplace = True)\n",
    "merged_piv_2"
   ]
  },
  {
   "cell_type": "code",
   "execution_count": 110,
   "metadata": {
    "collapsed": false
   },
   "outputs": [
    {
     "name": "stdout",
     "output_type": "stream",
     "text": [
      "(25L, 7L)\n"
     ]
    }
   ],
   "source": [
    "# convert the df to a numpy array\n",
    "np_counts_2 = np.array(merged_piv_2)\n",
    "print np_counts_2.shape"
   ]
  },
  {
   "cell_type": "code",
   "execution_count": 111,
   "metadata": {
    "collapsed": false
   },
   "outputs": [
    {
     "data": {
      "text/plain": [
       "u'https://plot.ly/~ra123/10'"
      ]
     },
     "execution_count": 111,
     "metadata": {},
     "output_type": "execute_result"
    }
   ],
   "source": [
    "#code to plot count for keywords for each date. Code will update if any new keywords are added to table.\n",
    "trace_2=[]\n",
    "col_num_2 = len(merged_piv_2.columns) #Number of columns in dataframe to use in for loop\n",
    "for i in range(col_num_2):\n",
    "    if i==0:\n",
    "        x_date_2=np_counts_2[:,i] # Sets the x-axis as the date\n",
    "    else:\n",
    "        y_count_2=np_counts_2[:,i].astype(float) #Sets y-axis as count\n",
    "        trace_2.append(Scatter( x=x_date_2, y=y_count_2, name=merged_piv_2.dtypes.index[i] )) #appends list 'trace' with counts for each keyword\n",
    "        \n",
    "        \n",
    "        \n",
    "data_2 = Data(trace_2) #list trace is not data for plotly plot\n",
    "layout_2 = go.Layout( #layout of plotly plot\n",
    "    title='% of keywords for top 5 keywords per day',\n",
    "    xaxis=dict(\n",
    "        title='Date',\n",
    "        titlefont=dict(\n",
    "            family='Courier New, monospace',\n",
    "            size=18,\n",
    "            color='#7f7f7f'\n",
    "        )\n",
    "    ),\n",
    "    yaxis=dict(\n",
    "        title='%',\n",
    "        titlefont=dict(\n",
    "            family='Courier New, monospace',\n",
    "            size=18,\n",
    "            color='#7f7f7f'\n",
    "        )\n",
    "    )\n",
    ")\n",
    "fig_2 = go.Figure(data=data_2, layout=layout_2)\n",
    "py.plot(fig_2, filename = '%_of_all_keywords') #plotly plot"
   ]
  },
  {
   "cell_type": "markdown",
   "metadata": {
    "collapsed": true
   },
   "source": [
    "# Weather plots from metoffice predictions"
   ]
  },
  {
   "cell_type": "code",
   "execution_count": 221,
   "metadata": {
    "collapsed": true
   },
   "outputs": [],
   "source": [
    "forecast = pd.read_csv(\"C:\\\\Users\\\\Student24\\\\Documents\\\\twitter\\\\plotly\\\\Weather-forecast.csv\", sep=',', delimiter=None)"
   ]
  },
  {
   "cell_type": "code",
   "execution_count": 222,
   "metadata": {
    "collapsed": false
   },
   "outputs": [
    {
     "data": {
      "text/html": [
       "<div>\n",
       "<table border=\"1\" class=\"dataframe\">\n",
       "  <thead>\n",
       "    <tr style=\"text-align: right;\">\n",
       "      <th></th>\n",
       "      <th>date</th>\n",
       "      <th>Weather</th>\n",
       "      <th>Temperature</th>\n",
       "      <th>Days From Pull</th>\n",
       "    </tr>\n",
       "  </thead>\n",
       "  <tbody>\n",
       "    <tr>\n",
       "      <th>0</th>\n",
       "      <td>2016-12-07</td>\n",
       "      <td>3</td>\n",
       "      <td>11</td>\n",
       "      <td>0</td>\n",
       "    </tr>\n",
       "    <tr>\n",
       "      <th>1</th>\n",
       "      <td>2016-12-08</td>\n",
       "      <td>8</td>\n",
       "      <td>11</td>\n",
       "      <td>1</td>\n",
       "    </tr>\n",
       "    <tr>\n",
       "      <th>2</th>\n",
       "      <td>2016-12-09</td>\n",
       "      <td>8</td>\n",
       "      <td>9</td>\n",
       "      <td>2</td>\n",
       "    </tr>\n",
       "    <tr>\n",
       "      <th>3</th>\n",
       "      <td>2016-12-10</td>\n",
       "      <td>8</td>\n",
       "      <td>11</td>\n",
       "      <td>3</td>\n",
       "    </tr>\n",
       "    <tr>\n",
       "      <th>4</th>\n",
       "      <td>2016-12-11</td>\n",
       "      <td>1</td>\n",
       "      <td>7</td>\n",
       "      <td>4</td>\n",
       "    </tr>\n",
       "  </tbody>\n",
       "</table>\n",
       "</div>"
      ],
      "text/plain": [
       "         date  Weather  Temperature  Days From Pull\n",
       "0  2016-12-07        3           11               0\n",
       "1  2016-12-08        8           11               1\n",
       "2  2016-12-09        8            9               2\n",
       "3  2016-12-10        8           11               3\n",
       "4  2016-12-11        1            7               4"
      ]
     },
     "execution_count": 222,
     "metadata": {},
     "output_type": "execute_result"
    }
   ],
   "source": [
    "forecast.rename(columns = {'Date':'date'}, inplace = True)\n",
    "forecast.head()"
   ]
  },
  {
   "cell_type": "code",
   "execution_count": 223,
   "metadata": {
    "collapsed": false
   },
   "outputs": [],
   "source": [
    "forecast_piv=forecast.pivot(index='date',columns='Days From Pull', values='Temperature') #piovts data based on date"
   ]
  },
  {
   "cell_type": "code",
   "execution_count": 224,
   "metadata": {
    "collapsed": false
   },
   "outputs": [],
   "source": [
    "forecast_piv.reset_index(level = 0, inplace = True)\n",
    "forecast_piv.rename(columns = {0:'0 day prediction'}, inplace = True)\n",
    "forecast_piv.rename(columns = {1:'1 day prediction'}, inplace = True)\n",
    "forecast_piv.rename(columns = {2:'2 day prediction'}, inplace = True)\n",
    "forecast_piv.rename(columns = {3:'3 day prediction'}, inplace = True)\n",
    "forecast_piv.rename(columns = {4:'4 day prediction'}, inplace = True)"
   ]
  },
  {
   "cell_type": "code",
   "execution_count": 225,
   "metadata": {
    "collapsed": false
   },
   "outputs": [
    {
     "data": {
      "text/html": [
       "<div>\n",
       "<table border=\"1\" class=\"dataframe\">\n",
       "  <thead>\n",
       "    <tr style=\"text-align: right;\">\n",
       "      <th>Days From Pull</th>\n",
       "      <th>date</th>\n",
       "      <th>0 day prediction</th>\n",
       "      <th>1 day prediction</th>\n",
       "      <th>2 day prediction</th>\n",
       "      <th>3 day prediction</th>\n",
       "      <th>4 day prediction</th>\n",
       "    </tr>\n",
       "  </thead>\n",
       "  <tbody>\n",
       "    <tr>\n",
       "      <th>0</th>\n",
       "      <td>2016-12-07</td>\n",
       "      <td>11.0</td>\n",
       "      <td>NaN</td>\n",
       "      <td>NaN</td>\n",
       "      <td>NaN</td>\n",
       "      <td>NaN</td>\n",
       "    </tr>\n",
       "    <tr>\n",
       "      <th>1</th>\n",
       "      <td>2016-12-08</td>\n",
       "      <td>11.0</td>\n",
       "      <td>11.0</td>\n",
       "      <td>NaN</td>\n",
       "      <td>NaN</td>\n",
       "      <td>NaN</td>\n",
       "    </tr>\n",
       "    <tr>\n",
       "      <th>2</th>\n",
       "      <td>2016-12-09</td>\n",
       "      <td>12.0</td>\n",
       "      <td>10.0</td>\n",
       "      <td>9.0</td>\n",
       "      <td>NaN</td>\n",
       "      <td>NaN</td>\n",
       "    </tr>\n",
       "    <tr>\n",
       "      <th>3</th>\n",
       "      <td>2016-12-10</td>\n",
       "      <td>12.0</td>\n",
       "      <td>11.0</td>\n",
       "      <td>11.0</td>\n",
       "      <td>11.0</td>\n",
       "      <td>NaN</td>\n",
       "    </tr>\n",
       "    <tr>\n",
       "      <th>4</th>\n",
       "      <td>2016-12-11</td>\n",
       "      <td>7.0</td>\n",
       "      <td>7.0</td>\n",
       "      <td>7.0</td>\n",
       "      <td>7.0</td>\n",
       "      <td>7.0</td>\n",
       "    </tr>\n",
       "  </tbody>\n",
       "</table>\n",
       "</div>"
      ],
      "text/plain": [
       "Days From Pull        date  0 day prediction  1 day prediction  \\\n",
       "0               2016-12-07              11.0               NaN   \n",
       "1               2016-12-08              11.0              11.0   \n",
       "2               2016-12-09              12.0              10.0   \n",
       "3               2016-12-10              12.0              11.0   \n",
       "4               2016-12-11               7.0               7.0   \n",
       "\n",
       "Days From Pull  2 day prediction  3 day prediction  4 day prediction  \n",
       "0                            NaN               NaN               NaN  \n",
       "1                            NaN               NaN               NaN  \n",
       "2                            9.0               NaN               NaN  \n",
       "3                           11.0              11.0               NaN  \n",
       "4                            7.0               7.0               7.0  "
      ]
     },
     "execution_count": 225,
     "metadata": {},
     "output_type": "execute_result"
    }
   ],
   "source": [
    "forecast_piv.head()"
   ]
  },
  {
   "cell_type": "code",
   "execution_count": 226,
   "metadata": {
    "collapsed": false
   },
   "outputs": [
    {
     "name": "stdout",
     "output_type": "stream",
     "text": [
      "(40L, 6L)\n"
     ]
    }
   ],
   "source": [
    "# convert the df to a numpy array\n",
    "np_counts_f = np.array(forecast_piv)\n",
    "print np_counts_f.shape"
   ]
  },
  {
   "cell_type": "code",
   "execution_count": 227,
   "metadata": {
    "collapsed": false
   },
   "outputs": [
    {
     "data": {
      "text/plain": [
       "u'https://plot.ly/~ra123/26'"
      ]
     },
     "execution_count": 227,
     "metadata": {},
     "output_type": "execute_result"
    }
   ],
   "source": [
    "#code to plot count for keywords for each date. Code will update if any new keywords are added to table.\n",
    "trace_2=[]\n",
    "col_num_2 = len(forecast_piv.columns) #Number of columns in dataframe to use in for loop\n",
    "for i in range(col_num_2):\n",
    "    if i==0:\n",
    "        x_date_2=np_counts_f[:,i] # Sets the x-axis as the date\n",
    "    elif i==1:\n",
    "        y_count_2=np_counts_f[:,i].astype(float) #Sets y-axis as count\n",
    "        trace_2.append(Scatter( x=x_date_2, y=y_count_2, name='Todays temp.(12pm)' ))\n",
    "    elif 4>i>1:\n",
    "        y_count_2=np_counts_f[:,i].astype(float) #Sets y-axis as count\n",
    "        trace_2.append(Scatter( x=x_date_2, y=y_count_2, name=forecast_piv.dtypes.index[i], line = dict(\n",
    "        width = 2,\n",
    "        dash = 'dot'))) #appends list 'trace' with counts for each keyword\n",
    "        \n",
    "        \n",
    "        \n",
    "data_2 = Data(trace_2) #list trace is not data for plotly plot\n",
    "layout_2 = go.Layout( #layout of plotly plot\n",
    "    title='Weather Prediction',\n",
    "    xaxis=dict(\n",
    "        title='Date',\n",
    "        titlefont=dict(\n",
    "            family='Courier New, monospace',\n",
    "            size=18,\n",
    "            color='#7f7f7f'\n",
    "        )\n",
    "    ),\n",
    "    yaxis=dict(\n",
    "        title='Temperature(deg.C)',\n",
    "        titlefont=dict(\n",
    "            family='Courier New, monospace',\n",
    "            size=18,\n",
    "            color='#7f7f7f'\n",
    "        )\n",
    "    )\n",
    ")\n",
    "fig_2 = go.Figure(data=data_2, layout=layout_2)\n",
    "py.plot(fig_2, filename = 'Weather_Prediction') #plotly plot"
   ]
  },
  {
   "cell_type": "code",
   "execution_count": null,
   "metadata": {
    "collapsed": true
   },
   "outputs": [],
   "source": []
  }
 ],
 "metadata": {
  "anaconda-cloud": {},
  "kernelspec": {
   "display_name": "Python [conda root]",
   "language": "python",
   "name": "conda-root-py"
  },
  "language_info": {
   "codemirror_mode": {
    "name": "ipython",
    "version": 2
   },
   "file_extension": ".py",
   "mimetype": "text/x-python",
   "name": "python",
   "nbconvert_exporter": "python",
   "pygments_lexer": "ipython2",
   "version": "2.7.12"
  }
 },
 "nbformat": 4,
 "nbformat_minor": 1
}
